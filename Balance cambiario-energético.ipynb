{
  "nbformat": 4,
  "nbformat_minor": 0,
  "metadata": {
    "colab": {
      "provenance": [],
      "authorship_tag": "ABX9TyMnJhlGNObbeXoZwKW9hhIS"
    },
    "kernelspec": {
      "name": "python3",
      "display_name": "Python 3"
    },
    "language_info": {
      "name": "python"
    }
  },
  "cells": [
    {
      "cell_type": "markdown",
      "source": [
        "# **Resultado móvil de la balanza energética**\n",
        "\n",
        "---\n",
        "\n",
        "\n",
        "\n",
        "El presente archivo contiene el código utilizado para obtener, procesar y analizar los datos correspondientes al Balance Cambiario, publicado mensualmente por el Banco Central de la República Argentina (BCRA).\n",
        "\n",
        "El Balance Cambiario recoge datos de las compras y ventas de moneda extranjera realizadas en el mercado de cambios formal. Se subdivide en numerosas aperturas, que dan cuenta de la multiplicidad de actividades económicas. En particular, se analizará la evolución de 3 partidas: electricidad, gas y petróleo.\n",
        "\n",
        "Como resultado del análisis, se presenta una figura en forma de gráfico de línea rellena (área bajo/sobre línea) que permite visualizar los períodos y niveles de superávit/déficit del balance cambiario-energético."
      ],
      "metadata": {
        "id": "0ioxFh4UmcED"
      }
    },
    {
      "cell_type": "markdown",
      "source": [
        "## Preliminar"
      ],
      "metadata": {
        "id": "9ZVRI0CY_K2d"
      }
    },
    {
      "cell_type": "markdown",
      "source": [
        "### Importación de *libraries*\n",
        "\n",
        "Se importan las *libraries* a utilizar en el código."
      ],
      "metadata": {
        "id": "Wb4Bl30G7H9I"
      }
    },
    {
      "cell_type": "code",
      "source": [
        "import pandas as pd\n",
        "import numpy as np\n",
        "import plotly.graph_objects as go\n",
        "import plotly.io as pio\n",
        "import datetime as dt\n",
        "from datetime import date"
      ],
      "metadata": {
        "id": "rLLWts9fti4E"
      },
      "execution_count": 1,
      "outputs": []
    },
    {
      "cell_type": "markdown",
      "source": [
        "### Exportación a archivo `.pdf`\n",
        "\n",
        "En caso de precisarse exportar las figuras resultantes a formato `.pdf`, se debe instalar el *package* `kaleido`.\n",
        "\n",
        "**IMPORTANTE**: para evitar problemas de desconexión, es recomendable ejecutar el código la siguiente celda y, una vez terminado el proceso de instalación, reiniciar el entorno de ejecución y ejecutar todas las celdas."
      ],
      "metadata": {
        "id": "HJrL1Jgw03te"
      }
    },
    {
      "cell_type": "code",
      "source": [
        "!pip install -U kaleido"
      ],
      "metadata": {
        "id": "YwZ_PfIfbbkT",
        "colab": {
          "base_uri": "https://localhost:8080/"
        },
        "outputId": "50462609-4084-4431-ea53-59d259c802c6"
      },
      "execution_count": 2,
      "outputs": [
        {
          "output_type": "stream",
          "name": "stdout",
          "text": [
            "Looking in indexes: https://pypi.org/simple, https://us-python.pkg.dev/colab-wheels/public/simple/\n",
            "Collecting kaleido\n",
            "  Downloading kaleido-0.2.1-py2.py3-none-manylinux1_x86_64.whl (79.9 MB)\n",
            "\u001b[2K     \u001b[90m━━━━━━━━━━━━━━━━━━━━━━━━━━━━━━━━━━━━━━━━\u001b[0m \u001b[32m79.9/79.9 MB\u001b[0m \u001b[31m9.7 MB/s\u001b[0m eta \u001b[36m0:00:00\u001b[0m\n",
            "\u001b[?25hInstalling collected packages: kaleido\n",
            "Successfully installed kaleido-0.2.1\n"
          ]
        }
      ]
    },
    {
      "cell_type": "markdown",
      "source": [
        "## Resultado móvil de la balanza energética"
      ],
      "metadata": {
        "id": "yFt5roMjFc7E"
      }
    },
    {
      "cell_type": "markdown",
      "source": [
        "### Obtención de datos\n",
        "\n",
        "Los datos del balance cambiario son publicados mensualmente por el Banco Central de la República Argentina (BCRA), en el Informe de la Evolución del Mercado de Cambios y Balance Cambiario.\n",
        "\n",
        "En conjunto con dicho informe, es publicado el Anexo estadístico del balance cambiario, que contiene un desglose de todas las operaciones de cambio, desagregadas por apertura.\n",
        "\n",
        "El link `url_balance` refiere a dicho archivo."
      ],
      "metadata": {
        "id": "UdcoGlSFIxOO"
      }
    },
    {
      "cell_type": "code",
      "source": [
        "url_balance = \"https://www.bcra.gob.ar/Pdfs/PublicacionesEstadisticas/Anexo.xlsm\""
      ],
      "metadata": {
        "id": "kSh5zoeLUeC-"
      },
      "execution_count": 3,
      "outputs": []
    },
    {
      "cell_type": "markdown",
      "source": [
        "En el Anexo estadístico, cada apertura (sector económico) es representado por un código, compuesto por \"mcsec\" y un número de 3 cifras.\n",
        "\n",
        "En particular, son de relevancia las columnas:\n",
        "*   \"Mes\": `mcsec000`\n",
        "*   \"Electricidad (Generación, Transporte, Distribución)\": `mcsec008`\n",
        "*   \"Gas (Extracción, Transporte, Distribución)\": `mcsec011`\n",
        "*   \"Petróleo\": `mcsec024`\n",
        "\n",
        "Estos códigos se encuentran agrupados en la lista `cols`."
      ],
      "metadata": {
        "id": "4qbYp1SeG-_G"
      }
    },
    {
      "cell_type": "code",
      "source": [
        "col_ends = [\"000\", \"008\", \"011\", \"024\"]\n",
        "cols = []\n",
        "for end in col_ends:\n",
        "  cols.append(\"mcsec\"+end)"
      ],
      "metadata": {
        "id": "xhhIWtvaUd7p"
      },
      "execution_count": 4,
      "outputs": []
    },
    {
      "cell_type": "markdown",
      "source": [
        "A partir de `url_balance` y las columnas agrupadas en `cols`, se utiliza la *library* `pandas` para leer la hoja \"Mercado de Camb. - Por sector\" del archivo, ignorando las primeras 25 filas y utilizando solo las columnas deseadas."
      ],
      "metadata": {
        "id": "ZdLVSMeZH7-M"
      }
    },
    {
      "cell_type": "code",
      "source": [
        "balance = pd.read_excel(url_balance, sheet_name=\"Mercado de Camb. - Por sector\", skiprows=25, usecols=cols).drop([0]).reset_index(drop=True)"
      ],
      "metadata": {
        "id": "kbijQ8j6Ud-F"
      },
      "execution_count": 5,
      "outputs": []
    },
    {
      "cell_type": "markdown",
      "source": [
        "### *Data Cleaning*"
      ],
      "metadata": {
        "id": "8FtMlID8JdRZ"
      }
    },
    {
      "cell_type": "markdown",
      "source": [
        "Por motivos de simpleza, se renombran las columnas."
      ],
      "metadata": {
        "id": "ooyImalrIl6B"
      }
    },
    {
      "cell_type": "code",
      "source": [
        "balance = balance.rename(\n",
        "  columns={\n",
        "    cols[0]: \"Período\",\n",
        "    cols[1]: \"Electricidad\",\n",
        "    cols[2]: \"Gas\",\n",
        "    cols[3]: \"Petróleo\"\n",
        "  })"
      ],
      "metadata": {
        "id": "DTyTTPJEUd2O"
      },
      "execution_count": 6,
      "outputs": []
    },
    {
      "cell_type": "markdown",
      "source": [
        "Para crear el índice temporal (columna \"Período\"), debe -primeramente- ser interpretada como un número entero (`.astype(int)`) y -luego- convertirla en formato `datetime`(`pd.to_datetime()`) como cadena de texto (`.astype(str)`), aplicándole el formato correspondiente."
      ],
      "metadata": {
        "id": "lxsFK2X0JmKg"
      }
    },
    {
      "cell_type": "code",
      "source": [
        "balance['Período'] =balance['Período'].astype(int)"
      ],
      "metadata": {
        "id": "_g-D_owyWg02"
      },
      "execution_count": 7,
      "outputs": []
    },
    {
      "cell_type": "code",
      "source": [
        "balance['Período'] = pd.to_datetime(balance['Período'].astype(str), format='%Y%m')"
      ],
      "metadata": {
        "id": "qu8vhva3X4-b"
      },
      "execution_count": 8,
      "outputs": []
    },
    {
      "cell_type": "markdown",
      "source": [
        "Los datos de electricidad, gas y petróleo se suman en una sola columna, \"Total Energía\"."
      ],
      "metadata": {
        "id": "ps35HsXvPgh7"
      }
    },
    {
      "cell_type": "code",
      "source": [
        "balance['Total Energía'] = balance['Electricidad'] + balance['Gas'] + balance['Petróleo']"
      ],
      "metadata": {
        "id": "qHYLfypkWg6L"
      },
      "execution_count": 9,
      "outputs": []
    },
    {
      "cell_type": "markdown",
      "source": [
        "Sobre dicha columna, se calcula la media móvil anual (ventana de 12 meses) mediante el comando `.rolling(12)`."
      ],
      "metadata": {
        "id": "uT0jTWA8TdUI"
      }
    },
    {
      "cell_type": "code",
      "source": [
        "balance['RAvg_12m'] = balance['Total Energía'].rolling(12).sum()"
      ],
      "metadata": {
        "id": "RSuK2T52934c"
      },
      "execution_count": 10,
      "outputs": []
    },
    {
      "cell_type": "markdown",
      "source": [
        "### DataFrame final"
      ],
      "metadata": {
        "id": "6s5Vpht0TviA"
      }
    },
    {
      "cell_type": "markdown",
      "source": [
        "Se eliminan las columnas innecesarias."
      ],
      "metadata": {
        "id": "9H2mgtAWTqpk"
      }
    },
    {
      "cell_type": "code",
      "source": [
        "balance = balance[['Período', 'RAvg_12m']]"
      ],
      "metadata": {
        "id": "Mcosb-gpTt_E"
      },
      "execution_count": 11,
      "outputs": []
    },
    {
      "cell_type": "markdown",
      "source": [
        "Así, queda creado el *DataFrame* que contiene el índice temporal y la media móvil anual.\n",
        "\n",
        "A continuación, se presentan las primeras 5 filas de dicho *DataFrame*."
      ],
      "metadata": {
        "id": "0hZR67feT4Sy"
      }
    },
    {
      "cell_type": "code",
      "source": [
        "balance.head()"
      ],
      "metadata": {
        "id": "dqSeWiCzNUlB",
        "colab": {
          "base_uri": "https://localhost:8080/",
          "height": 206
        },
        "outputId": "959b21aa-96e1-4fab-f767-0119d9ed013e"
      },
      "execution_count": 12,
      "outputs": [
        {
          "output_type": "execute_result",
          "data": {
            "text/plain": [
              "     Período  RAvg_12m\n",
              "0 2003-01-01       NaN\n",
              "1 2003-02-01       NaN\n",
              "2 2003-03-01       NaN\n",
              "3 2003-04-01       NaN\n",
              "4 2003-05-01       NaN"
            ],
            "text/html": [
              "\n",
              "  <div id=\"df-8ff25ecd-c058-4ae7-a7be-31af3f17b8c4\">\n",
              "    <div class=\"colab-df-container\">\n",
              "      <div>\n",
              "<style scoped>\n",
              "    .dataframe tbody tr th:only-of-type {\n",
              "        vertical-align: middle;\n",
              "    }\n",
              "\n",
              "    .dataframe tbody tr th {\n",
              "        vertical-align: top;\n",
              "    }\n",
              "\n",
              "    .dataframe thead th {\n",
              "        text-align: right;\n",
              "    }\n",
              "</style>\n",
              "<table border=\"1\" class=\"dataframe\">\n",
              "  <thead>\n",
              "    <tr style=\"text-align: right;\">\n",
              "      <th></th>\n",
              "      <th>Período</th>\n",
              "      <th>RAvg_12m</th>\n",
              "    </tr>\n",
              "  </thead>\n",
              "  <tbody>\n",
              "    <tr>\n",
              "      <th>0</th>\n",
              "      <td>2003-01-01</td>\n",
              "      <td>NaN</td>\n",
              "    </tr>\n",
              "    <tr>\n",
              "      <th>1</th>\n",
              "      <td>2003-02-01</td>\n",
              "      <td>NaN</td>\n",
              "    </tr>\n",
              "    <tr>\n",
              "      <th>2</th>\n",
              "      <td>2003-03-01</td>\n",
              "      <td>NaN</td>\n",
              "    </tr>\n",
              "    <tr>\n",
              "      <th>3</th>\n",
              "      <td>2003-04-01</td>\n",
              "      <td>NaN</td>\n",
              "    </tr>\n",
              "    <tr>\n",
              "      <th>4</th>\n",
              "      <td>2003-05-01</td>\n",
              "      <td>NaN</td>\n",
              "    </tr>\n",
              "  </tbody>\n",
              "</table>\n",
              "</div>\n",
              "      <button class=\"colab-df-convert\" onclick=\"convertToInteractive('df-8ff25ecd-c058-4ae7-a7be-31af3f17b8c4')\"\n",
              "              title=\"Convert this dataframe to an interactive table.\"\n",
              "              style=\"display:none;\">\n",
              "        \n",
              "  <svg xmlns=\"http://www.w3.org/2000/svg\" height=\"24px\"viewBox=\"0 0 24 24\"\n",
              "       width=\"24px\">\n",
              "    <path d=\"M0 0h24v24H0V0z\" fill=\"none\"/>\n",
              "    <path d=\"M18.56 5.44l.94 2.06.94-2.06 2.06-.94-2.06-.94-.94-2.06-.94 2.06-2.06.94zm-11 1L8.5 8.5l.94-2.06 2.06-.94-2.06-.94L8.5 2.5l-.94 2.06-2.06.94zm10 10l.94 2.06.94-2.06 2.06-.94-2.06-.94-.94-2.06-.94 2.06-2.06.94z\"/><path d=\"M17.41 7.96l-1.37-1.37c-.4-.4-.92-.59-1.43-.59-.52 0-1.04.2-1.43.59L10.3 9.45l-7.72 7.72c-.78.78-.78 2.05 0 2.83L4 21.41c.39.39.9.59 1.41.59.51 0 1.02-.2 1.41-.59l7.78-7.78 2.81-2.81c.8-.78.8-2.07 0-2.86zM5.41 20L4 18.59l7.72-7.72 1.47 1.35L5.41 20z\"/>\n",
              "  </svg>\n",
              "      </button>\n",
              "      \n",
              "  <style>\n",
              "    .colab-df-container {\n",
              "      display:flex;\n",
              "      flex-wrap:wrap;\n",
              "      gap: 12px;\n",
              "    }\n",
              "\n",
              "    .colab-df-convert {\n",
              "      background-color: #E8F0FE;\n",
              "      border: none;\n",
              "      border-radius: 50%;\n",
              "      cursor: pointer;\n",
              "      display: none;\n",
              "      fill: #1967D2;\n",
              "      height: 32px;\n",
              "      padding: 0 0 0 0;\n",
              "      width: 32px;\n",
              "    }\n",
              "\n",
              "    .colab-df-convert:hover {\n",
              "      background-color: #E2EBFA;\n",
              "      box-shadow: 0px 1px 2px rgba(60, 64, 67, 0.3), 0px 1px 3px 1px rgba(60, 64, 67, 0.15);\n",
              "      fill: #174EA6;\n",
              "    }\n",
              "\n",
              "    [theme=dark] .colab-df-convert {\n",
              "      background-color: #3B4455;\n",
              "      fill: #D2E3FC;\n",
              "    }\n",
              "\n",
              "    [theme=dark] .colab-df-convert:hover {\n",
              "      background-color: #434B5C;\n",
              "      box-shadow: 0px 1px 3px 1px rgba(0, 0, 0, 0.15);\n",
              "      filter: drop-shadow(0px 1px 2px rgba(0, 0, 0, 0.3));\n",
              "      fill: #FFFFFF;\n",
              "    }\n",
              "  </style>\n",
              "\n",
              "      <script>\n",
              "        const buttonEl =\n",
              "          document.querySelector('#df-8ff25ecd-c058-4ae7-a7be-31af3f17b8c4 button.colab-df-convert');\n",
              "        buttonEl.style.display =\n",
              "          google.colab.kernel.accessAllowed ? 'block' : 'none';\n",
              "\n",
              "        async function convertToInteractive(key) {\n",
              "          const element = document.querySelector('#df-8ff25ecd-c058-4ae7-a7be-31af3f17b8c4');\n",
              "          const dataTable =\n",
              "            await google.colab.kernel.invokeFunction('convertToInteractive',\n",
              "                                                     [key], {});\n",
              "          if (!dataTable) return;\n",
              "\n",
              "          const docLinkHtml = 'Like what you see? Visit the ' +\n",
              "            '<a target=\"_blank\" href=https://colab.research.google.com/notebooks/data_table.ipynb>data table notebook</a>'\n",
              "            + ' to learn more about interactive tables.';\n",
              "          element.innerHTML = '';\n",
              "          dataTable['output_type'] = 'display_data';\n",
              "          await google.colab.output.renderOutput(dataTable, element);\n",
              "          const docLink = document.createElement('div');\n",
              "          docLink.innerHTML = docLinkHtml;\n",
              "          element.appendChild(docLink);\n",
              "        }\n",
              "      </script>\n",
              "    </div>\n",
              "  </div>\n",
              "  "
            ]
          },
          "metadata": {},
          "execution_count": 12
        }
      ]
    },
    {
      "cell_type": "markdown",
      "source": [
        "Nótese que, por la ventana de 12 meses, las primeras 5 filas arrojan `NaN`. Sin embargo, las últimas 5 filas sí muestran valores correctos."
      ],
      "metadata": {
        "id": "d0lnI3EQUNTv"
      }
    },
    {
      "cell_type": "code",
      "source": [
        "balance.tail()"
      ],
      "metadata": {
        "colab": {
          "base_uri": "https://localhost:8080/",
          "height": 206
        },
        "id": "180HRPcxUXSy",
        "outputId": "d56ebaec-b66c-46bb-ab5c-3dc43bf90ab9"
      },
      "execution_count": 13,
      "outputs": [
        {
          "output_type": "execute_result",
          "data": {
            "text/plain": [
              "       Período   RAvg_12m\n",
              "236 2022-09-01 -8219.6261\n",
              "237 2022-10-01 -8349.4315\n",
              "238 2022-11-01 -8243.1935\n",
              "239 2022-12-01 -8382.3469\n",
              "240 2023-01-01 -8510.0076"
            ],
            "text/html": [
              "\n",
              "  <div id=\"df-80d05fce-3119-4453-9ed4-2fe3a86252ec\">\n",
              "    <div class=\"colab-df-container\">\n",
              "      <div>\n",
              "<style scoped>\n",
              "    .dataframe tbody tr th:only-of-type {\n",
              "        vertical-align: middle;\n",
              "    }\n",
              "\n",
              "    .dataframe tbody tr th {\n",
              "        vertical-align: top;\n",
              "    }\n",
              "\n",
              "    .dataframe thead th {\n",
              "        text-align: right;\n",
              "    }\n",
              "</style>\n",
              "<table border=\"1\" class=\"dataframe\">\n",
              "  <thead>\n",
              "    <tr style=\"text-align: right;\">\n",
              "      <th></th>\n",
              "      <th>Período</th>\n",
              "      <th>RAvg_12m</th>\n",
              "    </tr>\n",
              "  </thead>\n",
              "  <tbody>\n",
              "    <tr>\n",
              "      <th>236</th>\n",
              "      <td>2022-09-01</td>\n",
              "      <td>-8219.6261</td>\n",
              "    </tr>\n",
              "    <tr>\n",
              "      <th>237</th>\n",
              "      <td>2022-10-01</td>\n",
              "      <td>-8349.4315</td>\n",
              "    </tr>\n",
              "    <tr>\n",
              "      <th>238</th>\n",
              "      <td>2022-11-01</td>\n",
              "      <td>-8243.1935</td>\n",
              "    </tr>\n",
              "    <tr>\n",
              "      <th>239</th>\n",
              "      <td>2022-12-01</td>\n",
              "      <td>-8382.3469</td>\n",
              "    </tr>\n",
              "    <tr>\n",
              "      <th>240</th>\n",
              "      <td>2023-01-01</td>\n",
              "      <td>-8510.0076</td>\n",
              "    </tr>\n",
              "  </tbody>\n",
              "</table>\n",
              "</div>\n",
              "      <button class=\"colab-df-convert\" onclick=\"convertToInteractive('df-80d05fce-3119-4453-9ed4-2fe3a86252ec')\"\n",
              "              title=\"Convert this dataframe to an interactive table.\"\n",
              "              style=\"display:none;\">\n",
              "        \n",
              "  <svg xmlns=\"http://www.w3.org/2000/svg\" height=\"24px\"viewBox=\"0 0 24 24\"\n",
              "       width=\"24px\">\n",
              "    <path d=\"M0 0h24v24H0V0z\" fill=\"none\"/>\n",
              "    <path d=\"M18.56 5.44l.94 2.06.94-2.06 2.06-.94-2.06-.94-.94-2.06-.94 2.06-2.06.94zm-11 1L8.5 8.5l.94-2.06 2.06-.94-2.06-.94L8.5 2.5l-.94 2.06-2.06.94zm10 10l.94 2.06.94-2.06 2.06-.94-2.06-.94-.94-2.06-.94 2.06-2.06.94z\"/><path d=\"M17.41 7.96l-1.37-1.37c-.4-.4-.92-.59-1.43-.59-.52 0-1.04.2-1.43.59L10.3 9.45l-7.72 7.72c-.78.78-.78 2.05 0 2.83L4 21.41c.39.39.9.59 1.41.59.51 0 1.02-.2 1.41-.59l7.78-7.78 2.81-2.81c.8-.78.8-2.07 0-2.86zM5.41 20L4 18.59l7.72-7.72 1.47 1.35L5.41 20z\"/>\n",
              "  </svg>\n",
              "      </button>\n",
              "      \n",
              "  <style>\n",
              "    .colab-df-container {\n",
              "      display:flex;\n",
              "      flex-wrap:wrap;\n",
              "      gap: 12px;\n",
              "    }\n",
              "\n",
              "    .colab-df-convert {\n",
              "      background-color: #E8F0FE;\n",
              "      border: none;\n",
              "      border-radius: 50%;\n",
              "      cursor: pointer;\n",
              "      display: none;\n",
              "      fill: #1967D2;\n",
              "      height: 32px;\n",
              "      padding: 0 0 0 0;\n",
              "      width: 32px;\n",
              "    }\n",
              "\n",
              "    .colab-df-convert:hover {\n",
              "      background-color: #E2EBFA;\n",
              "      box-shadow: 0px 1px 2px rgba(60, 64, 67, 0.3), 0px 1px 3px 1px rgba(60, 64, 67, 0.15);\n",
              "      fill: #174EA6;\n",
              "    }\n",
              "\n",
              "    [theme=dark] .colab-df-convert {\n",
              "      background-color: #3B4455;\n",
              "      fill: #D2E3FC;\n",
              "    }\n",
              "\n",
              "    [theme=dark] .colab-df-convert:hover {\n",
              "      background-color: #434B5C;\n",
              "      box-shadow: 0px 1px 3px 1px rgba(0, 0, 0, 0.15);\n",
              "      filter: drop-shadow(0px 1px 2px rgba(0, 0, 0, 0.3));\n",
              "      fill: #FFFFFF;\n",
              "    }\n",
              "  </style>\n",
              "\n",
              "      <script>\n",
              "        const buttonEl =\n",
              "          document.querySelector('#df-80d05fce-3119-4453-9ed4-2fe3a86252ec button.colab-df-convert');\n",
              "        buttonEl.style.display =\n",
              "          google.colab.kernel.accessAllowed ? 'block' : 'none';\n",
              "\n",
              "        async function convertToInteractive(key) {\n",
              "          const element = document.querySelector('#df-80d05fce-3119-4453-9ed4-2fe3a86252ec');\n",
              "          const dataTable =\n",
              "            await google.colab.kernel.invokeFunction('convertToInteractive',\n",
              "                                                     [key], {});\n",
              "          if (!dataTable) return;\n",
              "\n",
              "          const docLinkHtml = 'Like what you see? Visit the ' +\n",
              "            '<a target=\"_blank\" href=https://colab.research.google.com/notebooks/data_table.ipynb>data table notebook</a>'\n",
              "            + ' to learn more about interactive tables.';\n",
              "          element.innerHTML = '';\n",
              "          dataTable['output_type'] = 'display_data';\n",
              "          await google.colab.output.renderOutput(dataTable, element);\n",
              "          const docLink = document.createElement('div');\n",
              "          docLink.innerHTML = docLinkHtml;\n",
              "          element.appendChild(docLink);\n",
              "        }\n",
              "      </script>\n",
              "    </div>\n",
              "  </div>\n",
              "  "
            ]
          },
          "metadata": {},
          "execution_count": 13
        }
      ]
    },
    {
      "cell_type": "markdown",
      "source": [
        "Por último, se exporta el *DataFrame* en formato `.xlsx`."
      ],
      "metadata": {
        "id": "cVMsfhQgsh66"
      }
    },
    {
      "cell_type": "code",
      "source": [
        "balance.to_excel(\"Resultado móvil de la balanza energética.xlsx\", index=False)"
      ],
      "metadata": {
        "id": "W8_etMnLsm13"
      },
      "execution_count": 14,
      "outputs": []
    },
    {
      "cell_type": "markdown",
      "source": [
        "## Figura: Resultado móvil de la balanza energética"
      ],
      "metadata": {
        "id": "oyGEyRLFUAN5"
      }
    },
    {
      "cell_type": "markdown",
      "source": [
        "El resultado acumulado móvil anual puede indicar un superávit (generalmente representado con el color verde) o un déficit (color rojo), para cada mes del año. Se definen, así, los colores."
      ],
      "metadata": {
        "id": "QDt6tTrpZiKZ"
      }
    },
    {
      "cell_type": "code",
      "source": [
        "green = \"#66AA00\"\n",
        "red = \"#B82E2E\""
      ],
      "metadata": {
        "id": "Pt0Fon62cK7q"
      },
      "execution_count": 15,
      "outputs": []
    },
    {
      "cell_type": "markdown",
      "source": [
        "Para facilitar la visualización, es necesario agregar dos columnas al *DataFrame* original: la primera, \"superavit\", toma el valor del resultado acumulado móvil cuando el balance toma valores positivos; la segunda, \"deficit\", hace lo mismo para los valores negativos de la serie."
      ],
      "metadata": {
        "id": "LecrNCxHZxy1"
      }
    },
    {
      "cell_type": "code",
      "source": [
        "balance['superavit'] = balance[\"RAvg_12m\"].where(balance[\"RAvg_12m\"] > 0)\n",
        "balance['deficit'] = balance[\"RAvg_12m\"].where(balance[\"RAvg_12m\"] < 0)"
      ],
      "metadata": {
        "id": "1CX9huWmXkvZ",
        "colab": {
          "base_uri": "https://localhost:8080/"
        },
        "outputId": "c2becfe8-fe07-490d-b5b0-e4d55799e452"
      },
      "execution_count": 16,
      "outputs": [
        {
          "output_type": "stream",
          "name": "stderr",
          "text": [
            "<ipython-input-16-99bc3594d3ce>:1: SettingWithCopyWarning: \n",
            "A value is trying to be set on a copy of a slice from a DataFrame.\n",
            "Try using .loc[row_indexer,col_indexer] = value instead\n",
            "\n",
            "See the caveats in the documentation: https://pandas.pydata.org/pandas-docs/stable/user_guide/indexing.html#returning-a-view-versus-a-copy\n",
            "  balance['superavit'] = balance[\"RAvg_12m\"].where(balance[\"RAvg_12m\"] > 0)\n",
            "<ipython-input-16-99bc3594d3ce>:2: SettingWithCopyWarning: \n",
            "A value is trying to be set on a copy of a slice from a DataFrame.\n",
            "Try using .loc[row_indexer,col_indexer] = value instead\n",
            "\n",
            "See the caveats in the documentation: https://pandas.pydata.org/pandas-docs/stable/user_guide/indexing.html#returning-a-view-versus-a-copy\n",
            "  balance['deficit'] = balance[\"RAvg_12m\"].where(balance[\"RAvg_12m\"] < 0)\n"
          ]
        }
      ]
    },
    {
      "cell_type": "markdown",
      "source": [
        "Se crea la figura `balance_fig` en el entorno de Plotly (utilizando `graph_objects` como `go`)."
      ],
      "metadata": {
        "id": "d87xbZ40sbJU"
      }
    },
    {
      "cell_type": "code",
      "source": [
        "balance_fig = go.Figure()"
      ],
      "metadata": {
        "id": "mhjgReDGmjFy"
      },
      "execution_count": 17,
      "outputs": []
    },
    {
      "cell_type": "markdown",
      "source": [
        "Al tratarse de una sola figura, en este caso, no se define una función, sino que las especificaciones de la figura se encuentran en el argumento de ésta."
      ],
      "metadata": {
        "id": "IMkv4DF2f_AJ"
      }
    },
    {
      "cell_type": "code",
      "source": [
        "for column, color in zip(balance.columns[2:], [green, red]):\n",
        "  balance_fig.add_trace(\n",
        "    go.Scatter(\n",
        "    showlegend=False,\n",
        "    mode='lines',\n",
        "    name=column,\n",
        "    x=balance[balance.columns[0]],\n",
        "    y=balance[column],\n",
        "    line=dict(color=color),\n",
        "    fill='tozeroy')\n",
        "    )\n",
        "\n",
        "balance_fig.add_trace(\n",
        "  go.Scatter(\n",
        "    mode='lines',\n",
        "    showlegend=True,\n",
        "    name=\"Resultado acumulado móvil - 12 meses\",\n",
        "    x=[dt.date(2001, 3, 30), dt.date(2002, 3, 30)],\n",
        "    y=[0, 1],\n",
        "    marker=dict(color=\"lightgray\")))\n",
        "\n",
        "\n",
        "balance_fig.add_trace(\n",
        "  go.Scatter(\n",
        "    showlegend=False,\n",
        "    x=balance[balance.columns[0]].tail(1),\n",
        "    y=balance[\"RAvg_12m\"].tail(1),\n",
        "    mode='markers',\n",
        "    marker=dict(color=red, size=10),\n",
        "    name=\" - EoP\"\n",
        "    )\n",
        ")\n",
        "\n",
        "balance_fig.add_annotation(\n",
        "  x=balance[balance.columns[0]][len(balance)-1],\n",
        "  y=balance[\"RAvg_12m\"][-1:].values[0],\n",
        "  text=round(balance[\"RAvg_12m\"][-1:].values[0], 2).astype(str),\n",
        "  font=dict(color=red),\n",
        "  xanchor=\"left\",\n",
        "  xshift=7.5,\n",
        "  yshift=0,\n",
        "  showarrow=False\n",
        "  )\n",
        "\n",
        "balance_fig = balance_fig.update_layout(\n",
        "    margin=dict(b=15, t=15, l=15, r=60),\n",
        "    height=750, \n",
        "    width=1000, \n",
        "    yaxis_title=\"<b>M USD\",\n",
        "    plot_bgcolor='rgba(0,0,0,0)',\n",
        "    legend=dict(\n",
        "        orientation='h',\n",
        "        xanchor='center', \n",
        "        x=0.5, \n",
        "        yanchor='bottom', \n",
        "        y=1,\n",
        "        font=dict(size=16)\n",
        "        ),\n",
        "    xaxis=dict(\n",
        "        range=[balance[balance.columns[0]][0], dt.date(date.today().year, date.today().month, 1)],\n",
        "        tickformat=\"%m<br><b>%Y\", dtick=\"M12\",\n",
        "        ),\n",
        "    yaxis=dict(\n",
        "        dtick=\"1000\",\n",
        "        showgrid=True,\n",
        "        gridcolor=\"lightgray\",\n",
        "        zeroline=True,\n",
        "        zerolinewidth=1,\n",
        "        zerolinecolor=\"gray\"\n",
        "        ),\n",
        "    font=dict(\n",
        "        size=14,\n",
        "        family=\"Serif\"\n",
        "        )\n",
        "    )"
      ],
      "metadata": {
        "id": "jXOf4roSaXRq"
      },
      "execution_count": 18,
      "outputs": []
    },
    {
      "cell_type": "markdown",
      "source": [
        "A continuación, se exhibe la figura."
      ],
      "metadata": {
        "id": "YJ-0sB4j6pZ6"
      }
    },
    {
      "cell_type": "code",
      "source": [
        "balance_fig.show(\"png\")"
      ],
      "metadata": {
        "colab": {
          "base_uri": "https://localhost:8080/",
          "height": 767
        },
        "outputId": "92a43237-50c6-4b4b-e3e7-c899a1365713",
        "id": "Gt8jQpqG6pZ6"
      },
      "execution_count": 19,
      "outputs": [
        {
          "output_type": "display_data",
          "data": {
            "image/png": "[encoded data removed]"
          },
          "metadata": {}
        }
      ]
    },
    {
      "cell_type": "markdown",
      "source": [
        "Si se desea exportar la figura a formato `.pdf`, se debe des-comentar y ejecutar la siguiente celda. Recuérdese que el *package* `kaleido` debe estar correctamente instalado."
      ],
      "metadata": {
        "id": "GixdbOkC6pZ6"
      }
    },
    {
      "cell_type": "code",
      "source": [
        "pio.write_image(balance_fig, \"Figura Balance Energetico (acum. anual).pdf\", width=3*300, height=2.25*300)"
      ],
      "metadata": {
        "id": "-FK2vqmG6pZ6"
      },
      "execution_count": 20,
      "outputs": []
    }
  ]
}