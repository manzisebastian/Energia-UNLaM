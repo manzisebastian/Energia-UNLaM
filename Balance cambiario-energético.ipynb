{
  "nbformat": 4,
  "nbformat_minor": 0,
  "metadata": {
    "colab": {
      "provenance": [],
      "authorship_tag": "ABX9TyNW6S6xH+wkZrWsQziG3e08"
    },
    "kernelspec": {
      "name": "python3",
      "display_name": "Python 3"
    },
    "language_info": {
      "name": "python"
    }
  },
  "cells": [
    {
      "cell_type": "markdown",
      "source": [
        "# **Resultado móvil de la balanza energética**\n",
        "\n",
        "---\n",
        "\n",
        "\n",
        "\n",
        "El presente archivo contiene el código utilizado para obtener, procesar y analizar los datos correspondientes al Balance Cambiario, publicado mensualmente por el Banco Central de la República Argentina (BCRA).\n",
        "\n",
        "El Balance Cambiario recoge datos de las compras y ventas de moneda extranjera realizadas en el mercado de cambios formal. Se subdivide en numerosas aperturas, que dan cuenta de la multiplicidad de actividades económicas. En particular, se analizará la evolución de 3 partidas: electricidad, gas y petróleo.\n",
        "\n",
        "Como resultado del análisis, se presenta una figura en forma de gráfico de línea rellena (área bajo/sobre línea) que permite visualizar los períodos y niveles de superávit/déficit del balance cambiario-energético."
      ],
      "metadata": {
        "id": "0ioxFh4UmcED"
      }
    },
    {
      "cell_type": "markdown",
      "source": [
        "## Preliminar"
      ],
      "metadata": {
        "id": "9ZVRI0CY_K2d"
      }
    },
    {
      "cell_type": "markdown",
      "source": [
        "### Importación de *libraries*\n",
        "\n",
        "Se importan las *libraries* a utilizar en el código."
      ],
      "metadata": {
        "id": "Wb4Bl30G7H9I"
      }
    },
    {
      "cell_type": "code",
      "source": [
        "import pandas as pd\n",
        "import numpy as np\n",
        "import plotly.graph_objects as go\n",
        "import plotly.io as pio\n",
        "import datetime as dt\n",
        "from datetime import date"
      ],
      "metadata": {
        "id": "rLLWts9fti4E"
      },
      "execution_count": 1,
      "outputs": []
    },
    {
      "cell_type": "markdown",
      "source": [
        "### Exportación a archivo `.pdf`\n",
        "\n",
        "En caso de precisarse exportar las figuras resultantes a formato `.pdf`, se debe instalar el *package* `kaleido`.\n",
        "\n",
        "**IMPORTANTE**: para evitar problemas de desconexión, es recomendable ejecutar el código la siguiente celda y, una vez terminado el proceso de instalación, reiniciar el entorno de ejecución y ejecutar todas las celdas."
      ],
      "metadata": {
        "id": "HJrL1Jgw03te"
      }
    },
    {
      "cell_type": "code",
      "source": [
        "!pip install -U kaleido"
      ],
      "metadata": {
        "id": "YwZ_PfIfbbkT",
        "colab": {
          "base_uri": "https://localhost:8080/"
        },
        "outputId": "9641fc73-222a-4d31-e759-889ffbdb6aa6"
      },
      "execution_count": 2,
      "outputs": [
        {
          "output_type": "stream",
          "name": "stdout",
          "text": [
            "Looking in indexes: https://pypi.org/simple, https://us-python.pkg.dev/colab-wheels/public/simple/\n",
            "Collecting kaleido\n",
            "  Downloading kaleido-0.2.1-py2.py3-none-manylinux1_x86_64.whl (79.9 MB)\n",
            "\u001b[2K     \u001b[90m━━━━━━━━━━━━━━━━━━━━━━━━━━━━━━━━━━━━━━━━\u001b[0m \u001b[32m79.9/79.9 MB\u001b[0m \u001b[31m11.6 MB/s\u001b[0m eta \u001b[36m0:00:00\u001b[0m\n",
            "\u001b[?25hInstalling collected packages: kaleido\n",
            "Successfully installed kaleido-0.2.1\n"
          ]
        }
      ]
    },
    {
      "cell_type": "markdown",
      "source": [
        "## Resultado móvil de la balanza energética"
      ],
      "metadata": {
        "id": "yFt5roMjFc7E"
      }
    },
    {
      "cell_type": "markdown",
      "source": [
        "### Obtención de datos y *DataFrame* final\n",
        "\n",
        "Los datos del balance cambiario son publicados mensualmente por el Banco Central de la República Argentina (BCRA), en el Informe de la Evolución del Mercado de Cambios y Balance Cambiario.\n",
        "\n",
        "En conjunto con dicho informe, es publicado el Anexo estadístico del balance cambiario, que contiene un desglose de todas las operaciones de cambio, desagregadas por apertura.\n",
        "\n",
        "El link `url_balance` refiere a dicho archivo.\n",
        "\n",
        "**Nota**: Desde el mes de abril del año 2023, se publica el nuevo anexo estadístico del mercado de cambios y balance cambiario, discontinuando las publicaciones anteriores desde el 28 de dicho mes."
      ],
      "metadata": {
        "id": "UdcoGlSFIxOO"
      }
    },
    {
      "cell_type": "code",
      "source": [
        "url_balance = \"https://www.bcra.gob.ar/Pdfs/PublicacionesEstadisticas/Nuevo-anexo-MC.xlsm\""
      ],
      "metadata": {
        "id": "kSh5zoeLUeC-"
      },
      "execution_count": 3,
      "outputs": []
    },
    {
      "cell_type": "markdown",
      "source": [
        "A partir de `url_balance`, se utiliza `pandas` para leer la hoja \"Datos Mercado de Cambios\" del archivo, utilizando solo las columnas deseadas."
      ],
      "metadata": {
        "id": "ZdLVSMeZH7-M"
      }
    },
    {
      "cell_type": "code",
      "source": [
        "balance = pd.read_excel(url_balance, sheet_name=\"Datos Mercado de Cambios\", usecols=[1, 2, 3])"
      ],
      "metadata": {
        "id": "kbijQ8j6Ud-F"
      },
      "execution_count": 4,
      "outputs": []
    },
    {
      "cell_type": "markdown",
      "source": [
        "La base de datos contiene todos los ingresos y egresos registrados en el Mercado de Cambios. Para este análisis, solo son relevantes aquellos relacionados con el sector energético. Estos sectores se almacenan en la lista `energy`."
      ],
      "metadata": {
        "id": "0TvCRhB-c2eU"
      }
    },
    {
      "cell_type": "code",
      "source": [
        "energy = [\"Electricidad (Generación, Transporte, Distribución)\",\n",
        "          \"Gas (Extracción, Transporte, Distribución)\",\n",
        "          \"Petróleo\"]"
      ],
      "metadata": {
        "id": "xhhIWtvaUd7p"
      },
      "execution_count": 5,
      "outputs": []
    },
    {
      "cell_type": "markdown",
      "source": [
        "Se filtra el *DataFrame* para que contenga solo aquellas observaciones en las que la columna \"Sector\" sea una variable de interés."
      ],
      "metadata": {
        "id": "n7peKqOpdHSA"
      }
    },
    {
      "cell_type": "code",
      "source": [
        "balance = balance[balance[\"Sector\"].isin(energy)]"
      ],
      "metadata": {
        "id": "D2wohYteaB_y"
      },
      "execution_count": 6,
      "outputs": []
    },
    {
      "cell_type": "markdown",
      "source": [
        "Se agrupa según el período (\"Mes\") utilizando `sum()` (suma) como función de agregación."
      ],
      "metadata": {
        "id": "nOWVjbGNdOks"
      }
    },
    {
      "cell_type": "code",
      "source": [
        "balance = balance.groupby([\"Mes\"], as_index=False)[\"Monto\"].sum()"
      ],
      "metadata": {
        "id": "C44AUBJ0bPy6"
      },
      "execution_count": 7,
      "outputs": []
    },
    {
      "cell_type": "markdown",
      "source": [
        "La columna \"Monto\" está expresada en US\\$. Para expresarla en millones de US\\$, se la divide por 1.000.000."
      ],
      "metadata": {
        "id": "nW0UB7DVhkb-"
      }
    },
    {
      "cell_type": "code",
      "source": [
        "balance[\"Monto\"] = balance[\"Monto\"]/1000000"
      ],
      "metadata": {
        "id": "bwDZiq92hs8d"
      },
      "execution_count": 8,
      "outputs": []
    },
    {
      "cell_type": "markdown",
      "source": [
        "Se crea una media móvil de 12 meses sobre la columna \"Monto\"."
      ],
      "metadata": {
        "id": "dRvNSvVddXWT"
      }
    },
    {
      "cell_type": "code",
      "source": [
        "balance['RAvg_12m'] = balance['Monto'].rolling(12).sum()"
      ],
      "metadata": {
        "id": "RSuK2T52934c"
      },
      "execution_count": 9,
      "outputs": []
    },
    {
      "cell_type": "markdown",
      "source": [
        "Se eliminan las columnas innecesarias."
      ],
      "metadata": {
        "id": "9H2mgtAWTqpk"
      }
    },
    {
      "cell_type": "code",
      "source": [
        "balance = balance[['Mes', 'RAvg_12m']]"
      ],
      "metadata": {
        "id": "Mcosb-gpTt_E"
      },
      "execution_count": 10,
      "outputs": []
    },
    {
      "cell_type": "markdown",
      "source": [
        "Así, queda creado el *DataFrame* que contiene el índice temporal y la media móvil anual.\n",
        "\n",
        "A continuación, se presentan las primeras 5 filas de dicho *DataFrame*."
      ],
      "metadata": {
        "id": "0hZR67feT4Sy"
      }
    },
    {
      "cell_type": "code",
      "source": [
        "balance.head()"
      ],
      "metadata": {
        "id": "dqSeWiCzNUlB",
        "colab": {
          "base_uri": "https://localhost:8080/",
          "height": 206
        },
        "outputId": "2d4be9ab-f4c9-4d6a-c527-1758f667bb26"
      },
      "execution_count": 11,
      "outputs": [
        {
          "output_type": "execute_result",
          "data": {
            "text/plain": [
              "         Mes  RAvg_12m\n",
              "0 2003-01-01       NaN\n",
              "1 2003-02-01       NaN\n",
              "2 2003-03-01       NaN\n",
              "3 2003-04-01       NaN\n",
              "4 2003-05-01       NaN"
            ],
            "text/html": [
              "\n",
              "  <div id=\"df-01aa5940-0cc7-4dba-876f-bc5162d85b9c\">\n",
              "    <div class=\"colab-df-container\">\n",
              "      <div>\n",
              "<style scoped>\n",
              "    .dataframe tbody tr th:only-of-type {\n",
              "        vertical-align: middle;\n",
              "    }\n",
              "\n",
              "    .dataframe tbody tr th {\n",
              "        vertical-align: top;\n",
              "    }\n",
              "\n",
              "    .dataframe thead th {\n",
              "        text-align: right;\n",
              "    }\n",
              "</style>\n",
              "<table border=\"1\" class=\"dataframe\">\n",
              "  <thead>\n",
              "    <tr style=\"text-align: right;\">\n",
              "      <th></th>\n",
              "      <th>Mes</th>\n",
              "      <th>RAvg_12m</th>\n",
              "    </tr>\n",
              "  </thead>\n",
              "  <tbody>\n",
              "    <tr>\n",
              "      <th>0</th>\n",
              "      <td>2003-01-01</td>\n",
              "      <td>NaN</td>\n",
              "    </tr>\n",
              "    <tr>\n",
              "      <th>1</th>\n",
              "      <td>2003-02-01</td>\n",
              "      <td>NaN</td>\n",
              "    </tr>\n",
              "    <tr>\n",
              "      <th>2</th>\n",
              "      <td>2003-03-01</td>\n",
              "      <td>NaN</td>\n",
              "    </tr>\n",
              "    <tr>\n",
              "      <th>3</th>\n",
              "      <td>2003-04-01</td>\n",
              "      <td>NaN</td>\n",
              "    </tr>\n",
              "    <tr>\n",
              "      <th>4</th>\n",
              "      <td>2003-05-01</td>\n",
              "      <td>NaN</td>\n",
              "    </tr>\n",
              "  </tbody>\n",
              "</table>\n",
              "</div>\n",
              "      <button class=\"colab-df-convert\" onclick=\"convertToInteractive('df-01aa5940-0cc7-4dba-876f-bc5162d85b9c')\"\n",
              "              title=\"Convert this dataframe to an interactive table.\"\n",
              "              style=\"display:none;\">\n",
              "        \n",
              "  <svg xmlns=\"http://www.w3.org/2000/svg\" height=\"24px\"viewBox=\"0 0 24 24\"\n",
              "       width=\"24px\">\n",
              "    <path d=\"M0 0h24v24H0V0z\" fill=\"none\"/>\n",
              "    <path d=\"M18.56 5.44l.94 2.06.94-2.06 2.06-.94-2.06-.94-.94-2.06-.94 2.06-2.06.94zm-11 1L8.5 8.5l.94-2.06 2.06-.94-2.06-.94L8.5 2.5l-.94 2.06-2.06.94zm10 10l.94 2.06.94-2.06 2.06-.94-2.06-.94-.94-2.06-.94 2.06-2.06.94z\"/><path d=\"M17.41 7.96l-1.37-1.37c-.4-.4-.92-.59-1.43-.59-.52 0-1.04.2-1.43.59L10.3 9.45l-7.72 7.72c-.78.78-.78 2.05 0 2.83L4 21.41c.39.39.9.59 1.41.59.51 0 1.02-.2 1.41-.59l7.78-7.78 2.81-2.81c.8-.78.8-2.07 0-2.86zM5.41 20L4 18.59l7.72-7.72 1.47 1.35L5.41 20z\"/>\n",
              "  </svg>\n",
              "      </button>\n",
              "      \n",
              "  <style>\n",
              "    .colab-df-container {\n",
              "      display:flex;\n",
              "      flex-wrap:wrap;\n",
              "      gap: 12px;\n",
              "    }\n",
              "\n",
              "    .colab-df-convert {\n",
              "      background-color: #E8F0FE;\n",
              "      border: none;\n",
              "      border-radius: 50%;\n",
              "      cursor: pointer;\n",
              "      display: none;\n",
              "      fill: #1967D2;\n",
              "      height: 32px;\n",
              "      padding: 0 0 0 0;\n",
              "      width: 32px;\n",
              "    }\n",
              "\n",
              "    .colab-df-convert:hover {\n",
              "      background-color: #E2EBFA;\n",
              "      box-shadow: 0px 1px 2px rgba(60, 64, 67, 0.3), 0px 1px 3px 1px rgba(60, 64, 67, 0.15);\n",
              "      fill: #174EA6;\n",
              "    }\n",
              "\n",
              "    [theme=dark] .colab-df-convert {\n",
              "      background-color: #3B4455;\n",
              "      fill: #D2E3FC;\n",
              "    }\n",
              "\n",
              "    [theme=dark] .colab-df-convert:hover {\n",
              "      background-color: #434B5C;\n",
              "      box-shadow: 0px 1px 3px 1px rgba(0, 0, 0, 0.15);\n",
              "      filter: drop-shadow(0px 1px 2px rgba(0, 0, 0, 0.3));\n",
              "      fill: #FFFFFF;\n",
              "    }\n",
              "  </style>\n",
              "\n",
              "      <script>\n",
              "        const buttonEl =\n",
              "          document.querySelector('#df-01aa5940-0cc7-4dba-876f-bc5162d85b9c button.colab-df-convert');\n",
              "        buttonEl.style.display =\n",
              "          google.colab.kernel.accessAllowed ? 'block' : 'none';\n",
              "\n",
              "        async function convertToInteractive(key) {\n",
              "          const element = document.querySelector('#df-01aa5940-0cc7-4dba-876f-bc5162d85b9c');\n",
              "          const dataTable =\n",
              "            await google.colab.kernel.invokeFunction('convertToInteractive',\n",
              "                                                     [key], {});\n",
              "          if (!dataTable) return;\n",
              "\n",
              "          const docLinkHtml = 'Like what you see? Visit the ' +\n",
              "            '<a target=\"_blank\" href=https://colab.research.google.com/notebooks/data_table.ipynb>data table notebook</a>'\n",
              "            + ' to learn more about interactive tables.';\n",
              "          element.innerHTML = '';\n",
              "          dataTable['output_type'] = 'display_data';\n",
              "          await google.colab.output.renderOutput(dataTable, element);\n",
              "          const docLink = document.createElement('div');\n",
              "          docLink.innerHTML = docLinkHtml;\n",
              "          element.appendChild(docLink);\n",
              "        }\n",
              "      </script>\n",
              "    </div>\n",
              "  </div>\n",
              "  "
            ]
          },
          "metadata": {},
          "execution_count": 11
        }
      ]
    },
    {
      "cell_type": "markdown",
      "source": [
        "Nótese que, por la ventana de 12 meses, las primeras 5 filas arrojan `NaN`. Sin embargo, las últimas 5 filas sí muestran valores correctos."
      ],
      "metadata": {
        "id": "d0lnI3EQUNTv"
      }
    },
    {
      "cell_type": "code",
      "source": [
        "balance.tail()"
      ],
      "metadata": {
        "colab": {
          "base_uri": "https://localhost:8080/",
          "height": 206
        },
        "id": "180HRPcxUXSy",
        "outputId": "20ac3392-3b3c-42ff-9d4a-f5dc751b9315"
      },
      "execution_count": 12,
      "outputs": [
        {
          "output_type": "execute_result",
          "data": {
            "text/plain": [
              "           Mes     RAvg_12m\n",
              "238 2022-11-01 -8243.193684\n",
              "239 2022-12-01 -8382.347050\n",
              "240 2023-01-01 -8510.007774\n",
              "241 2023-02-01 -8359.969299\n",
              "242 2023-03-01 -7925.158810"
            ],
            "text/html": [
              "\n",
              "  <div id=\"df-cb6ef6d5-6ae7-4565-9181-a7a2cbb8b894\">\n",
              "    <div class=\"colab-df-container\">\n",
              "      <div>\n",
              "<style scoped>\n",
              "    .dataframe tbody tr th:only-of-type {\n",
              "        vertical-align: middle;\n",
              "    }\n",
              "\n",
              "    .dataframe tbody tr th {\n",
              "        vertical-align: top;\n",
              "    }\n",
              "\n",
              "    .dataframe thead th {\n",
              "        text-align: right;\n",
              "    }\n",
              "</style>\n",
              "<table border=\"1\" class=\"dataframe\">\n",
              "  <thead>\n",
              "    <tr style=\"text-align: right;\">\n",
              "      <th></th>\n",
              "      <th>Mes</th>\n",
              "      <th>RAvg_12m</th>\n",
              "    </tr>\n",
              "  </thead>\n",
              "  <tbody>\n",
              "    <tr>\n",
              "      <th>238</th>\n",
              "      <td>2022-11-01</td>\n",
              "      <td>-8243.193684</td>\n",
              "    </tr>\n",
              "    <tr>\n",
              "      <th>239</th>\n",
              "      <td>2022-12-01</td>\n",
              "      <td>-8382.347050</td>\n",
              "    </tr>\n",
              "    <tr>\n",
              "      <th>240</th>\n",
              "      <td>2023-01-01</td>\n",
              "      <td>-8510.007774</td>\n",
              "    </tr>\n",
              "    <tr>\n",
              "      <th>241</th>\n",
              "      <td>2023-02-01</td>\n",
              "      <td>-8359.969299</td>\n",
              "    </tr>\n",
              "    <tr>\n",
              "      <th>242</th>\n",
              "      <td>2023-03-01</td>\n",
              "      <td>-7925.158810</td>\n",
              "    </tr>\n",
              "  </tbody>\n",
              "</table>\n",
              "</div>\n",
              "      <button class=\"colab-df-convert\" onclick=\"convertToInteractive('df-cb6ef6d5-6ae7-4565-9181-a7a2cbb8b894')\"\n",
              "              title=\"Convert this dataframe to an interactive table.\"\n",
              "              style=\"display:none;\">\n",
              "        \n",
              "  <svg xmlns=\"http://www.w3.org/2000/svg\" height=\"24px\"viewBox=\"0 0 24 24\"\n",
              "       width=\"24px\">\n",
              "    <path d=\"M0 0h24v24H0V0z\" fill=\"none\"/>\n",
              "    <path d=\"M18.56 5.44l.94 2.06.94-2.06 2.06-.94-2.06-.94-.94-2.06-.94 2.06-2.06.94zm-11 1L8.5 8.5l.94-2.06 2.06-.94-2.06-.94L8.5 2.5l-.94 2.06-2.06.94zm10 10l.94 2.06.94-2.06 2.06-.94-2.06-.94-.94-2.06-.94 2.06-2.06.94z\"/><path d=\"M17.41 7.96l-1.37-1.37c-.4-.4-.92-.59-1.43-.59-.52 0-1.04.2-1.43.59L10.3 9.45l-7.72 7.72c-.78.78-.78 2.05 0 2.83L4 21.41c.39.39.9.59 1.41.59.51 0 1.02-.2 1.41-.59l7.78-7.78 2.81-2.81c.8-.78.8-2.07 0-2.86zM5.41 20L4 18.59l7.72-7.72 1.47 1.35L5.41 20z\"/>\n",
              "  </svg>\n",
              "      </button>\n",
              "      \n",
              "  <style>\n",
              "    .colab-df-container {\n",
              "      display:flex;\n",
              "      flex-wrap:wrap;\n",
              "      gap: 12px;\n",
              "    }\n",
              "\n",
              "    .colab-df-convert {\n",
              "      background-color: #E8F0FE;\n",
              "      border: none;\n",
              "      border-radius: 50%;\n",
              "      cursor: pointer;\n",
              "      display: none;\n",
              "      fill: #1967D2;\n",
              "      height: 32px;\n",
              "      padding: 0 0 0 0;\n",
              "      width: 32px;\n",
              "    }\n",
              "\n",
              "    .colab-df-convert:hover {\n",
              "      background-color: #E2EBFA;\n",
              "      box-shadow: 0px 1px 2px rgba(60, 64, 67, 0.3), 0px 1px 3px 1px rgba(60, 64, 67, 0.15);\n",
              "      fill: #174EA6;\n",
              "    }\n",
              "\n",
              "    [theme=dark] .colab-df-convert {\n",
              "      background-color: #3B4455;\n",
              "      fill: #D2E3FC;\n",
              "    }\n",
              "\n",
              "    [theme=dark] .colab-df-convert:hover {\n",
              "      background-color: #434B5C;\n",
              "      box-shadow: 0px 1px 3px 1px rgba(0, 0, 0, 0.15);\n",
              "      filter: drop-shadow(0px 1px 2px rgba(0, 0, 0, 0.3));\n",
              "      fill: #FFFFFF;\n",
              "    }\n",
              "  </style>\n",
              "\n",
              "      <script>\n",
              "        const buttonEl =\n",
              "          document.querySelector('#df-cb6ef6d5-6ae7-4565-9181-a7a2cbb8b894 button.colab-df-convert');\n",
              "        buttonEl.style.display =\n",
              "          google.colab.kernel.accessAllowed ? 'block' : 'none';\n",
              "\n",
              "        async function convertToInteractive(key) {\n",
              "          const element = document.querySelector('#df-cb6ef6d5-6ae7-4565-9181-a7a2cbb8b894');\n",
              "          const dataTable =\n",
              "            await google.colab.kernel.invokeFunction('convertToInteractive',\n",
              "                                                     [key], {});\n",
              "          if (!dataTable) return;\n",
              "\n",
              "          const docLinkHtml = 'Like what you see? Visit the ' +\n",
              "            '<a target=\"_blank\" href=https://colab.research.google.com/notebooks/data_table.ipynb>data table notebook</a>'\n",
              "            + ' to learn more about interactive tables.';\n",
              "          element.innerHTML = '';\n",
              "          dataTable['output_type'] = 'display_data';\n",
              "          await google.colab.output.renderOutput(dataTable, element);\n",
              "          const docLink = document.createElement('div');\n",
              "          docLink.innerHTML = docLinkHtml;\n",
              "          element.appendChild(docLink);\n",
              "        }\n",
              "      </script>\n",
              "    </div>\n",
              "  </div>\n",
              "  "
            ]
          },
          "metadata": {},
          "execution_count": 12
        }
      ]
    },
    {
      "cell_type": "markdown",
      "source": [
        "Por último, se exporta el *DataFrame* en formato `.xlsx`."
      ],
      "metadata": {
        "id": "cVMsfhQgsh66"
      }
    },
    {
      "cell_type": "code",
      "source": [
        "balance.to_excel(\"Resultado móvil de la balanza energética.xlsx\", index=False)"
      ],
      "metadata": {
        "id": "W8_etMnLsm13"
      },
      "execution_count": 13,
      "outputs": []
    },
    {
      "cell_type": "markdown",
      "source": [
        "## Figura: Resultado móvil de la balanza energética"
      ],
      "metadata": {
        "id": "oyGEyRLFUAN5"
      }
    },
    {
      "cell_type": "markdown",
      "source": [
        "El resultado acumulado móvil anual puede indicar un superávit (generalmente representado con el color verde) o un déficit (color rojo), para cada mes del año. Se definen, así, los colores."
      ],
      "metadata": {
        "id": "QDt6tTrpZiKZ"
      }
    },
    {
      "cell_type": "code",
      "source": [
        "green = \"#66AA00\"\n",
        "red = \"#B82E2E\""
      ],
      "metadata": {
        "id": "Pt0Fon62cK7q"
      },
      "execution_count": 14,
      "outputs": []
    },
    {
      "cell_type": "markdown",
      "source": [
        "Para facilitar la visualización, es necesario agregar dos columnas al *DataFrame* original: la primera, \"superavit\", toma el valor del resultado acumulado móvil cuando el balance toma valores positivos; la segunda, \"deficit\", hace lo mismo para los valores negativos de la serie."
      ],
      "metadata": {
        "id": "LecrNCxHZxy1"
      }
    },
    {
      "cell_type": "code",
      "source": [
        "balance['superavit'] = balance[\"RAvg_12m\"].where(balance[\"RAvg_12m\"] > 0)\n",
        "balance['deficit'] = balance[\"RAvg_12m\"].where(balance[\"RAvg_12m\"] < 0)"
      ],
      "metadata": {
        "id": "1CX9huWmXkvZ"
      },
      "execution_count": 15,
      "outputs": []
    },
    {
      "cell_type": "markdown",
      "source": [
        "Se crea la figura `balance_fig` en el entorno de Plotly (utilizando `graph_objects` como `go`)."
      ],
      "metadata": {
        "id": "d87xbZ40sbJU"
      }
    },
    {
      "cell_type": "code",
      "source": [
        "balance_fig = go.Figure()"
      ],
      "metadata": {
        "id": "mhjgReDGmjFy"
      },
      "execution_count": 16,
      "outputs": []
    },
    {
      "cell_type": "markdown",
      "source": [
        "Al tratarse de una sola figura, en este caso, no se define una función, sino que las especificaciones de la figura se encuentran en el argumento de ésta."
      ],
      "metadata": {
        "id": "IMkv4DF2f_AJ"
      }
    },
    {
      "cell_type": "code",
      "source": [
        "for column, color in zip(balance.columns[2:], [green, red]):\n",
        "  balance_fig.add_trace(\n",
        "    go.Scatter(\n",
        "    showlegend=False,\n",
        "    mode='lines',\n",
        "    name=column,\n",
        "    x=balance[balance.columns[0]],\n",
        "    y=balance[column],\n",
        "    line=dict(color=color),\n",
        "    fill='tozeroy')\n",
        "    )\n",
        "\n",
        "balance_fig.add_trace(\n",
        "  go.Scatter(\n",
        "    mode='lines',\n",
        "    showlegend=True,\n",
        "    name=\"Resultado acumulado móvil - 12 meses\",\n",
        "    x=[dt.date(2001, 3, 30), dt.date(2002, 3, 30)],\n",
        "    y=[0, 1],\n",
        "    marker=dict(color=\"lightgray\")))\n",
        "\n",
        "\n",
        "balance_fig.add_trace(\n",
        "  go.Scatter(\n",
        "    showlegend=False,\n",
        "    x=balance[balance.columns[0]].tail(1),\n",
        "    y=balance[\"RAvg_12m\"].tail(1),\n",
        "    mode='markers',\n",
        "    marker=dict(color=red, size=10),\n",
        "    name=\" - EoP\"\n",
        "    )\n",
        ")\n",
        "\n",
        "balance_fig.add_annotation(\n",
        "  x=balance[balance.columns[0]][len(balance)-1],\n",
        "  y=balance[\"RAvg_12m\"][-1:].values[0],\n",
        "  text=round(balance[\"RAvg_12m\"][-1:].values[0], 2).astype(str),\n",
        "  font=dict(color=red),\n",
        "  xanchor=\"left\",\n",
        "  xshift=7.5,\n",
        "  yshift=0,\n",
        "  showarrow=False\n",
        "  )\n",
        "\n",
        "balance_fig = balance_fig.update_layout(\n",
        "    margin=dict(b=15, t=15, l=15, r=60),\n",
        "    height=750, \n",
        "    width=1000, \n",
        "    yaxis_title=\"<b>M USD\",\n",
        "    plot_bgcolor='rgba(0,0,0,0)',\n",
        "    legend=dict(\n",
        "        orientation='h',\n",
        "        xanchor='center', \n",
        "        x=0.5, \n",
        "        yanchor='bottom', \n",
        "        y=1,\n",
        "        font=dict(size=16)\n",
        "        ),\n",
        "    xaxis=dict(\n",
        "        range=[balance[balance.columns[0]][0], dt.date(date.today().year, date.today().month, 1)],\n",
        "        tickformat=\"%m<br><b>%Y\", dtick=\"M12\",\n",
        "        ),\n",
        "    yaxis=dict(\n",
        "        dtick=\"1000\",\n",
        "        showgrid=True,\n",
        "        gridcolor=\"lightgray\",\n",
        "        zeroline=True,\n",
        "        zerolinewidth=1,\n",
        "        zerolinecolor=\"gray\"\n",
        "        ),\n",
        "    font=dict(\n",
        "        size=14,\n",
        "        family=\"Serif\"\n",
        "        )\n",
        "    )"
      ],
      "metadata": {
        "id": "jXOf4roSaXRq"
      },
      "execution_count": 17,
      "outputs": []
    },
    {
      "cell_type": "markdown",
      "source": [
        "A continuación, se exhibe la figura."
      ],
      "metadata": {
        "id": "YJ-0sB4j6pZ6"
      }
    },
    {
      "cell_type": "code",
      "source": [
        "balance_fig.show(\"png\")"
      ],
      "metadata": {
        "colab": {
          "base_uri": "https://localhost:8080/",
          "height": 767
        },
        "outputId": "06c0733e-28e8-42b0-fb0f-143e80271668",
        "id": "Gt8jQpqG6pZ6"
      },
      "execution_count": 18,
      "outputs": [
        {
          "output_type": "display_data",
          "data": {
            "image/png": "[encoded data removed]"
          },
          "metadata": {}
        }
      ]
    },
    {
      "cell_type": "markdown",
      "source": [
        "Si se desea exportar la figura a formato `.pdf`, se debe des-comentar y ejecutar la siguiente celda. Recuérdese que el *package* `kaleido` debe estar correctamente instalado."
      ],
      "metadata": {
        "id": "GixdbOkC6pZ6"
      }
    },
    {
      "cell_type": "code",
      "source": [
        "pio.write_image(balance_fig, \"Figura Balance Energetico (acum. anual).pdf\", width=3*300, height=2.25*300)"
      ],
      "metadata": {
        "id": "-FK2vqmG6pZ6"
      },
      "execution_count": 19,
      "outputs": []
    }
  ]
}