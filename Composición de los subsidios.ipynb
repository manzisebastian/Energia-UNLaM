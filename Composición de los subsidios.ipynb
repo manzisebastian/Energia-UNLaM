{
  "nbformat": 4,
  "nbformat_minor": 0,
  "metadata": {
    "colab": {
      "provenance": [],
      "authorship_tag": "ABX9TyPdyiyWqtqs1asTbc1TjqOl"
    },
    "kernelspec": {
      "name": "python3",
      "display_name": "Python 3"
    },
    "language_info": {
      "name": "python"
    }
  },
  "cells": [
    {
      "cell_type": "markdown",
      "source": [
        "# **Composición de los subsidios económicos**\n",
        "\n",
        "---\n",
        "\n",
        "Los subsidios económicos (a la energía, al transporte y a otras funciones) son -junto a las prestaciones sociales y los gastos de funcionamiento- uno de los gastos corrientes primarios más cuantiosos. Por ello, el análisis de su evolución resulta de notable importancia para la agenda económica.\n",
        "\n",
        "El presente archivo contiene el código utilizado para obtener, procesar y analizar los datos de los montos erogados en concepto de subsidios económicos desde el año 2019.\n",
        "\n",
        "Se elaborará una figura en forma de gráfico de barras apiladas que permita visualizar la evolución de dicho monto en igual período analizado de cada año.\n",
        "\n",
        "Como resultado del análisis de datos, se presenta una figura en forma de gráfico de barras apiladas, que permite visualizar la evolución de los montos en períodos acumulados de cada año. La agrupación será por tipo de subsidios: subsidios a la energía, al transporte, y a otras funciones."
      ],
      "metadata": {
        "id": "JAxHvnxAxEuD"
      }
    },
    {
      "cell_type": "markdown",
      "source": [
        "## Preliminar"
      ],
      "metadata": {
        "id": "Q8VY5QjxPQhK"
      }
    },
    {
      "cell_type": "markdown",
      "source": [
        "### Importación de *libraries*\n",
        "\n",
        "Se importan las *libraries* a utilizar en el código."
      ],
      "metadata": {
        "id": "Wb4Bl30G7H9I"
      }
    },
    {
      "cell_type": "code",
      "source": [
        "import pandas as pd\n",
        "import plotly.graph_objects as go\n",
        "import plotly.io as pio"
      ],
      "metadata": {
        "id": "rLLWts9fti4E"
      },
      "execution_count": 1,
      "outputs": []
    },
    {
      "cell_type": "markdown",
      "source": [
        "### Exportación a archivo `.pdf`\n",
        "\n",
        "En caso de precisarse exportar las figuras resultantes a formato `.pdf`, se debe instalar el *package* `kaleido`.\n",
        "\n",
        "**IMPORTANTE**: para evitar problemas de desconexión, es recomendable ejecutar el código la siguiente celda y, una vez terminado el proceso de instalación, reiniciar el entorno de ejecución y ejecutar todas las celdas."
      ],
      "metadata": {
        "id": "HJrL1Jgw03te"
      }
    },
    {
      "cell_type": "code",
      "source": [
        "!pip install -U kaleido"
      ],
      "metadata": {
        "id": "YwZ_PfIfbbkT",
        "colab": {
          "base_uri": "https://localhost:8080/"
        },
        "outputId": "f0065c86-cbb8-4e4a-dc31-346b6710733f"
      },
      "execution_count": 2,
      "outputs": [
        {
          "output_type": "stream",
          "name": "stdout",
          "text": [
            "Looking in indexes: https://pypi.org/simple, https://us-python.pkg.dev/colab-wheels/public/simple/\n",
            "Collecting kaleido\n",
            "  Downloading kaleido-0.2.1-py2.py3-none-manylinux1_x86_64.whl (79.9 MB)\n",
            "\u001b[2K     \u001b[90m━━━━━━━━━━━━━━━━━━━━━━━━━━━━━━━━━━━━━━━━\u001b[0m \u001b[32m79.9/79.9 MB\u001b[0m \u001b[31m12.9 MB/s\u001b[0m eta \u001b[36m0:00:00\u001b[0m\n",
            "\u001b[?25hInstalling collected packages: kaleido\n",
            "Successfully installed kaleido-0.2.1\n"
          ]
        }
      ]
    },
    {
      "cell_type": "markdown",
      "source": [
        "## Obtención y limpieza de datos"
      ],
      "metadata": {
        "id": "qH8lXb-qvIHX"
      }
    },
    {
      "cell_type": "markdown",
      "source": [
        "### Subsidios económicos\n",
        "\n",
        "Los montos erogados por el Estado Nacional (en millones de pesos argentinos corrientes, $) en concepto de subsidios económicos son publicados mensualmente en las ejecuciones presupuestarias (Oficina Nacional de Presupuesto, ONP).\n",
        "\n",
        "Los informes de ejecución presupuestaria a examinar son aquellos en los que se presentan datos de la Cuenta Ahorro-Inversión-Financiamiento (AIF) del Sector Público Nacional (Base Caja).\n",
        "\n",
        "En particular, se deben extraer los datos vertidos en el Informe Mensual de Ingresos y Gastos del Sector Público Nacional No Financiero (IMIG). En él, los montos de gasto mensual en concepto de subsidios económicos se encuentran en la siguiente *ruta*:\n",
        "\n",
        "*   Gastos Primarios\n",
        "  *   Gastos corrientes primarios\n",
        "     *   Subsidios económicos\n",
        "         *   Energía\n",
        "         *   Transporte\n",
        "         *   Otras funciones\n",
        "\n",
        "Las series mensuales (desde 2016) de estos montos son publicadas en el portal de Datos Abiertos del Gobierno Nacional (https://datos.gob.ar/) bajo el título general de \"IMIG. Gastos primarios. Gastos corrientes primarios. Subsidios económicos.\".\n",
        "\n",
        "La API de Series de Tiempo del portal de Datos Argentina (Datos Abiertos de la República Argentina, https://datos.gob.ar) permite consultar indicadores con evolución en el tiempo.\n",
        "\n",
        "La documentación de dicha API puede encontrarse en: https://datosgobar.github.io/series-tiempo-ar-api/"
      ],
      "metadata": {
        "id": "-Hy2cerT4Mtn"
      }
    },
    {
      "cell_type": "markdown",
      "source": [
        "Para utilizarla, primeramente, se eligen los *datasets* (o series de tiempo) deseadas. Cada serie de tiempo está representada por un *id* único.\n",
        "\n",
        "La lista `ids` contiene el *id* correspondiente a cada serie de tiempo deseada."
      ],
      "metadata": {
        "id": "0e34bWXwtj1K"
      }
    },
    {
      "cell_type": "code",
      "source": [
        "ids = [\"452.2_ENERGIAGIA_0_T_7_56\",\n",
        "       \"452.2_TRANSPORTERTE_0_T_10_32\",\n",
        "       \"452.2_OTRAS_FUNCNES_0_T_15_25\"]"
      ],
      "metadata": {
        "id": "JWRuqQr4TeHZ"
      },
      "execution_count": 3,
      "outputs": []
    },
    {
      "cell_type": "markdown",
      "source": [
        "Dado que la API permite efectuar consultas combinadas, evitando iteraciones innecesarias, se concatenan los elementos de la lista `ids`, separados por una coma (`,`) en una sola cadena de texto (`string`).\n",
        "\n",
        "Así, la cadena de texto `ids` contendrá cada uno de los `id` de los *datasets* a examinar, separados por una coma."
      ],
      "metadata": {
        "id": "wnlLJ09a3y97"
      }
    },
    {
      "cell_type": "code",
      "source": [
        "ids = \",\".join(map(str, ids))"
      ],
      "metadata": {
        "id": "y7PgxHc-VMSd"
      },
      "execution_count": 4,
      "outputs": []
    },
    {
      "cell_type": "markdown",
      "source": [
        "Se *setea*, arbitrariamente, el comienzo del análisis en el año 2019, y se almacena en una variable llamada `start`. El formato de `start` será, también, una cadena de texto."
      ],
      "metadata": {
        "id": "flC2cK_G4_qz"
      }
    },
    {
      "cell_type": "code",
      "source": [
        "start = \"2019\""
      ],
      "metadata": {
        "id": "9Iudj2UEWSPo"
      },
      "execution_count": 5,
      "outputs": []
    },
    {
      "cell_type": "markdown",
      "source": [
        "A partir de los valores definidos  las cadenas de texto `ids` y en `start`, se crea una `f-string` (`url_api_call`) que funcione para hacer un *call* a la API antes mencionada.\n",
        "\n",
        "`url_api_call` devolverá un archivo `.csv` (dado que `&format=csv`) que contiene los valores de los *datasets* identificados en `ids` a partir del año especificado en `start`."
      ],
      "metadata": {
        "id": "5Dr1GTX95m52"
      }
    },
    {
      "cell_type": "code",
      "source": [
        "url_api_call = f\"https://apis.datos.gob.ar/series/api/series/?ids={ids}&start_date={start}&format=csv\""
      ],
      "metadata": {
        "id": "gMiSqArTT8RG"
      },
      "execution_count": 6,
      "outputs": []
    },
    {
      "cell_type": "markdown",
      "source": [
        "De esta manera, a partir de `url_api_call`, se puede generar el *call* a la API directamente desde un *DataFrame* creado en `pandas` con el comando `read_csv`. \n",
        "\n",
        "Así, se crea el *DataFrame* `subsidios`, que contiene los datos de los montos erogadso por el estado en concepto de subsidios, según tipo de subsidio, desde enero del 2019."
      ],
      "metadata": {
        "id": "UzPIU30A7MzM"
      }
    },
    {
      "cell_type": "code",
      "source": [
        "subsidios = pd.read_csv(url_api_call)"
      ],
      "metadata": {
        "id": "x8nQ65ltW88-"
      },
      "execution_count": 7,
      "outputs": []
    },
    {
      "cell_type": "markdown",
      "source": [
        "Se convierte en formato `datetime` a la columna \"indice_tiempo\", y se cambia el orden del día (`dayfirst=True`)."
      ],
      "metadata": {
        "id": "ZvOhjvCkfcW6"
      }
    },
    {
      "cell_type": "code",
      "source": [
        "subsidios[\"indice_tiempo\"] = pd.to_datetime(subsidios[\"indice_tiempo\"], dayfirst=True)"
      ],
      "metadata": {
        "id": "Rd8XijfcXi_U"
      },
      "execution_count": 8,
      "outputs": []
    },
    {
      "cell_type": "markdown",
      "source": [
        "Se crean dos columnas (\"Mes\" y \"Año\") que contienen, respectivamente, los valores del mes y año de cada dato."
      ],
      "metadata": {
        "id": "jCeiHaoF_TWT"
      }
    },
    {
      "cell_type": "code",
      "source": [
        "subsidios[\"Mes\"] = subsidios[\"indice_tiempo\"].dt.month"
      ],
      "metadata": {
        "id": "BtxqTEnFXspO"
      },
      "execution_count": 9,
      "outputs": []
    },
    {
      "cell_type": "code",
      "source": [
        "subsidios[\"Año\"] = subsidios[\"indice_tiempo\"].dt.year.astype(str)"
      ],
      "metadata": {
        "id": "anK9u4kXYDLa"
      },
      "execution_count": 10,
      "outputs": []
    },
    {
      "cell_type": "markdown",
      "source": [
        "Dado que el análisis se efectúa para los primeros *n* meses del año, los meses a analizar se especifican en la lista `meses_analisis`."
      ],
      "metadata": {
        "id": "G8WXgKR7_3ho"
      }
    },
    {
      "cell_type": "code",
      "source": [
        "ultimo_mes_analisis = 1\n",
        "meses_analisis = list(range(1, ultimo_mes_analisis + 1))"
      ],
      "metadata": {
        "id": "u0PiXVR-uy5q"
      },
      "execution_count": 11,
      "outputs": []
    },
    {
      "cell_type": "markdown",
      "source": [
        "Finalmente, se conservan solo los valores de los meses de análisis (es decir, aquellos datos en los que el valor de la columna \"Mes\" se encuentra en la lista `meses_analisis`."
      ],
      "metadata": {
        "id": "3aprjqNAAyTe"
      }
    },
    {
      "cell_type": "code",
      "source": [
        "subsidios = subsidios[subsidios[\"Mes\"].isin(meses_analisis)]"
      ],
      "metadata": {
        "id": "LttHxxrCEpWH"
      },
      "execution_count": 12,
      "outputs": []
    },
    {
      "cell_type": "markdown",
      "source": [
        "### Tipo de cambio\n",
        "\n",
        "Los montos erogados en concepto de subsidios están en $ (pesos argentinos). Dado que se los quiere expresar en US\\$ (dólares estadounidenses), se debe dividir dicho valor por el tipo de cambio de cada mes.\n",
        "\n",
        "El valor del tipo de cambio se extrae directamente de la serie del Tipo de Cambio Nominal Promedio Mensual (TCNPM), publicada por el Banco Central de la República Argentina."
      ],
      "metadata": {
        "id": "EUv0GCuQ5J9m"
      }
    },
    {
      "cell_type": "code",
      "source": [
        "url_tc = \"https://www.bcra.gob.ar/Pdfs/PublicacionesEstadisticas/com3500.xls\""
      ],
      "metadata": {
        "id": "J6TeD51_JfM2"
      },
      "execution_count": 13,
      "outputs": []
    },
    {
      "cell_type": "markdown",
      "source": [
        "La serie de TCNPM se lee con la *library* `pandas`."
      ],
      "metadata": {
        "id": "6L0P0fZNQTqX"
      }
    },
    {
      "cell_type": "code",
      "source": [
        "tc = pd.read_excel(url_tc, sheet_name=\"Serie de TCNPM\", skiprows=1, usecols=[\"Mes\", \"Tipo de cambio nominal promedio mensual\"]).drop([0]).rename(columns = {\"Tipo de cambio nominal promedio mensual\": \"TCN\"})[202:].reset_index(drop=True)"
      ],
      "metadata": {
        "id": "DcHLVq-ScPuF"
      },
      "execution_count": 14,
      "outputs": []
    },
    {
      "cell_type": "markdown",
      "source": [
        "## *DataFrame* final\n",
        "\n",
        "Se calculan los montos erogados en US\\$, dividiendo cada dato según el valor del tipo de cambio.\n",
        "\n",
        "Mediante un *for-loop*, se crean 3 columnas extra (\"energia - USD\", \"transporte - USD\" y \"otras_funciones - USD\") que contienen estos valores."
      ],
      "metadata": {
        "id": "AEG9aZJCrIjp"
      }
    },
    {
      "cell_type": "code",
      "source": [
        "for column in subsidios.columns[1:4]:\n",
        "  subsidios[column + \" - USD\"] = subsidios[column]/tc[\"TCN\"]"
      ],
      "metadata": {
        "id": "5GGYC1BTTU2W"
      },
      "execution_count": 15,
      "outputs": []
    },
    {
      "cell_type": "markdown",
      "source": [
        "Finalmente, se particiona el *DataFrame* (`.groupby()`) utilizando como función de agregación la suma de los montos en US\\$."
      ],
      "metadata": {
        "id": "J2eqgDyjDAYv"
      }
    },
    {
      "cell_type": "code",
      "source": [
        "subsidios = subsidios.groupby([\"Año\"], as_index=False)[subsidios.columns[-3:]].sum().reset_index(drop=True)"
      ],
      "metadata": {
        "id": "ZOipwXGrt-dR"
      },
      "execution_count": 16,
      "outputs": []
    },
    {
      "cell_type": "markdown",
      "source": [
        "Por último, se crea la columna \"Total\", que contiene la suma de los montos erogados durante los *n* primeros meses de cada año."
      ],
      "metadata": {
        "id": "KZT08MV-EF7S"
      }
    },
    {
      "cell_type": "code",
      "source": [
        "subsidios[\"Total\"] = subsidios[subsidios.columns[1:]].sum(axis=1)"
      ],
      "metadata": {
        "id": "XJLU2obrFbkx"
      },
      "execution_count": 17,
      "outputs": []
    },
    {
      "cell_type": "markdown",
      "source": [
        "A continuación, se presenta el *DataFrame* completo."
      ],
      "metadata": {
        "id": "tmd4lEbVEoPo"
      }
    },
    {
      "cell_type": "code",
      "source": [
        "subsidios"
      ],
      "metadata": {
        "colab": {
          "base_uri": "https://localhost:8080/",
          "height": 206
        },
        "id": "SZxc4iuOEf15",
        "outputId": "bb64451b-c33c-49c5-b0f9-8afceb41b15f"
      },
      "execution_count": 18,
      "outputs": [
        {
          "output_type": "execute_result",
          "data": {
            "text/plain": [
              "    Año  energia - USD  transporte - USD  otras_funciones - USD        Total\n",
              "0  2019     218.737720        246.200567               4.587389   469.525676\n",
              "1  2020     307.460509        205.579117               3.316061   516.355687\n",
              "2  2021     405.136395        214.168066              43.740433   663.044894\n",
              "3  2022     589.168973        215.145320              15.674436   819.988729\n",
              "4  2023     735.513523        263.166270              94.316359  1092.996152"
            ],
            "text/html": [
              "\n",
              "  <div id=\"df-aa46f029-f8ea-44bd-a457-0e80552ce8b1\">\n",
              "    <div class=\"colab-df-container\">\n",
              "      <div>\n",
              "<style scoped>\n",
              "    .dataframe tbody tr th:only-of-type {\n",
              "        vertical-align: middle;\n",
              "    }\n",
              "\n",
              "    .dataframe tbody tr th {\n",
              "        vertical-align: top;\n",
              "    }\n",
              "\n",
              "    .dataframe thead th {\n",
              "        text-align: right;\n",
              "    }\n",
              "</style>\n",
              "<table border=\"1\" class=\"dataframe\">\n",
              "  <thead>\n",
              "    <tr style=\"text-align: right;\">\n",
              "      <th></th>\n",
              "      <th>Año</th>\n",
              "      <th>energia - USD</th>\n",
              "      <th>transporte - USD</th>\n",
              "      <th>otras_funciones - USD</th>\n",
              "      <th>Total</th>\n",
              "    </tr>\n",
              "  </thead>\n",
              "  <tbody>\n",
              "    <tr>\n",
              "      <th>0</th>\n",
              "      <td>2019</td>\n",
              "      <td>218.737720</td>\n",
              "      <td>246.200567</td>\n",
              "      <td>4.587389</td>\n",
              "      <td>469.525676</td>\n",
              "    </tr>\n",
              "    <tr>\n",
              "      <th>1</th>\n",
              "      <td>2020</td>\n",
              "      <td>307.460509</td>\n",
              "      <td>205.579117</td>\n",
              "      <td>3.316061</td>\n",
              "      <td>516.355687</td>\n",
              "    </tr>\n",
              "    <tr>\n",
              "      <th>2</th>\n",
              "      <td>2021</td>\n",
              "      <td>405.136395</td>\n",
              "      <td>214.168066</td>\n",
              "      <td>43.740433</td>\n",
              "      <td>663.044894</td>\n",
              "    </tr>\n",
              "    <tr>\n",
              "      <th>3</th>\n",
              "      <td>2022</td>\n",
              "      <td>589.168973</td>\n",
              "      <td>215.145320</td>\n",
              "      <td>15.674436</td>\n",
              "      <td>819.988729</td>\n",
              "    </tr>\n",
              "    <tr>\n",
              "      <th>4</th>\n",
              "      <td>2023</td>\n",
              "      <td>735.513523</td>\n",
              "      <td>263.166270</td>\n",
              "      <td>94.316359</td>\n",
              "      <td>1092.996152</td>\n",
              "    </tr>\n",
              "  </tbody>\n",
              "</table>\n",
              "</div>\n",
              "      <button class=\"colab-df-convert\" onclick=\"convertToInteractive('df-aa46f029-f8ea-44bd-a457-0e80552ce8b1')\"\n",
              "              title=\"Convert this dataframe to an interactive table.\"\n",
              "              style=\"display:none;\">\n",
              "        \n",
              "  <svg xmlns=\"http://www.w3.org/2000/svg\" height=\"24px\"viewBox=\"0 0 24 24\"\n",
              "       width=\"24px\">\n",
              "    <path d=\"M0 0h24v24H0V0z\" fill=\"none\"/>\n",
              "    <path d=\"M18.56 5.44l.94 2.06.94-2.06 2.06-.94-2.06-.94-.94-2.06-.94 2.06-2.06.94zm-11 1L8.5 8.5l.94-2.06 2.06-.94-2.06-.94L8.5 2.5l-.94 2.06-2.06.94zm10 10l.94 2.06.94-2.06 2.06-.94-2.06-.94-.94-2.06-.94 2.06-2.06.94z\"/><path d=\"M17.41 7.96l-1.37-1.37c-.4-.4-.92-.59-1.43-.59-.52 0-1.04.2-1.43.59L10.3 9.45l-7.72 7.72c-.78.78-.78 2.05 0 2.83L4 21.41c.39.39.9.59 1.41.59.51 0 1.02-.2 1.41-.59l7.78-7.78 2.81-2.81c.8-.78.8-2.07 0-2.86zM5.41 20L4 18.59l7.72-7.72 1.47 1.35L5.41 20z\"/>\n",
              "  </svg>\n",
              "      </button>\n",
              "      \n",
              "  <style>\n",
              "    .colab-df-container {\n",
              "      display:flex;\n",
              "      flex-wrap:wrap;\n",
              "      gap: 12px;\n",
              "    }\n",
              "\n",
              "    .colab-df-convert {\n",
              "      background-color: #E8F0FE;\n",
              "      border: none;\n",
              "      border-radius: 50%;\n",
              "      cursor: pointer;\n",
              "      display: none;\n",
              "      fill: #1967D2;\n",
              "      height: 32px;\n",
              "      padding: 0 0 0 0;\n",
              "      width: 32px;\n",
              "    }\n",
              "\n",
              "    .colab-df-convert:hover {\n",
              "      background-color: #E2EBFA;\n",
              "      box-shadow: 0px 1px 2px rgba(60, 64, 67, 0.3), 0px 1px 3px 1px rgba(60, 64, 67, 0.15);\n",
              "      fill: #174EA6;\n",
              "    }\n",
              "\n",
              "    [theme=dark] .colab-df-convert {\n",
              "      background-color: #3B4455;\n",
              "      fill: #D2E3FC;\n",
              "    }\n",
              "\n",
              "    [theme=dark] .colab-df-convert:hover {\n",
              "      background-color: #434B5C;\n",
              "      box-shadow: 0px 1px 3px 1px rgba(0, 0, 0, 0.15);\n",
              "      filter: drop-shadow(0px 1px 2px rgba(0, 0, 0, 0.3));\n",
              "      fill: #FFFFFF;\n",
              "    }\n",
              "  </style>\n",
              "\n",
              "      <script>\n",
              "        const buttonEl =\n",
              "          document.querySelector('#df-aa46f029-f8ea-44bd-a457-0e80552ce8b1 button.colab-df-convert');\n",
              "        buttonEl.style.display =\n",
              "          google.colab.kernel.accessAllowed ? 'block' : 'none';\n",
              "\n",
              "        async function convertToInteractive(key) {\n",
              "          const element = document.querySelector('#df-aa46f029-f8ea-44bd-a457-0e80552ce8b1');\n",
              "          const dataTable =\n",
              "            await google.colab.kernel.invokeFunction('convertToInteractive',\n",
              "                                                     [key], {});\n",
              "          if (!dataTable) return;\n",
              "\n",
              "          const docLinkHtml = 'Like what you see? Visit the ' +\n",
              "            '<a target=\"_blank\" href=https://colab.research.google.com/notebooks/data_table.ipynb>data table notebook</a>'\n",
              "            + ' to learn more about interactive tables.';\n",
              "          element.innerHTML = '';\n",
              "          dataTable['output_type'] = 'display_data';\n",
              "          await google.colab.output.renderOutput(dataTable, element);\n",
              "          const docLink = document.createElement('div');\n",
              "          docLink.innerHTML = docLinkHtml;\n",
              "          element.appendChild(docLink);\n",
              "        }\n",
              "      </script>\n",
              "    </div>\n",
              "  </div>\n",
              "  "
            ]
          },
          "metadata": {},
          "execution_count": 18
        }
      ]
    },
    {
      "cell_type": "markdown",
      "source": [
        "Por último, se exporta el *DataFrame* en formato `.xlsx`."
      ],
      "metadata": {
        "id": "cVMsfhQgsh66"
      }
    },
    {
      "cell_type": "code",
      "source": [
        "subsidios.to_excel(\"Composición de los subsidios.xlsx\", index=False)"
      ],
      "metadata": {
        "id": "W8_etMnLsm13"
      },
      "execution_count": 19,
      "outputs": []
    },
    {
      "cell_type": "markdown",
      "source": [
        "## Figura: Composición de los subsidios (acumulado *n* meses)\n",
        "\n",
        "La figura a elaborar consiste en un gráfico de barras apiladas en el que se visualice la evolución de los montos erogados en concepto de subsidios económicos durante los primeros *n* meses de cada año. Asimismo, se busca representar el peso de cada sector subsidiado (Energía, Transporte y Otras funciones) sobre el total gastado.\n",
        "\n",
        "Por la complejidad del gráfico a realizar, a continuación se definen 4 funciones que logran incorporar cada uno de los elementos presentes del gráfico deseado."
      ],
      "metadata": {
        "id": "TOvY-DhhG1Mw"
      }
    },
    {
      "cell_type": "markdown",
      "source": [
        "Primeramente, se crea la función `bar_creator`, que consiste en un *for-loop* conjunto entre: \n",
        "\n",
        "1.   cada una de las columnas a visualizar\n",
        "2.   el nombre asignado a cada una de esas columnas\n",
        "3.   el color asignado a cada una de esas columnas\n",
        "\n",
        "\n",
        "Los parámetros de la función son:\n",
        "*   `df`: el nombre del dataframe del cual extraer los datos.\n",
        "*   `fig`: el nombre de la figura a utilizar.\n",
        "*   `nombres_list`: lista que contiene los nombres de cada uno de los tipos de subsidios.\n",
        "*   `colores_list`: lista que contiene los colores de cada uno de los tipos de subsidios.\n",
        "\n",
        "Fuera del *for-loop*, se agrega una traza (`trace`) \"fantasma\", con color transparente, que permite mostrar los montos totales erogados en cada año."
      ],
      "metadata": {
        "id": "oprZJ3fpIZ9K"
      }
    },
    {
      "cell_type": "code",
      "source": [
        "def bar_creator(df, fig, nombres_list, colores_list):\n",
        "  for column, nombre, color in zip(df.columns[1:-1], nombres_list, colores_list):\n",
        "    fig.add_trace(\n",
        "      go.Bar(\n",
        "        x = df[\"Año\"],\n",
        "        y = df[column],\n",
        "        name = nombre,\n",
        "        text = df[column],\n",
        "        textposition = \"inside\",\n",
        "        texttemplate = \"%{value:,.2f}\",\n",
        "        marker = dict(\n",
        "            color = color\n",
        "            )\n",
        "        )\n",
        "    )\n",
        "  fig.add_trace(\n",
        "    go.Bar(\n",
        "      name=\"Total\",\n",
        "      x = df[\"Año\"],\n",
        "      y = [0]*len(df),\n",
        "      showlegend = False,\n",
        "      text = df[\"Total\"],\n",
        "      textposition = \"outside\",\n",
        "      textfont = dict(\n",
        "        size=18\n",
        "      ),\n",
        "      texttemplate = \"%{text:,.2f}\",\n",
        "      marker = dict(\n",
        "        color = \"rgba(0,0,0,0)\"\n",
        "      )\n",
        "      )\n",
        "  )"
      ],
      "metadata": {
        "id": "izOZnPohJUrj"
      },
      "execution_count": 20,
      "outputs": []
    },
    {
      "cell_type": "markdown",
      "source": [
        "Luego, se crea la función `adding_annotation`, que permite crear anotaciones para visualizar el porcentaje de crecimiento del monto total erogado en el acumulado de *n* meses.\n",
        "\n",
        "Los parámetros de la función son:\n",
        "*   `df`: el nombre del dataframe del cual extraer los datos.\n",
        "*   `fig`: el nombre de la figura a utilizar.\n",
        "*   `heigths`: lista que contiene las alturas sobre el eje de las ordenadas sobre las que se ubicarán las anotaciones."
      ],
      "metadata": {
        "id": "AUWTeW_eNA4d"
      }
    },
    {
      "cell_type": "code",
      "source": [
        "def adding_annotation(df, fig, heights):\n",
        "  for i, height in zip(range(1, len(df)), heights):\n",
        "    fig.add_annotation(\n",
        "      x = i - 0.5,\n",
        "      y = height,\n",
        "      text = f\"<b>+{(df['Total'][i]/df['Total'][i-1]-1)*100:.0f}%\",\n",
        "      font = dict(\n",
        "          size = 18\n",
        "      ),\n",
        "      bgcolor = \"rgba(255,255,255,1)\",\n",
        "      showarrow = False)"
      ],
      "metadata": {
        "id": "QLyUNI6dNA-t"
      },
      "execution_count": 21,
      "outputs": []
    },
    {
      "cell_type": "markdown",
      "source": [
        "Equivalentemente, se crea la función `adding_lines`, que permite crear flechas para ayudar a la correcta visualización de las anotaciones definidas en `adding_annotations`.\n",
        "\n",
        "Los parámetros de la función son:\n",
        "*   `fig`: el nombre de la figura a utilizar.\n",
        "*   `tuple_x`: 4-tupla que los valores del eje de abscisas de origen, máximo y destino.\n",
        "*   `tuple_y`: 4-tupla que los valores del eje de ordenadas de origen, máximo y destino."
      ],
      "metadata": {
        "id": "L9kwEMQUSZMz"
      }
    },
    {
      "cell_type": "code",
      "source": [
        "def adding_lines(fig, tuple_x, tuple_y):\n",
        "  fig.add_trace(go.Scatter(\n",
        "    x = tuple_x,\n",
        "    y = tuple_y,\n",
        "    mode = \"lines+markers\",\n",
        "    line = dict(\n",
        "      color = \"black\",\n",
        "      width = 1\n",
        "    ),\n",
        "    marker = dict(\n",
        "      size = [0]*3 + [10],\n",
        "      opacity = 1,\n",
        "      symbol = [\"circle\"]*3 + [\"arrow-down\"]\n",
        "    ),\n",
        "    showlegend=False\n",
        "    )\n",
        "  )"
      ],
      "metadata": {
        "id": "XH8J8H-TScqA"
      },
      "execution_count": 22,
      "outputs": []
    },
    {
      "cell_type": "markdown",
      "source": [
        "Por último, se crea la función `update_layout`, que modifica el aspecto general de la figura.\n",
        "\n",
        "El único parámetro de la función es:\n",
        "*   `fig`: el nombre de la figura a utilizar"
      ],
      "metadata": {
        "id": "2n0KEyIRK5eY"
      }
    },
    {
      "cell_type": "code",
      "source": [
        "def update_layout(fig):\n",
        "  fig.update_layout(\n",
        "    plot_bgcolor = \"rgba(0,0,0,0)\",\n",
        "    margin = dict(\n",
        "        b = 15,\n",
        "        t = 15,\n",
        "        l = 15,\n",
        "        r = 15\n",
        "    ),\n",
        "    barmode = \"stack\",\n",
        "    legend = dict(\n",
        "      traceorder = \"normal\",\n",
        "      orientation = \"h\",\n",
        "      xanchor = \"center\", \n",
        "      x = 0.5, \n",
        "      yanchor = \"bottom\", \n",
        "      y = 1,\n",
        "      font = dict(\n",
        "        size = 16\n",
        "      )\n",
        "    ),\n",
        "    height = 750,\n",
        "    width = 1000,\n",
        "    xaxis = dict(\n",
        "      tickformat = \"%Y\",\n",
        "      dtick = \"M12\",\n",
        "      title_text = f\"Acumulado {ultimo_mes_analisis} mes(es)\"\n",
        "    ),\n",
        "    yaxis = dict(\n",
        "      title=\"<b>M USD\",\n",
        "      range=[0, round(max(subsidios[\"Total\"]), -2)*1.2 ],\n",
        "      dtick = round(subsidios[\"Total\"][1]/subsidios[\"Total\"][0], -2),\n",
        "      showgrid = True,\n",
        "      gridcolor = \"lightgray\"\n",
        "    ),\n",
        "    font = dict(\n",
        "      size = 14,\n",
        "      family=\"serif\"\n",
        "    )\n",
        "  )"
      ],
      "metadata": {
        "id": "TOvxsoTGLGcB"
      },
      "execution_count": 23,
      "outputs": []
    },
    {
      "cell_type": "markdown",
      "source": [
        "Una vez definidas las funciones, se especifican los correspondientes valores de los parámetros antes nombrados."
      ],
      "metadata": {
        "id": "kpo_4BWpmpr2"
      }
    },
    {
      "cell_type": "markdown",
      "source": [
        "En particular, las listas `nombres` y `colores` contendrán los valores especificados para las listas `nombres_list` y `colores_list` de la función `bar_creator`."
      ],
      "metadata": {
        "id": "fhrXY2SQ6Dez"
      }
    },
    {
      "cell_type": "code",
      "source": [
        "nombres = [\"Subsidios a la energía\", \"Subsidios al transporte\", \"Otros subsidios\"]"
      ],
      "metadata": {
        "id": "g8HKAlRDIy3h"
      },
      "execution_count": 24,
      "outputs": []
    },
    {
      "cell_type": "code",
      "source": [
        "colores = [\"rgb(252,141,98)\", \"rgb(102,194,165)\", \"rgb(255,217,47)\"]"
      ],
      "metadata": {
        "id": "ueAKdsd5Icdu"
      },
      "execution_count": 25,
      "outputs": []
    },
    {
      "cell_type": "markdown",
      "source": [
        "3.   Las anotaciones indicando el porcentaje de crecimiento del monto total erogado se encuentran en las alturas del eje de ordenadas definidas en `heights`.\n",
        "\n",
        "Las alturas de las anotaciones indicando el porcentaje de crecimiento del monto total erogado entre cada año (en la función `adding_annotation`) se definen en la lista `heights`."
      ],
      "metadata": {
        "id": "PT-T3rsl6RpG"
      }
    },
    {
      "cell_type": "code",
      "source": [
        "heights = []\n",
        "for i in range(1, len(subsidios)):\n",
        "  heights.append(round(subsidios[\"Total\"][i]*1.175, -1))"
      ],
      "metadata": {
        "id": "7yOhgTGwn-Oo"
      },
      "execution_count": 26,
      "outputs": []
    },
    {
      "cell_type": "markdown",
      "source": [
        "Las dos 4-tuplas, `tuples_x` y `tuples_y` correspondientes a la función `adding_lines` se construyen a continuación, a partir de los datos del *DataFrame* `subsidios` y la lista `heights`."
      ],
      "metadata": {
        "id": "CIQg8kYSvQm0"
      }
    },
    {
      "cell_type": "code",
      "source": [
        "tuples_x = []\n",
        "for i in range(0, len(subsidios)-1):\n",
        "  tuples_x.append([int(subsidios[\"Año\"][i]),\n",
        "                   int(subsidios[\"Año\"][i]),\n",
        "                   int(subsidios[\"Año\"][i+1]),\n",
        "                   int(subsidios[\"Año\"][i+1])])"
      ],
      "metadata": {
        "id": "UlH1B2XkpM1s"
      },
      "execution_count": 27,
      "outputs": []
    },
    {
      "cell_type": "code",
      "source": [
        "tuples_y = []\n",
        "for i, height in zip(range(0, len(subsidios)-1), heights):\n",
        "  if i != 3:\n",
        "    tuples_y.append([subsidios[\"Total\"][i]*1.1,\n",
        "                   height,\n",
        "                   height,\n",
        "                   subsidios[\"Total\"][i+1]*1.1])\n",
        "  else: \n",
        "    tuples_y.append([subsidios[\"Total\"][i]*1.1,\n",
        "                   height,\n",
        "                   height,\n",
        "                   subsidios[\"Total\"][i+1]*1.05])"
      ],
      "metadata": {
        "id": "mNiVOjRTpzT7"
      },
      "execution_count": 28,
      "outputs": []
    },
    {
      "cell_type": "markdown",
      "source": [
        "Se crea la figura `subsidios_fig` en el entorno de Plotly (utilizando `graph_objects` como `go`)."
      ],
      "metadata": {
        "id": "d87xbZ40sbJU"
      }
    },
    {
      "cell_type": "code",
      "source": [
        "subsidios_fig = go.Figure()"
      ],
      "metadata": {
        "id": "ApAYbbRosaRX"
      },
      "execution_count": 29,
      "outputs": []
    },
    {
      "cell_type": "markdown",
      "source": [
        "Mediante las funciones antes especificadas (a saber: `bar_creator`, `adding_annotation`, `adding_lines` y `update_layout`) se introducen los datos y se modifica el aspecto de la figura en general."
      ],
      "metadata": {
        "id": "DQM8cRJlStxt"
      }
    },
    {
      "cell_type": "code",
      "source": [
        "bar_creator(subsidios, subsidios_fig, nombres, colores)\n",
        "\n",
        "adding_annotation(subsidios, subsidios_fig, heights)\n",
        "\n",
        "for i in range(0, len(subsidios)-1): \n",
        "  adding_lines(subsidios_fig,tuples_x[i], tuples_y[i])\n",
        "\n",
        "update_layout(subsidios_fig)"
      ],
      "metadata": {
        "id": "l8AYjQZQT8QG"
      },
      "execution_count": 30,
      "outputs": []
    },
    {
      "cell_type": "markdown",
      "source": [
        "A continuación, se exhibe la figura."
      ],
      "metadata": {
        "id": "B74BAcxwTE2d"
      }
    },
    {
      "cell_type": "code",
      "source": [
        "subsidios_fig.show(\"png\")"
      ],
      "metadata": {
        "colab": {
          "base_uri": "https://localhost:8080/",
          "height": 767
        },
        "id": "l4OWrZpbVSl3",
        "outputId": "8f663fd1-2fa6-4653-d639-9bb7c692ea9d"
      },
      "execution_count": 31,
      "outputs": [
        {
          "output_type": "display_data",
          "data": {
            "image/png": "[encoded data removed]"
          },
          "metadata": {}
        }
      ]
    },
    {
      "cell_type": "markdown",
      "source": [
        "Si se desea exportar la figura a formato `.pdf`, se debe des-comentar y ejecutar la siguiente celda. Recuérdese que el *package* `kaleido` debe estar correctamente instalado."
      ],
      "metadata": {
        "id": "d1_-judj2M7B"
      }
    },
    {
      "cell_type": "code",
      "source": [
        "pio.write_image(subsidios_fig, \"Figura Subsidios.pdf\", width=3*300, height=2.25*300)"
      ],
      "metadata": {
        "id": "xihgJA2z2dtC"
      },
      "execution_count": 32,
      "outputs": []
    }
  ]
}