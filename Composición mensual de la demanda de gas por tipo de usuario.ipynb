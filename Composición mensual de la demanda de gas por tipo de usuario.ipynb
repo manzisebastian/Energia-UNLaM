{
  "nbformat": 4,
  "nbformat_minor": 0,
  "metadata": {
    "colab": {
      "provenance": []
    },
    "kernelspec": {
      "name": "python3",
      "display_name": "Python 3"
    },
    "language_info": {
      "name": "python"
    }
  },
  "cells": [
    {
      "cell_type": "markdown",
      "source": [
        "# **Composición mensual de la demanda de gas por tipo de usuario**\n",
        "\n",
        "\n",
        "---\n",
        "\n",
        "\n",
        "\n",
        "La evolución de la demanda de gas natural refleja -o, incluso, anticipa- las fluctuaciones de la actividad económica. Asimismo, la desagregación según el tipo de usuario permite discernir la razón que opera por detrás de los aumentos o disminuciones de la demanda. Por ello, este indicador resulta fundamental como herramienta de análisis económico.\n",
        "\n",
        "El presente archivo contiene el código utilizado para obtener, procesar y analizar los datos de la demanda de gas natural según el tipo de usuario, desde el año 2013.\n",
        "\n",
        "Como resultado del análisis de datos, se presenta una figura en forma de gráfico de área apilada, que permite visualizar la evolución de la demanda para cada tipo de usuario."
      ],
      "metadata": {
        "id": "fxu4F2j_2cfX"
      }
    },
    {
      "cell_type": "markdown",
      "source": [
        "## Preliminar"
      ],
      "metadata": {
        "id": "Q8VY5QjxPQhK"
      }
    },
    {
      "cell_type": "markdown",
      "source": [
        "### Importación de *libraries*\n",
        "\n",
        "Se importan las *libraries* a utilizar en el código."
      ],
      "metadata": {
        "id": "Wb4Bl30G7H9I"
      }
    },
    {
      "cell_type": "code",
      "source": [
        "import pandas as pd\n",
        "from bs4 import BeautifulSoup\n",
        "from urllib.request import Request, urlopen\n",
        "import plotly.graph_objects as go\n",
        "import datetime as dt\n",
        "import plotly.io as pio"
      ],
      "metadata": {
        "id": "rLLWts9fti4E"
      },
      "execution_count": 1,
      "outputs": []
    },
    {
      "cell_type": "markdown",
      "source": [
        "### Exportación a archivo `.pdf`\n",
        "\n",
        "En caso de precisarse exportar las figuras resultantes a formato `.pdf`, se debe instalar el *package* `kaleido`.\n",
        "\n",
        "**IMPORTANTE**: para evitar problemas de desconexión, es recomendable ejecutar el código la siguiente celda y, una vez terminado el proceso de instalación, reiniciar el entorno de ejecución y ejecutar todas las celdas."
      ],
      "metadata": {
        "id": "HJrL1Jgw03te"
      }
    },
    {
      "cell_type": "code",
      "source": [
        "!pip install -U kaleido"
      ],
      "metadata": {
        "id": "YwZ_PfIfbbkT",
        "colab": {
          "base_uri": "https://localhost:8080/"
        },
        "outputId": "439229eb-fc61-4a9d-ea96-1f25f4a3cc6d"
      },
      "execution_count": 2,
      "outputs": [
        {
          "output_type": "stream",
          "name": "stdout",
          "text": [
            "Looking in indexes: https://pypi.org/simple, https://us-python.pkg.dev/colab-wheels/public/simple/\n",
            "Collecting kaleido\n",
            "  Downloading kaleido-0.2.1-py2.py3-none-manylinux1_x86_64.whl (79.9 MB)\n",
            "\u001b[2K     \u001b[90m━━━━━━━━━━━━━━━━━━━━━━━━━━━━━━━━━━━━━━━━\u001b[0m \u001b[32m79.9/79.9 MB\u001b[0m \u001b[31m10.1 MB/s\u001b[0m eta \u001b[36m0:00:00\u001b[0m\n",
            "\u001b[?25hInstalling collected packages: kaleido\n",
            "Successfully installed kaleido-0.2.1\n"
          ]
        }
      ]
    },
    {
      "cell_type": "markdown",
      "source": [
        "## Obtención y limpieza de datos\n",
        "\n",
        "El Ente Nacional Regulador del Gas (ENARGAS), en forma de cuadros divididos por año publica mensualmente cuadros en los que cuantifica la demanda de gas natural para cada tipo de usuario.\n",
        "\n",
        "El difícil acceso a dichos cuadros, sumado a la imposibilidad de sistematización del proceso de extracción de datos, hacen necesario buscar vías alternativas para obtenerlos."
      ],
      "metadata": {
        "id": "IR7Mk1P1aDk4"
      }
    },
    {
      "cell_type": "markdown",
      "source": [
        "### Demanda de gas natural hasta 2021\n",
        "\n",
        "En particular, dentro de los Datos Abiertos de ENARGAS, la información deseada puede encontrarse en la siguiente *ruta*:\n",
        "\n",
        "*   Transporte y Distribución\n",
        "   *   Datos operativos de Transporte y Distribución de Gas\n",
        "      3. Datos Operativos de Gas Natural: Total Sistema\n",
        "         02. Gas Entregado, por Tipo de Usuario"
      ],
      "metadata": {
        "id": "hsp5hymSmf-c"
      }
    },
    {
      "cell_type": "markdown",
      "source": [
        "La API de Series de Tiempo del portal de Datos Argentina (Datos Abiertos de la República Argentina, https://datos.gob.ar) permite consultar indicadores con evolución en el tiempo.\n",
        "\n",
        "La documentación de dicha API puede encontrarse en: https://datosgobar.github.io/series-tiempo-ar-api/"
      ],
      "metadata": {
        "id": "VcU3K09bc4Ot"
      }
    },
    {
      "cell_type": "markdown",
      "source": [
        "Para utilizarla, primeramente, se eligen los *datasets* (o series de tiempo) deseadas. Cada serie de tiempo está representada por un *id* único.\n",
        "\n",
        "En particular, son de relevancia las series de tiempo de las cantidades demandadas de gas natural por cada tipo de usuario. Por ello, la lista `ids` contiene el *id* correspondiente a cada tipo de usuario."
      ],
      "metadata": {
        "id": "rqmHZeCNdiKL"
      }
    },
    {
      "cell_type": "code",
      "source": [
        "ids = [\n",
        "  \"364.3_RESIDENCIAIAL__11\", \n",
        "  \"364.3_COMERCIALIAL__9\",\n",
        "  \"364.3_ENTES_OFICLES__15\",\n",
        "  \"364.3_INDUSTRIARIA__9\",\n",
        "  \"364.3_CENTRALES_CAS__20\",\n",
        "  \"364.3_SDBSDB__3\",\n",
        "  \"364.3_GNCGNC__3\"\n",
        "]"
      ],
      "metadata": {
        "id": "JWRuqQr4TeHZ"
      },
      "execution_count": 3,
      "outputs": []
    },
    {
      "cell_type": "markdown",
      "source": [
        "Dado que la API permite efectuar consultas combinadas, evitando iteraciones innecesarias, se concatenan los elementos de la lista `ids`, separados por una coma (`,`) en una sola cadena de texto (`string`).\n",
        "\n",
        "Así, `ids` contendrá cada uno de los identificadores de los *datasets* a examinar, separados por una coma."
      ],
      "metadata": {
        "id": "wnlLJ09a3y97"
      }
    },
    {
      "cell_type": "code",
      "source": [
        "ids = \",\".join(map(str, ids))"
      ],
      "metadata": {
        "id": "y7PgxHc-VMSd"
      },
      "execution_count": 4,
      "outputs": []
    },
    {
      "cell_type": "markdown",
      "source": [
        "La API precisa, asimismo, los años de comienzo y final de análisis, como cadena de texto.\n",
        "\n",
        "Se *setea*, arbitrariamente, el comienzo del análisis en el año 2013. Por falta de continuidad de la serie de tiempo, se setea como año de finalización del análisis al año 2021."
      ],
      "metadata": {
        "id": "I0yeVtCzeRNQ"
      }
    },
    {
      "cell_type": "code",
      "source": [
        "start = \"2013\""
      ],
      "metadata": {
        "id": "9Iudj2UEWSPo"
      },
      "execution_count": 5,
      "outputs": []
    },
    {
      "cell_type": "code",
      "source": [
        "end = \"2021\""
      ],
      "metadata": {
        "id": "8VkpJkuVY6GM"
      },
      "execution_count": 6,
      "outputs": []
    },
    {
      "cell_type": "markdown",
      "source": [
        "A partir de los valores definidos en `ids`, en `start` y en `end`, se crea una `f-string` (`url_api_call`) que funcione para hacer un *call* a la API antes mencionada.\n",
        "\n",
        "`url_api_call` devolverá un archivo `.csv` (dado que `&format=csv`) que contiene los valores de los *datasets* identificados en `ids` a partir del año especificado en `start` y hasta el año especificado en `end`."
      ],
      "metadata": {
        "id": "5Dr1GTX95m52"
      }
    },
    {
      "cell_type": "code",
      "source": [
        "url_api_call = f\"https://apis.datos.gob.ar/series/api/series/?ids={ids}&start_date={start}&end_date={end}&limit=5000&format=csv\""
      ],
      "metadata": {
        "id": "gMiSqArTT8RG"
      },
      "execution_count": 7,
      "outputs": []
    },
    {
      "cell_type": "markdown",
      "source": [
        "De esta manera, a partir de `url_api_call`, se puede generar el *call* a la API directamente desde un *DataFrame* creado en `pandas` con el comando `read_csv`. Así, se crea el *DataFrame* `demanda_2013_2021`, que contiene los datos de las cantidades demandadas por cada tipo de usuario, desde enero del año 2013 hasta diciembre del año 2021."
      ],
      "metadata": {
        "id": "UzPIU30A7MzM"
      }
    },
    {
      "cell_type": "code",
      "source": [
        "demanda_2013_2021 = pd.read_csv(url_api_call)"
      ],
      "metadata": {
        "id": "x8nQ65ltW88-"
      },
      "execution_count": 8,
      "outputs": []
    },
    {
      "cell_type": "markdown",
      "source": [
        "La columna \"indice_tiempo\" funciona como índice temporal. Por tanto, se lo transforma en formato `datetime` y se cambia su formato, ubicando primero los días del mes."
      ],
      "metadata": {
        "id": "ZvOhjvCkfcW6"
      }
    },
    {
      "cell_type": "code",
      "source": [
        "demanda_2013_2021[\"indice_tiempo\"] = pd.to_datetime(demanda_2013_2021[\"indice_tiempo\"], dayfirst=True)"
      ],
      "metadata": {
        "id": "rxHIoIU9wWMm"
      },
      "execution_count": 9,
      "outputs": []
    },
    {
      "cell_type": "markdown",
      "source": [
        "Los datos publicados en el Portal de Datos Abiertos están expresados en millones de m<sup>3</sup>. Se multiplica el valor de cada columna por 1000 para transformar su unidad de medida a miles de m<sup>3</sup>."
      ],
      "metadata": {
        "id": "_jLkk0zOozb-"
      }
    },
    {
      "cell_type": "code",
      "source": [
        "for column in demanda_2013_2021.columns[1:]:\n",
        "  demanda_2013_2021[column] = demanda_2013_2021[column] * 1000"
      ],
      "metadata": {
        "id": "5LBouldOpGr0"
      },
      "execution_count": 10,
      "outputs": []
    },
    {
      "cell_type": "markdown",
      "source": [
        "### Demanda de gas natural a partir de 2022\n",
        "\n",
        "Ahora bien, el *DataFrame* `demanda_2013_2021` contiene datos hasta diciembre del año 2021.\n",
        "\n",
        "Dado que la serie de tiempo publicada en los Datos Abiertos no tuvo continuidad a lo largo del año 2022, los datos a partir de diciembre del año 2021 deben obtenerse directamente desde los cuadros de ENARGAS.\n",
        "\n",
        "En este sentido, `url_2022` refiere al último archivo de los Datos Operativos de Gas Natural (Total Sistema) publicado por ENARGAS, en el que se cuantifica el gas entregado por tipo de usuario."
      ],
      "metadata": {
        "id": "jDBRTFDpmqnZ"
      }
    },
    {
      "cell_type": "code",
      "source": [
        "url_2022 = \"https://www.enargas.gob.ar/secciones/transporte-y-distribucion/ajax/datos-operativos-exporta.php?tipo=pdf&anio=%20=%202022&planilla=0302010-Cuadro_III_1\""
      ],
      "metadata": {
        "id": "xuiwZIg-ZcHQ"
      },
      "execution_count": 11,
      "outputs": []
    },
    {
      "cell_type": "markdown",
      "source": [
        "Sin embargo, la lectura de dicho archivo debe realizarse a través de una `Request` a la página. Este pedido es \"abierto\" con `urlopen()` y, luego, se buscan y adjuntan las tablas que aparezcan en la página.\n",
        "\n",
        "Para simplificar la escritura, se crea una función, `request_gas`, que -utilizando `Request` y `BeautifulSoup`, extrae una lista con los datos requeridos. \n",
        "\n",
        "Los parámetros de esta función son:\n",
        "\n",
        "\n",
        "*   `url`: un link de una página web válida.\n",
        "*   `data`: una lista vacía donde almacenar los datos.\n",
        "\n"
      ],
      "metadata": {
        "id": "CcJ4wD7zg9KB"
      }
    },
    {
      "cell_type": "code",
      "source": [
        "def request_gas(url, data):\n",
        "  req = Request(\n",
        "    url,\n",
        "  )\n",
        "  page = urlopen(req)\n",
        "  html_parser = BeautifulSoup(page, \"lxml\")\n",
        "  tables = html_parser.findAll('tr')\n",
        "  for tr in tables:\n",
        "    row_data = []\n",
        "    for td in tr.findAll('td'):\n",
        "      row_data.append(td.text)\n",
        "    data.append(row_data)\n",
        "  return data"
      ],
      "metadata": {
        "id": "PjL2079KK2nR"
      },
      "execution_count": 12,
      "outputs": []
    },
    {
      "cell_type": "markdown",
      "source": [
        "En el caso de la demanda de gas natural en el año 2022, se crea la lista vacía `demanda_2022_data`."
      ],
      "metadata": {
        "id": "CkXerPbZjKv9"
      }
    },
    {
      "cell_type": "code",
      "source": [
        "demanda_2022_data = []"
      ],
      "metadata": {
        "id": "6yYbFCh16cYy"
      },
      "execution_count": 13,
      "outputs": []
    },
    {
      "cell_type": "markdown",
      "source": [
        "Se actualiza dicha tabla a partir de la función `request_gas`, con los parámetros antes definidos."
      ],
      "metadata": {
        "id": "ATnDnaQFjamI"
      }
    },
    {
      "cell_type": "code",
      "source": [
        "demanda_2022_data = request_gas(url_2022, demanda_2022_data)"
      ],
      "metadata": {
        "id": "B_mpjyW3ZIri"
      },
      "execution_count": 14,
      "outputs": []
    },
    {
      "cell_type": "markdown",
      "source": [
        "El contenido de la lista `demanda_2022_data` se transforma en un *DataFrame* -mediante `pd.DataFrame()`- que toma como nombre `demanda_2022`."
      ],
      "metadata": {
        "id": "cnLn6oX6jh0u"
      }
    },
    {
      "cell_type": "code",
      "source": [
        "demanda_2022 = pd.DataFrame(demanda_2022_data)"
      ],
      "metadata": {
        "id": "XQD79kV_5SFq"
      },
      "execution_count": 15,
      "outputs": []
    },
    {
      "cell_type": "markdown",
      "source": [
        "A partir del *DataFrame* `demanda_2022`, se eliminan ciertas columnas y filas."
      ],
      "metadata": {
        "id": "HgrD6wMcj1UC"
      }
    },
    {
      "cell_type": "code",
      "source": [
        "demanda_2022 = demanda_2022.drop([2, 4, 6, 8, 10, 12, 14, 15], axis=1)[1:-2].reset_index(drop=True)"
      ],
      "metadata": {
        "id": "bC1ZHXeHbWBt"
      },
      "execution_count": 16,
      "outputs": []
    },
    {
      "cell_type": "markdown",
      "source": [
        "Los valores en `demanda_2022` son interpretados como cadenas de texto (`string`). Se actualiza su *type* mediante el comand `astype()`, siendo éste actualizado a `float`."
      ],
      "metadata": {
        "id": "-X3caCbjoDKK"
      }
    },
    {
      "cell_type": "code",
      "source": [
        "for column in demanda_2022.columns[1:]:\n",
        "  demanda_2022[column] = demanda_2022[column].astype(float)"
      ],
      "metadata": {
        "id": "9fCVpqTloYPX"
      },
      "execution_count": 17,
      "outputs": []
    },
    {
      "cell_type": "markdown",
      "source": [
        "Se renombran las columnas del *DataFrame* `demanda_2022` utilizando las columnas del *DataFrame* `demanda_2013_2021`."
      ],
      "metadata": {
        "id": "lQ9mOByfkDrD"
      }
    },
    {
      "cell_type": "code",
      "source": [
        "demanda_2022.columns = demanda_2013_2021.columns"
      ],
      "metadata": {
        "id": "0dT82hrytxFx"
      },
      "execution_count": 18,
      "outputs": []
    },
    {
      "cell_type": "markdown",
      "source": [
        "Por último, se actualiza la columna \"indice_tiempo\": dado que no posee información sobre el año, se genera un `date_range` que comienza en enero del año 2022 y tiene una longitud igual a la cantidad de meses del *DataFrame* `demanda_2022`. Se utiliza la frecuencia `MS` para indicar que cada valor en el rango debe indicar el comienzo de un mes (\"Month-Start\")."
      ],
      "metadata": {
        "id": "AMITLM0HlcIL"
      }
    },
    {
      "cell_type": "code",
      "source": [
        "demanda_2022[\"indice_tiempo\"] = pd.date_range(start='1/1/2022', periods=len(demanda_2022), freq=\"MS\")"
      ],
      "metadata": {
        "id": "Wu8jHCJ0lFhF"
      },
      "execution_count": 19,
      "outputs": []
    },
    {
      "cell_type": "markdown",
      "source": [
        "### Demanda de gas natural a partir de 2023\n",
        "\n",
        "Ahora bien, el *DataFrame* `demanda_2013_2021` contiene datos hasta diciembre del año 2021.\n",
        "\n",
        "Dado que la serie de tiempo publicada en los Datos Abiertos no tuvo continuidad a lo largo del año 2022, los datos a partir de diciembre del año 2021 deben obtenerse directamente desde los cuadros de ENARGAS.\n",
        "\n",
        "En este sentido, `url_2022` refiere al último archivo de los Datos Operativos de Gas Natural (Total Sistema) publicado por ENARGAS, en el que se cuantifica el gas entregado por tipo de usuario."
      ],
      "metadata": {
        "id": "a7ae4RGIG_yp"
      }
    },
    {
      "cell_type": "code",
      "source": [
        "url_2023 = \"https://www.enargas.gob.ar/secciones/transporte-y-distribucion/ajax/datos-operativos-exporta.php?tipo=pdf&anio=%20=%202023&planilla=0302010-Cuadro_III_1\""
      ],
      "metadata": {
        "id": "GUlMc9j9G_yq"
      },
      "execution_count": 20,
      "outputs": []
    },
    {
      "cell_type": "markdown",
      "source": [
        "En el caso de la demanda de gas natural en el año 2023, se crea la lista vacía `demanda_2023_data`."
      ],
      "metadata": {
        "id": "PX21v8oVG_yq"
      }
    },
    {
      "cell_type": "code",
      "source": [
        "demanda_2023_data = []"
      ],
      "metadata": {
        "id": "eZQ5z4lDG_yq"
      },
      "execution_count": 21,
      "outputs": []
    },
    {
      "cell_type": "markdown",
      "source": [
        "Se actualiza dicha tabla a partir de la función `request_gas`, con los parámetros antes definidos."
      ],
      "metadata": {
        "id": "ZtFiJpOHG_yr"
      }
    },
    {
      "cell_type": "code",
      "source": [
        "demanda_2023_data = request_gas(url_2023, demanda_2023_data)"
      ],
      "metadata": {
        "id": "cp2ICR4wG_yr"
      },
      "execution_count": 22,
      "outputs": []
    },
    {
      "cell_type": "markdown",
      "source": [
        "El contenido de la lista `demanda_2023_data` se transforma en un *DataFrame* -mediante `pd.DataFrame()`- que toma como nombre `demanda_2023`."
      ],
      "metadata": {
        "id": "Qf1rJwRDG_yr"
      }
    },
    {
      "cell_type": "code",
      "source": [
        "demanda_2023 = pd.DataFrame(demanda_2023_data)"
      ],
      "metadata": {
        "id": "tLkOuA3wG_yr"
      },
      "execution_count": 23,
      "outputs": []
    },
    {
      "cell_type": "code",
      "source": [
        "demanda_2023"
      ],
      "metadata": {
        "colab": {
          "base_uri": "https://localhost:8080/",
          "height": 175
        },
        "id": "Ls9tn6MRH0V-",
        "outputId": "04b9cf94-5ad1-4907-afa7-8b258b52884a"
      },
      "execution_count": 24,
      "outputs": [
        {
          "output_type": "execute_result",
          "data": {
            "text/plain": [
              "                                                  0       1     2      3   \\\n",
              "0                                               None    None  None   None   \n",
              "1                                           Ene/2023  290567  9.7   92162   \n",
              "2                                              Total  290567   9.7  92162   \n",
              "3  \\n/1 Total gas entregado a usuarios finales (i...    None  None   None   \n",
              "\n",
              "     4      5     6        7     8        9     10     11    12      13    14  \\\n",
              "0  None   None  None     None  None     None  None   None  None    None  None   \n",
              "1   3.1  11694  0.4   1085908  36.1  1310881  43.6  30914   1.0  185053   6.2   \n",
              "2   3.1  11694   0.4  1085908  36.1  1310881  43.6  30914   1.0  185053   6.2   \n",
              "3  None   None  None     None  None     None  None   None  None    None  None   \n",
              "\n",
              "        15  \n",
              "0     None  \n",
              "1  3007179  \n",
              "2  3007179  \n",
              "3     None  "
            ],
            "text/html": [
              "\n",
              "  <div id=\"df-ad3cf190-e07d-4ddb-96fb-d1b80dd17752\">\n",
              "    <div class=\"colab-df-container\">\n",
              "      <div>\n",
              "<style scoped>\n",
              "    .dataframe tbody tr th:only-of-type {\n",
              "        vertical-align: middle;\n",
              "    }\n",
              "\n",
              "    .dataframe tbody tr th {\n",
              "        vertical-align: top;\n",
              "    }\n",
              "\n",
              "    .dataframe thead th {\n",
              "        text-align: right;\n",
              "    }\n",
              "</style>\n",
              "<table border=\"1\" class=\"dataframe\">\n",
              "  <thead>\n",
              "    <tr style=\"text-align: right;\">\n",
              "      <th></th>\n",
              "      <th>0</th>\n",
              "      <th>1</th>\n",
              "      <th>2</th>\n",
              "      <th>3</th>\n",
              "      <th>4</th>\n",
              "      <th>5</th>\n",
              "      <th>6</th>\n",
              "      <th>7</th>\n",
              "      <th>8</th>\n",
              "      <th>9</th>\n",
              "      <th>10</th>\n",
              "      <th>11</th>\n",
              "      <th>12</th>\n",
              "      <th>13</th>\n",
              "      <th>14</th>\n",
              "      <th>15</th>\n",
              "    </tr>\n",
              "  </thead>\n",
              "  <tbody>\n",
              "    <tr>\n",
              "      <th>0</th>\n",
              "      <td>None</td>\n",
              "      <td>None</td>\n",
              "      <td>None</td>\n",
              "      <td>None</td>\n",
              "      <td>None</td>\n",
              "      <td>None</td>\n",
              "      <td>None</td>\n",
              "      <td>None</td>\n",
              "      <td>None</td>\n",
              "      <td>None</td>\n",
              "      <td>None</td>\n",
              "      <td>None</td>\n",
              "      <td>None</td>\n",
              "      <td>None</td>\n",
              "      <td>None</td>\n",
              "      <td>None</td>\n",
              "    </tr>\n",
              "    <tr>\n",
              "      <th>1</th>\n",
              "      <td>Ene/2023</td>\n",
              "      <td>290567</td>\n",
              "      <td>9.7</td>\n",
              "      <td>92162</td>\n",
              "      <td>3.1</td>\n",
              "      <td>11694</td>\n",
              "      <td>0.4</td>\n",
              "      <td>1085908</td>\n",
              "      <td>36.1</td>\n",
              "      <td>1310881</td>\n",
              "      <td>43.6</td>\n",
              "      <td>30914</td>\n",
              "      <td>1.0</td>\n",
              "      <td>185053</td>\n",
              "      <td>6.2</td>\n",
              "      <td>3007179</td>\n",
              "    </tr>\n",
              "    <tr>\n",
              "      <th>2</th>\n",
              "      <td>Total</td>\n",
              "      <td>290567</td>\n",
              "      <td>9.7</td>\n",
              "      <td>92162</td>\n",
              "      <td>3.1</td>\n",
              "      <td>11694</td>\n",
              "      <td>0.4</td>\n",
              "      <td>1085908</td>\n",
              "      <td>36.1</td>\n",
              "      <td>1310881</td>\n",
              "      <td>43.6</td>\n",
              "      <td>30914</td>\n",
              "      <td>1.0</td>\n",
              "      <td>185053</td>\n",
              "      <td>6.2</td>\n",
              "      <td>3007179</td>\n",
              "    </tr>\n",
              "    <tr>\n",
              "      <th>3</th>\n",
              "      <td>\\n/1 Total gas entregado a usuarios finales (i...</td>\n",
              "      <td>None</td>\n",
              "      <td>None</td>\n",
              "      <td>None</td>\n",
              "      <td>None</td>\n",
              "      <td>None</td>\n",
              "      <td>None</td>\n",
              "      <td>None</td>\n",
              "      <td>None</td>\n",
              "      <td>None</td>\n",
              "      <td>None</td>\n",
              "      <td>None</td>\n",
              "      <td>None</td>\n",
              "      <td>None</td>\n",
              "      <td>None</td>\n",
              "      <td>None</td>\n",
              "    </tr>\n",
              "  </tbody>\n",
              "</table>\n",
              "</div>\n",
              "      <button class=\"colab-df-convert\" onclick=\"convertToInteractive('df-ad3cf190-e07d-4ddb-96fb-d1b80dd17752')\"\n",
              "              title=\"Convert this dataframe to an interactive table.\"\n",
              "              style=\"display:none;\">\n",
              "        \n",
              "  <svg xmlns=\"http://www.w3.org/2000/svg\" height=\"24px\"viewBox=\"0 0 24 24\"\n",
              "       width=\"24px\">\n",
              "    <path d=\"M0 0h24v24H0V0z\" fill=\"none\"/>\n",
              "    <path d=\"M18.56 5.44l.94 2.06.94-2.06 2.06-.94-2.06-.94-.94-2.06-.94 2.06-2.06.94zm-11 1L8.5 8.5l.94-2.06 2.06-.94-2.06-.94L8.5 2.5l-.94 2.06-2.06.94zm10 10l.94 2.06.94-2.06 2.06-.94-2.06-.94-.94-2.06-.94 2.06-2.06.94z\"/><path d=\"M17.41 7.96l-1.37-1.37c-.4-.4-.92-.59-1.43-.59-.52 0-1.04.2-1.43.59L10.3 9.45l-7.72 7.72c-.78.78-.78 2.05 0 2.83L4 21.41c.39.39.9.59 1.41.59.51 0 1.02-.2 1.41-.59l7.78-7.78 2.81-2.81c.8-.78.8-2.07 0-2.86zM5.41 20L4 18.59l7.72-7.72 1.47 1.35L5.41 20z\"/>\n",
              "  </svg>\n",
              "      </button>\n",
              "      \n",
              "  <style>\n",
              "    .colab-df-container {\n",
              "      display:flex;\n",
              "      flex-wrap:wrap;\n",
              "      gap: 12px;\n",
              "    }\n",
              "\n",
              "    .colab-df-convert {\n",
              "      background-color: #E8F0FE;\n",
              "      border: none;\n",
              "      border-radius: 50%;\n",
              "      cursor: pointer;\n",
              "      display: none;\n",
              "      fill: #1967D2;\n",
              "      height: 32px;\n",
              "      padding: 0 0 0 0;\n",
              "      width: 32px;\n",
              "    }\n",
              "\n",
              "    .colab-df-convert:hover {\n",
              "      background-color: #E2EBFA;\n",
              "      box-shadow: 0px 1px 2px rgba(60, 64, 67, 0.3), 0px 1px 3px 1px rgba(60, 64, 67, 0.15);\n",
              "      fill: #174EA6;\n",
              "    }\n",
              "\n",
              "    [theme=dark] .colab-df-convert {\n",
              "      background-color: #3B4455;\n",
              "      fill: #D2E3FC;\n",
              "    }\n",
              "\n",
              "    [theme=dark] .colab-df-convert:hover {\n",
              "      background-color: #434B5C;\n",
              "      box-shadow: 0px 1px 3px 1px rgba(0, 0, 0, 0.15);\n",
              "      filter: drop-shadow(0px 1px 2px rgba(0, 0, 0, 0.3));\n",
              "      fill: #FFFFFF;\n",
              "    }\n",
              "  </style>\n",
              "\n",
              "      <script>\n",
              "        const buttonEl =\n",
              "          document.querySelector('#df-ad3cf190-e07d-4ddb-96fb-d1b80dd17752 button.colab-df-convert');\n",
              "        buttonEl.style.display =\n",
              "          google.colab.kernel.accessAllowed ? 'block' : 'none';\n",
              "\n",
              "        async function convertToInteractive(key) {\n",
              "          const element = document.querySelector('#df-ad3cf190-e07d-4ddb-96fb-d1b80dd17752');\n",
              "          const dataTable =\n",
              "            await google.colab.kernel.invokeFunction('convertToInteractive',\n",
              "                                                     [key], {});\n",
              "          if (!dataTable) return;\n",
              "\n",
              "          const docLinkHtml = 'Like what you see? Visit the ' +\n",
              "            '<a target=\"_blank\" href=https://colab.research.google.com/notebooks/data_table.ipynb>data table notebook</a>'\n",
              "            + ' to learn more about interactive tables.';\n",
              "          element.innerHTML = '';\n",
              "          dataTable['output_type'] = 'display_data';\n",
              "          await google.colab.output.renderOutput(dataTable, element);\n",
              "          const docLink = document.createElement('div');\n",
              "          docLink.innerHTML = docLinkHtml;\n",
              "          element.appendChild(docLink);\n",
              "        }\n",
              "      </script>\n",
              "    </div>\n",
              "  </div>\n",
              "  "
            ]
          },
          "metadata": {},
          "execution_count": 24
        }
      ]
    },
    {
      "cell_type": "markdown",
      "source": [
        "A partir del *DataFrame* `demanda_2023`, se eliminan ciertas columnas y filas."
      ],
      "metadata": {
        "id": "kkOjJgOiHwyg"
      }
    },
    {
      "cell_type": "code",
      "source": [
        "demanda_2023 = demanda_2023.drop([2, 4, 6, 8, 10, 12, 14, 15], axis=1)[1:-2].reset_index(drop=True)"
      ],
      "metadata": {
        "id": "RaoR0sJAHwyg"
      },
      "execution_count": 25,
      "outputs": []
    },
    {
      "cell_type": "markdown",
      "source": [
        "Los valores en `demanda_2023` son interpretados como cadenas de texto (`string`). Se actualiza su *type* mediante el comand `astype()`, siendo éste actualizado a `float`."
      ],
      "metadata": {
        "id": "Flj4_uS3Hwyg"
      }
    },
    {
      "cell_type": "code",
      "source": [
        "for column in demanda_2023.columns[1:]:\n",
        "  demanda_2023[column] = demanda_2023[column].astype(float)"
      ],
      "metadata": {
        "id": "4c-VQHtTHwyg"
      },
      "execution_count": 26,
      "outputs": []
    },
    {
      "cell_type": "markdown",
      "source": [
        "Se renombran las columnas del *DataFrame* `demanda_2023` utilizando las columnas del *DataFrame* `demanda_2013_2021`."
      ],
      "metadata": {
        "id": "nzj9S0OvHwyh"
      }
    },
    {
      "cell_type": "code",
      "source": [
        "demanda_2023.columns = demanda_2013_2021.columns"
      ],
      "metadata": {
        "id": "pFZk25kIHwyh"
      },
      "execution_count": 27,
      "outputs": []
    },
    {
      "cell_type": "markdown",
      "source": [
        "Por último, se actualiza la columna \"indice_tiempo\": dado que no posee información sobre el año, se genera un `date_range` que comienza en enero del año 2022 y tiene una longitud igual a la cantidad de meses del *DataFrame* `demanda_2022`. Se utiliza la frecuencia `MS` para indicar que cada valor en el rango debe indicar el comienzo de un mes (\"Month-Start\")."
      ],
      "metadata": {
        "id": "oYxJIYjIHwyh"
      }
    },
    {
      "cell_type": "code",
      "source": [
        "demanda_2023[\"indice_tiempo\"] = pd.date_range(start='1/1/2023', periods=len(demanda_2023), freq=\"MS\")"
      ],
      "metadata": {
        "id": "-vTZkrZcHwyh"
      },
      "execution_count": 28,
      "outputs": []
    },
    {
      "cell_type": "markdown",
      "source": [
        "## *DataFrame* final\n",
        "\n",
        "Los valores de la demanda de gas natural por tipo de usuario se encuentran, entonces, separados:\n",
        "\n",
        "\n",
        "*   El *DataFrame* `demanda_2013_2021` contiene la información desde enero del año 2013 hasta diciembre del año 2021.\n",
        "*   El *DataFrame* `demanda_2022` contiene la información desde enero del año 2022 hasta la actualidad.\n",
        "\n",
        "Ambos archivos se concatenan verticalmente en un solo *DataFrame* denominado `demanda`."
      ],
      "metadata": {
        "id": "cTpSX2BumH9L"
      }
    },
    {
      "cell_type": "code",
      "source": [
        "demanda = pd.concat([demanda_2013_2021, demanda_2022, demanda_2023]).reset_index(drop=True)"
      ],
      "metadata": {
        "id": "TEg9Qp4Iv7D_"
      },
      "execution_count": 29,
      "outputs": []
    },
    {
      "cell_type": "markdown",
      "source": [
        "Finalmente, los valores de algunas columnas pueden agruparse. En particular, se crea la columna \"comercial + sdb + entes_oficiales\" que, como su nombre lo indica, refleja la suma de dichas 3 columnas. Luego, se eliminan las columnas innecesarias."
      ],
      "metadata": {
        "id": "WeJCta67rabB"
      }
    },
    {
      "cell_type": "code",
      "source": [
        "demanda[\"comercial + sdb + entes_oficiales\"] = demanda[\"comercial\"] + demanda[\"sdb\"] + demanda[\"entes_oficiales\"]"
      ],
      "metadata": {
        "id": "7IuGbQpwrPu5"
      },
      "execution_count": 30,
      "outputs": []
    },
    {
      "cell_type": "code",
      "source": [
        "demanda = demanda.drop([\"comercial\", \"sdb\", \"entes_oficiales\"], axis=1)"
      ],
      "metadata": {
        "id": "QM17S_Jjszlp"
      },
      "execution_count": 31,
      "outputs": []
    },
    {
      "cell_type": "markdown",
      "source": [
        "A continuación, se presentan las primeras 5 filas del *DataFrame*."
      ],
      "metadata": {
        "id": "bRc2FjyuqmUQ"
      }
    },
    {
      "cell_type": "code",
      "source": [
        "demanda.head()"
      ],
      "metadata": {
        "colab": {
          "base_uri": "https://localhost:8080/",
          "height": 206
        },
        "id": "qUyJ6AMOojIO",
        "outputId": "771f92aa-bdcb-40db-aee4-82a1da857306"
      },
      "execution_count": 32,
      "outputs": [
        {
          "output_type": "execute_result",
          "data": {
            "text/plain": [
              "  indice_tiempo  residencial  industria  centrales_electricas       gnc  \\\n",
              "0    2013-01-01     275471.0  1061954.0             1718916.0  218695.0   \n",
              "1    2013-02-01     280520.0   970621.0             1538652.0  201606.0   \n",
              "2    2013-03-01     470709.0  1115484.0             1373569.0  230873.0   \n",
              "3    2013-04-01     550480.0  1114318.0             1315524.0  219804.0   \n",
              "4    2013-05-01    1163970.0  1084288.0             1017533.0  232878.0   \n",
              "\n",
              "   comercial + sdb + entes_oficiales  \n",
              "0                           128402.0  \n",
              "1                           122207.0  \n",
              "2                           150663.0  \n",
              "3                           172006.0  \n",
              "4                           287486.0  "
            ],
            "text/html": [
              "\n",
              "  <div id=\"df-ddc6c37b-0a28-4bce-8118-0801239f630a\">\n",
              "    <div class=\"colab-df-container\">\n",
              "      <div>\n",
              "<style scoped>\n",
              "    .dataframe tbody tr th:only-of-type {\n",
              "        vertical-align: middle;\n",
              "    }\n",
              "\n",
              "    .dataframe tbody tr th {\n",
              "        vertical-align: top;\n",
              "    }\n",
              "\n",
              "    .dataframe thead th {\n",
              "        text-align: right;\n",
              "    }\n",
              "</style>\n",
              "<table border=\"1\" class=\"dataframe\">\n",
              "  <thead>\n",
              "    <tr style=\"text-align: right;\">\n",
              "      <th></th>\n",
              "      <th>indice_tiempo</th>\n",
              "      <th>residencial</th>\n",
              "      <th>industria</th>\n",
              "      <th>centrales_electricas</th>\n",
              "      <th>gnc</th>\n",
              "      <th>comercial + sdb + entes_oficiales</th>\n",
              "    </tr>\n",
              "  </thead>\n",
              "  <tbody>\n",
              "    <tr>\n",
              "      <th>0</th>\n",
              "      <td>2013-01-01</td>\n",
              "      <td>275471.0</td>\n",
              "      <td>1061954.0</td>\n",
              "      <td>1718916.0</td>\n",
              "      <td>218695.0</td>\n",
              "      <td>128402.0</td>\n",
              "    </tr>\n",
              "    <tr>\n",
              "      <th>1</th>\n",
              "      <td>2013-02-01</td>\n",
              "      <td>280520.0</td>\n",
              "      <td>970621.0</td>\n",
              "      <td>1538652.0</td>\n",
              "      <td>201606.0</td>\n",
              "      <td>122207.0</td>\n",
              "    </tr>\n",
              "    <tr>\n",
              "      <th>2</th>\n",
              "      <td>2013-03-01</td>\n",
              "      <td>470709.0</td>\n",
              "      <td>1115484.0</td>\n",
              "      <td>1373569.0</td>\n",
              "      <td>230873.0</td>\n",
              "      <td>150663.0</td>\n",
              "    </tr>\n",
              "    <tr>\n",
              "      <th>3</th>\n",
              "      <td>2013-04-01</td>\n",
              "      <td>550480.0</td>\n",
              "      <td>1114318.0</td>\n",
              "      <td>1315524.0</td>\n",
              "      <td>219804.0</td>\n",
              "      <td>172006.0</td>\n",
              "    </tr>\n",
              "    <tr>\n",
              "      <th>4</th>\n",
              "      <td>2013-05-01</td>\n",
              "      <td>1163970.0</td>\n",
              "      <td>1084288.0</td>\n",
              "      <td>1017533.0</td>\n",
              "      <td>232878.0</td>\n",
              "      <td>287486.0</td>\n",
              "    </tr>\n",
              "  </tbody>\n",
              "</table>\n",
              "</div>\n",
              "      <button class=\"colab-df-convert\" onclick=\"convertToInteractive('df-ddc6c37b-0a28-4bce-8118-0801239f630a')\"\n",
              "              title=\"Convert this dataframe to an interactive table.\"\n",
              "              style=\"display:none;\">\n",
              "        \n",
              "  <svg xmlns=\"http://www.w3.org/2000/svg\" height=\"24px\"viewBox=\"0 0 24 24\"\n",
              "       width=\"24px\">\n",
              "    <path d=\"M0 0h24v24H0V0z\" fill=\"none\"/>\n",
              "    <path d=\"M18.56 5.44l.94 2.06.94-2.06 2.06-.94-2.06-.94-.94-2.06-.94 2.06-2.06.94zm-11 1L8.5 8.5l.94-2.06 2.06-.94-2.06-.94L8.5 2.5l-.94 2.06-2.06.94zm10 10l.94 2.06.94-2.06 2.06-.94-2.06-.94-.94-2.06-.94 2.06-2.06.94z\"/><path d=\"M17.41 7.96l-1.37-1.37c-.4-.4-.92-.59-1.43-.59-.52 0-1.04.2-1.43.59L10.3 9.45l-7.72 7.72c-.78.78-.78 2.05 0 2.83L4 21.41c.39.39.9.59 1.41.59.51 0 1.02-.2 1.41-.59l7.78-7.78 2.81-2.81c.8-.78.8-2.07 0-2.86zM5.41 20L4 18.59l7.72-7.72 1.47 1.35L5.41 20z\"/>\n",
              "  </svg>\n",
              "      </button>\n",
              "      \n",
              "  <style>\n",
              "    .colab-df-container {\n",
              "      display:flex;\n",
              "      flex-wrap:wrap;\n",
              "      gap: 12px;\n",
              "    }\n",
              "\n",
              "    .colab-df-convert {\n",
              "      background-color: #E8F0FE;\n",
              "      border: none;\n",
              "      border-radius: 50%;\n",
              "      cursor: pointer;\n",
              "      display: none;\n",
              "      fill: #1967D2;\n",
              "      height: 32px;\n",
              "      padding: 0 0 0 0;\n",
              "      width: 32px;\n",
              "    }\n",
              "\n",
              "    .colab-df-convert:hover {\n",
              "      background-color: #E2EBFA;\n",
              "      box-shadow: 0px 1px 2px rgba(60, 64, 67, 0.3), 0px 1px 3px 1px rgba(60, 64, 67, 0.15);\n",
              "      fill: #174EA6;\n",
              "    }\n",
              "\n",
              "    [theme=dark] .colab-df-convert {\n",
              "      background-color: #3B4455;\n",
              "      fill: #D2E3FC;\n",
              "    }\n",
              "\n",
              "    [theme=dark] .colab-df-convert:hover {\n",
              "      background-color: #434B5C;\n",
              "      box-shadow: 0px 1px 3px 1px rgba(0, 0, 0, 0.15);\n",
              "      filter: drop-shadow(0px 1px 2px rgba(0, 0, 0, 0.3));\n",
              "      fill: #FFFFFF;\n",
              "    }\n",
              "  </style>\n",
              "\n",
              "      <script>\n",
              "        const buttonEl =\n",
              "          document.querySelector('#df-ddc6c37b-0a28-4bce-8118-0801239f630a button.colab-df-convert');\n",
              "        buttonEl.style.display =\n",
              "          google.colab.kernel.accessAllowed ? 'block' : 'none';\n",
              "\n",
              "        async function convertToInteractive(key) {\n",
              "          const element = document.querySelector('#df-ddc6c37b-0a28-4bce-8118-0801239f630a');\n",
              "          const dataTable =\n",
              "            await google.colab.kernel.invokeFunction('convertToInteractive',\n",
              "                                                     [key], {});\n",
              "          if (!dataTable) return;\n",
              "\n",
              "          const docLinkHtml = 'Like what you see? Visit the ' +\n",
              "            '<a target=\"_blank\" href=https://colab.research.google.com/notebooks/data_table.ipynb>data table notebook</a>'\n",
              "            + ' to learn more about interactive tables.';\n",
              "          element.innerHTML = '';\n",
              "          dataTable['output_type'] = 'display_data';\n",
              "          await google.colab.output.renderOutput(dataTable, element);\n",
              "          const docLink = document.createElement('div');\n",
              "          docLink.innerHTML = docLinkHtml;\n",
              "          element.appendChild(docLink);\n",
              "        }\n",
              "      </script>\n",
              "    </div>\n",
              "  </div>\n",
              "  "
            ]
          },
          "metadata": {},
          "execution_count": 32
        }
      ]
    },
    {
      "cell_type": "markdown",
      "source": [
        "Por último, se exporta el *DataFrame* en formato `.xlsx`."
      ],
      "metadata": {
        "id": "cVMsfhQgsh66"
      }
    },
    {
      "cell_type": "code",
      "source": [
        "demanda.to_excel(\"Demanda de gas natural por tipo de usuario.xlsx\", index=False)"
      ],
      "metadata": {
        "id": "W8_etMnLsm13"
      },
      "execution_count": 33,
      "outputs": []
    },
    {
      "cell_type": "markdown",
      "source": [
        "## Figura: Composición mensual de la demanda de gas por tipo de usuario"
      ],
      "metadata": {
        "id": "gIY_HjZxqw3G"
      }
    },
    {
      "cell_type": "markdown",
      "source": [
        "Al tratarse de una sola figura, en este caso, no es necesario definir una función, sino que las especificaciones de la figura se encuentran en el argumento de ésta.\n",
        "\n",
        "Sin embargo, resulta eficiente crear una función para modificar el aspecto de la figura en general. Así, la función `gas_update_layout` contiene el código necesario para esta visualización.\n",
        "\n",
        "Sus parámetros son:\n",
        "*   `fig`: el nombre de la figura a utilizar.\n",
        "*   `df`: el *DataFrame* que contiene la información a graficar.\n",
        "*   `min`: valor mínimo del eje de ordenadas.\n",
        "*   `max`: valor máximo del eje de ordenadas.\n",
        "*   `title_text`: título del eje de ordenadas."
      ],
      "metadata": {
        "id": "HAvRARZj5nkE"
      }
    },
    {
      "cell_type": "code",
      "source": [
        "def gas_update_layout(fig, df, min, max, title_text):\n",
        "  fig.update_layout(\n",
        "    plot_bgcolor = 'rgba(0,0,0,0)',\n",
        "    margin = dict(\n",
        "        b=15,\n",
        "        t=15,\n",
        "        l=15,\n",
        "        r=60\n",
        "    ),\n",
        "    legend = dict(\n",
        "        title = None,\n",
        "        orientation = 'h',\n",
        "        xanchor = 'center', \n",
        "        x = 0.5, \n",
        "        yanchor = 'bottom', \n",
        "        y = 1,\n",
        "        font = dict(\n",
        "            size = 16\n",
        "        ),\n",
        "        traceorder=\"normal\"),\n",
        "    height = 750,\n",
        "    width = 1000,\n",
        "    xaxis = dict(\n",
        "        range = [df[\"indice_tiempo\"][0], dt.date(df[\"indice_tiempo\"][len(df)-1].year, df[\"indice_tiempo\"][len(df)-1].month, 28)],\n",
        "        title = None,\n",
        "        tickformat = \"%m\\n<b>%Y\",\n",
        "        dtick = \"M6\",\n",
        "        tickangle = 0\n",
        "        ),\n",
        "    yaxis = dict(\n",
        "        range = [min, max],\n",
        "        title = dict(\n",
        "            text=title_text\n",
        "            ),\n",
        "        showgrid=True,\n",
        "        gridcolor='lightgray'\n",
        "        ),\n",
        "    font = dict(\n",
        "        size = 14,\n",
        "        family = \"serif\"\n",
        "        )\n",
        "    )"
      ],
      "metadata": {
        "id": "ZmOvsy6_7C9n"
      },
      "execution_count": 34,
      "outputs": []
    },
    {
      "cell_type": "markdown",
      "source": [
        "Se establece un color para cada tipo de usuario."
      ],
      "metadata": {
        "id": "7MM-ykTy08ZR"
      }
    },
    {
      "cell_type": "code",
      "source": [
        "colors_demanda = ['rgb(229, 134, 6)', 'rgb(93, 105, 177)', 'rgb(82, 188, 163)', 'rgb(153, 201, 69)', 'rgb(204, 97, 176)']"
      ],
      "metadata": {
        "id": "6GUEkMkWMMDk"
      },
      "execution_count": 35,
      "outputs": []
    },
    {
      "cell_type": "markdown",
      "source": [
        "A los propósitos de una correcta visualización, se deben reordenar las columnas del *DataFrame* `demanda`.\n",
        "\n",
        "Para no afectar directamente a dicho *DataFrame*, se crea una copia de éste llamada `demanda_viz`. Es sobre este último *DataFrame* que se reordenan las columnas."
      ],
      "metadata": {
        "id": "5zoqYAwD1H45"
      }
    },
    {
      "cell_type": "code",
      "source": [
        "demanda_viz = demanda.copy()"
      ],
      "metadata": {
        "id": "Hq7yAGPJ1cc4"
      },
      "execution_count": 36,
      "outputs": []
    },
    {
      "cell_type": "code",
      "source": [
        "demanda_viz = demanda_viz[[demanda_viz.columns[0]] + [demanda_viz.columns[3]] +\n",
        "                          [demanda_viz.columns[2]] + [demanda_viz.columns[1]] +\n",
        "                          [demanda_viz.columns[4]] + [demanda_viz.columns[5]]\n",
        "                          ]"
      ],
      "metadata": {
        "id": "Pwe3cjon1nNn"
      },
      "execution_count": 37,
      "outputs": []
    },
    {
      "cell_type": "markdown",
      "source": [
        "En tanto, la variable `aggregate_demanda` es:\n",
        "\n",
        "\n",
        "*   0 si el tipo de demanda es residencial\n",
        "*   El valor de la suma de las demandas inmediatamente anteriores si el tipo de demanda no es residencial.\n",
        "\n"
      ],
      "metadata": {
        "id": "o70hxqgHryhO"
      }
    },
    {
      "cell_type": "code",
      "source": [
        "aggregate_demanda = []\n",
        "for column, i in zip(demanda_viz.columns[1:], range(0, len(demanda_viz.columns[1:])+1)):\n",
        "  if column == demanda_viz.columns[1]:\n",
        "    aggregate_demanda.append(0)\n",
        "  else:\n",
        "    aggregate_demanda.append(demanda_viz[demanda_viz.columns[1:]].cumsum(axis=1).tail(1).values[0].tolist()[i] - demanda_viz[column][len(demanda_viz)-1])"
      ],
      "metadata": {
        "id": "qOuCrGPgveHg"
      },
      "execution_count": 38,
      "outputs": []
    },
    {
      "cell_type": "markdown",
      "source": [
        "Dado que las áreas deben estar apiladas, la lista `filling` contiene los valores para asegurar una correcta visualización."
      ],
      "metadata": {
        "id": "en4zW731O5TR"
      }
    },
    {
      "cell_type": "code",
      "source": [
        "filling = [\"tozeroy\"] + [\"tonexty\"]*4"
      ],
      "metadata": {
        "id": "zoMnOfGBO5j3"
      },
      "execution_count": 39,
      "outputs": []
    },
    {
      "cell_type": "markdown",
      "source": [
        "Por último, se especifican los nombres de cada tipo de usuario."
      ],
      "metadata": {
        "id": "Q3lIBbdG35tD"
      }
    },
    {
      "cell_type": "code",
      "source": [
        "names = ['Centrales Eléctricas', 'Industria', 'Residencial', 'GNC', 'Comercial + Subdistribuidoras + Entes Oficiales']"
      ],
      "metadata": {
        "id": "r-3GhCXd3-um"
      },
      "execution_count": 40,
      "outputs": []
    },
    {
      "cell_type": "markdown",
      "source": [
        "Se crea la figura `demanda_gas` en el entorno de Plotly (utilizando `graph_objects` como `go`)."
      ],
      "metadata": {
        "id": "d87xbZ40sbJU"
      }
    },
    {
      "cell_type": "code",
      "source": [
        "demanda_gas = go.Figure()"
      ],
      "metadata": {
        "id": "ApAYbbRosaRX"
      },
      "execution_count": 41,
      "outputs": []
    },
    {
      "cell_type": "markdown",
      "source": [
        "Las especificaciones de la figura se encuentran en su argumento, y se hace uso de la función `gas_update_layout` para modificar el aspecto de la figura en general."
      ],
      "metadata": {
        "id": "DQM8cRJlStxt"
      }
    },
    {
      "cell_type": "code",
      "source": [
        "for tipo_usuario, name, color, agg, fill in zip(demanda_viz.columns[1:].tolist(), names, colors_demanda, aggregate_demanda, filling):\n",
        "  demanda_gas.add_trace(\n",
        "    go.Scatter(\n",
        "      x = demanda_viz[\"indice_tiempo\"],\n",
        "      y = demanda_viz[tipo_usuario],\n",
        "      mode = 'lines',\n",
        "      name = name,\n",
        "      line = dict(\n",
        "          color = color\n",
        "      ),\n",
        "      fill = fill,\n",
        "      stackgroup = 'one'\n",
        "    )\n",
        "  )\n",
        "  demanda_gas.add_trace(\n",
        "    go.Scatter(\n",
        "      showlegend = False,\n",
        "      name = tipo_usuario + \" - EoP\",\n",
        "      mode = \"markers\",\n",
        "      x = demanda_viz[\"indice_tiempo\"].tail(1),\n",
        "      y = demanda_viz[tipo_usuario].tail(1) + agg,\n",
        "      marker = dict(color = color, size=10),\n",
        "      )\n",
        "    )\n",
        "  demanda_gas.add_annotation(\n",
        "    x = demanda_viz[\"indice_tiempo\"][len(demanda_viz)-1],\n",
        "    y = demanda_viz[tipo_usuario][-1:].values[0] + agg,\n",
        "    text = str(round(demanda_viz[tipo_usuario][-1:].values[0]/1000000, 2)) + \"M\",\n",
        "    font = dict(color = color),\n",
        "    xanchor = \"left\",\n",
        "    xshift = 5,\n",
        "    yshift = 0,\n",
        "    showarrow = False\n",
        "    )\n",
        "\n",
        "gas_update_layout(demanda_gas, demanda_viz, -25000, 4750000, \"<b>Miles de m\\u00b3\")"
      ],
      "metadata": {
        "id": "JnYEJ-FBOmy1"
      },
      "execution_count": 42,
      "outputs": []
    },
    {
      "cell_type": "markdown",
      "source": [
        "A continuación, se exhibe la figura."
      ],
      "metadata": {
        "id": "B74BAcxwTE2d"
      }
    },
    {
      "cell_type": "code",
      "source": [
        "demanda_gas.show(\"png\")"
      ],
      "metadata": {
        "colab": {
          "base_uri": "https://localhost:8080/",
          "height": 767
        },
        "id": "bm0J6v3NJlL8",
        "outputId": "161a5cd5-394e-4623-eccb-a14b4b2b7372"
      },
      "execution_count": 43,
      "outputs": [
        {
          "output_type": "display_data",
          "data": {
            "image/png": "[encoded data removed]"
          },
          "metadata": {}
        }
      ]
    },
    {
      "cell_type": "markdown",
      "source": [
        "Si se desea exportar la figura a formato `.pdf`, se debe des-comentar y ejecutar la siguiente celda. Recuérdese que el *package* `kaleido` debe estar correctamente instalado."
      ],
      "metadata": {
        "id": "d1_-judj2M7B"
      }
    },
    {
      "cell_type": "code",
      "source": [
        "pio.write_image(demanda_gas, \"Figura Demanda Gas.pdf\", width=3*300, height=2.25*300)"
      ],
      "metadata": {
        "id": "xihgJA2z2dtC"
      },
      "execution_count": 44,
      "outputs": []
    }
  ]
}