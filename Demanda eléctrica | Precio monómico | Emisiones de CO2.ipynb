{
  "nbformat": 4,
  "nbformat_minor": 0,
  "metadata": {
    "colab": {
      "provenance": [],
      "authorship_tag": "ABX9TyPZm0NDesIbxFcmVfix7tMt"
    },
    "kernelspec": {
      "name": "python3",
      "display_name": "Python 3"
    },
    "language_info": {
      "name": "python"
    }
  },
  "cells": [
    {
      "cell_type": "markdown",
      "source": [
        "# **Composición mensual de la demanda eléctrica, precio monómico y emisiones por GWh generado**\n",
        "\n",
        "\n",
        "---\n",
        "\n",
        "\n",
        "El presente archivo contiene el código utilizado para obtener, procesar y analizar los datos mensuales de la demanda eléctrica, el precio monómico de generación y las emisiones de dióxido de carbono (CO<sub>2</sub>), relevados por la Compañía Administradora del Mercado Mayorista Eléctrico Sociedad Anónima (CAMMESA).\n",
        "\n",
        "El estudio de la evolución de la demanda eléctrica, y -en particular- de su composición, permite extraer conclusiones sobre los niveles de actividad económica. El precio monómico, en tanto, es fundamental para comprender el costo real de generación eléctrica. Por último, la cantidad de dióxido de carbono emitido por GWh generado brinda una medida de la eficiencia de la matriz energética.\n",
        "\n",
        "Como resultado del análisis de datos, se presentan tres figuras: \n",
        "\n",
        "\n",
        "*   Para el estudio de la composición mensual de la demanda eléctrica, se presenta un gráfico de áreas apiladas, que permite visualizar claramente las participaciones de cada tipo de usuario.\n",
        "*   Para el estudio del precio monómico, se presenta un gráfico de líneas, que muestra su evolución nominal.\n",
        "*   Para el estudio de las emisiones, se presenta un gráfico de líneas, que muestra su evolución en toneladas de CO<sub>2</sub> por GWh generado."
      ],
      "metadata": {
        "id": "IsvuQJ_3RpYl"
      }
    },
    {
      "cell_type": "markdown",
      "source": [
        "## Preliminar"
      ],
      "metadata": {
        "id": "Q8VY5QjxPQhK"
      }
    },
    {
      "cell_type": "markdown",
      "source": [
        "### Importación de *libraries*\n",
        "\n",
        "Se importan las *libraries* a utilizar en el código."
      ],
      "metadata": {
        "id": "Wb4Bl30G7H9I"
      }
    },
    {
      "cell_type": "code",
      "source": [
        "import pandas as pd\n",
        "import requests\n",
        "import zipfile\n",
        "import io\n",
        "import plotly.graph_objects as go\n",
        "import plotly.io as pio\n",
        "import datetime as dt\n",
        "from datetime import date"
      ],
      "metadata": {
        "id": "rLLWts9fti4E"
      },
      "execution_count": 1,
      "outputs": []
    },
    {
      "cell_type": "markdown",
      "source": [
        "### Exportación a archivo `.pdf`\n",
        "\n",
        "En caso de precisarse exportar las figuras resultantes a formato `.pdf`, se debe instalar el *package* `kaleido`.\n",
        "\n",
        "**IMPORTANTE**: para evitar problemas de desconexión, es recomendable ejecutar el código la siguiente celda y, una vez terminado el proceso de instalación, reiniciar el entorno de ejecución y ejecutar todas las celdas."
      ],
      "metadata": {
        "id": "HJrL1Jgw03te"
      }
    },
    {
      "cell_type": "code",
      "source": [
        "!pip install -U kaleido"
      ],
      "metadata": {
        "id": "YwZ_PfIfbbkT",
        "colab": {
          "base_uri": "https://localhost:8080/"
        },
        "outputId": "1a36386e-6b5a-4952-fbee-1f4eacb1197e"
      },
      "execution_count": 2,
      "outputs": [
        {
          "output_type": "stream",
          "name": "stdout",
          "text": [
            "Looking in indexes: https://pypi.org/simple, https://us-python.pkg.dev/colab-wheels/public/simple/\n",
            "Collecting kaleido\n",
            "  Downloading kaleido-0.2.1-py2.py3-none-manylinux1_x86_64.whl (79.9 MB)\n",
            "\u001b[2K     \u001b[90m━━━━━━━━━━━━━━━━━━━━━━━━━━━━━━━━━━━━━━━━\u001b[0m \u001b[32m79.9/79.9 MB\u001b[0m \u001b[31m8.4 MB/s\u001b[0m eta \u001b[36m0:00:00\u001b[0m\n",
            "\u001b[?25hInstalling collected packages: kaleido\n",
            "Successfully installed kaleido-0.2.1\n"
          ]
        }
      ]
    },
    {
      "cell_type": "markdown",
      "source": [
        "## Obtención y limpieza de datos\n",
        "\n",
        "La Compañía Administradora del Mercado Mayorista Eléctrico Sociedad Anónima (CAMMESA) publica informes mensuales (Informe Síntesis Mensual del MEM) en los que se resume la información de cada mes."
      ],
      "metadata": {
        "id": "VKNR7MUfpVXy"
      }
    },
    {
      "cell_type": "markdown",
      "source": [
        "### General\n",
        "\n",
        "Ante la falta de una serie histórica de las variables a utilizar, se deben utilizar las \"bases\" de los informes mensuales. Particularmente, se precisará las bases de los años definidos en la lista `years`."
      ],
      "metadata": {
        "id": "-aXhsfZz7IWF"
      }
    },
    {
      "cell_type": "code",
      "source": [
        "years = [2017, 2020, 2021]"
      ],
      "metadata": {
        "id": "GkasVZAYEbOQ"
      },
      "execution_count": 3,
      "outputs": []
    },
    {
      "cell_type": "markdown",
      "source": [
        "Cada uno de estos archivos contiene, asimismo, un número de identificación, definido en la lista `identifiers`."
      ],
      "metadata": {
        "id": "4OAdk86drBNv"
      }
    },
    {
      "cell_type": "code",
      "source": [
        "identifiers = [\"36502\", \"39195\", \"41598\"]"
      ],
      "metadata": {
        "id": "seVJ-NnGEm-9"
      },
      "execution_count": 4,
      "outputs": []
    },
    {
      "cell_type": "markdown",
      "source": [
        "Para acceder a dichos archivos, se crea una lista de links (`urls`) que remite a cada archivo."
      ],
      "metadata": {
        "id": "mKsEEhY_rOpG"
      }
    },
    {
      "cell_type": "code",
      "source": [
        "urls = []\n",
        "for year, identifier in zip(years, identifiers):\n",
        "  if year != 2021:\n",
        "    url = f\"https://cammesaweb.cammesa.com/download/base_informe_mensual-{year}-12/?wpdmdl={identifier}\"\n",
        "    urls.append(url)\n",
        "  else:\n",
        "    url = f\"https://cammesaweb.cammesa.com/download/base_informe_mensual_{year}-12/?wpdmdl={identifier}\"\n",
        "    urls.append(url)"
      ],
      "metadata": {
        "id": "wioE0hV4E1V0"
      },
      "execution_count": 5,
      "outputs": []
    },
    {
      "cell_type": "markdown",
      "source": [
        "Los archivos ya mencionados son publicados en forma de varios archivos `.xlsx` (Excel) que se encuentra dentro de un archivo `.zip`. Dado que la *library* `pandas` no lee archivos `.zip` directamente, se itera sobre cada link en `urls` para -mediante las *libraries* `request` e `io`- extraer los archivos guardados \"dentro\" del archivo `.zip` y guardarlos en la memoria de la interfaz."
      ],
      "metadata": {
        "id": "uGnlbCc_rcqn"
      }
    },
    {
      "cell_type": "code",
      "source": [
        "for url in urls:\n",
        "  request = requests.get(url)\n",
        "  z = zipfile.ZipFile(io.BytesIO(request.content))\n",
        "  z.extractall()"
      ],
      "metadata": {
        "id": "evJlXvDI8kkw"
      },
      "execution_count": 6,
      "outputs": []
    },
    {
      "cell_type": "markdown",
      "source": [
        "De todos los archivos extraídos, algunos son particularmente relevantes para el análisis:\n",
        "1.   `BASE_INFORME_MENSUAL_2017-12.xlsx` contiene la base total a fecha de diciembre del año de 2017.\n",
        "2.   `BASE_DEMANDA_INFORME_MENSUAL_2020-12.xlsx` contiene la base de demanda a fecha de diciembre del año de 2020.\n",
        "3.   `BASE_OFERTA_INFORME_MENSUAL_2020-12.xlsx` contiene la base de oferta a fecha de diciembre del año de 2020.\n",
        "4.   `BASE_DEMANDA_INFORME_MENSUAL_2021-12.xlsx` contiene la base de demanda a fecha de diciembre del año de 2021.\n",
        "\n",
        "En particular, los archivos 1., 2. y 4. contienen los datos necesarios para el armado de las series históricas precisadas para la demanda y para el precio monómico. El archivo 3., en tanto, contiene los datos necesarios para el estudio de las emisiones de CO<sup>2</sup>.\n",
        "\n",
        "Las cadenas de texto `path_base_2017`, `path_base_demanda_2020`, `path_base_oferta_2020` y `path_base_demanda_2021` contienen las rutas de acceso (`path`) a cada uno de estos archivos."
      ],
      "metadata": {
        "id": "9anmHS0Bt0fE"
      }
    },
    {
      "cell_type": "code",
      "source": [
        "path_base_2017 = \"/content/BASE_INFORME_MENSUAL_2017-12.xlsx\""
      ],
      "metadata": {
        "id": "jhyUuwDqVust"
      },
      "execution_count": 7,
      "outputs": []
    },
    {
      "cell_type": "code",
      "source": [
        "path_base_demanda_2020 = \"/content/BASE_DEMANDA_INFORME_MENSUAL_2020-12.xlsx\""
      ],
      "metadata": {
        "id": "iBUR8Yk0kc_g"
      },
      "execution_count": 8,
      "outputs": []
    },
    {
      "cell_type": "code",
      "source": [
        "path_base_oferta_2020 = \"/content/BASE_OFERTA_INFORME_MENSUAL_2020-12.xlsx\""
      ],
      "metadata": {
        "id": "jx9PA8sRnrUF"
      },
      "execution_count": 9,
      "outputs": []
    },
    {
      "cell_type": "code",
      "source": [
        "path_base_demanda_2021 = \"/content/BASE_DEMANDA_INFORME_MENSUAL_2021-12.xlsx\""
      ],
      "metadata": {
        "id": "dzJntO0-nhwy"
      },
      "execution_count": 10,
      "outputs": []
    },
    {
      "cell_type": "markdown",
      "source": [
        "Sin embargo, los formatos de los archivos extraidos son muy diversos. Por tanto, se requiere especificar algunas de las posibles columnas deseadas en cada tipo de archivo.\n",
        "\n",
        "De esta manera, las listas `cols`, `cols_mas_5` y `cols_precio` brindan alternativas de qué columnas utilizar."
      ],
      "metadata": {
        "id": "aq2OQy3xsAsZ"
      }
    },
    {
      "cell_type": "code",
      "source": [
        "cols = [\"Período\", \"Demanda Residencial\", \"Demanda Comercial\", \"Gran Demanda Industrial/Comercial\", \"Demanda local\"]\n",
        "cols_nrows_no_5 = [\"Período\", \"Demanda Residencial\", \"Demanda Comercial\", \"Gran Usuario en Distribuidor\", \"Gran Usuario MEM\", \"Gran Demanda Industrial/Comercial\", \"Demanda local\"]\n",
        "cols_precio = [\"Período\", \"Precio monómico\"]"
      ],
      "metadata": {
        "id": "ONffxi9zrBhx"
      },
      "execution_count": 11,
      "outputs": []
    },
    {
      "cell_type": "markdown",
      "source": [
        "Una vez identificados los puntos \"en común\" de los archivos deseados, la función `transform_df` permite leerlos y *homogeneizarlos*.\n",
        "\n",
        "Los parámetros de la función son:\n",
        "\n",
        "*   `df`: el nombre de cada `pd.DataFrame()` sobre el cual se leerá y escribirá cada archivo.\n",
        "*   `path`: la ruta de acceso del archivo en el explorador de archivos de Google Colaboratory.\n",
        "*   `sheetname`: el nombre de la hoja a leer.\n",
        "*   `n_skiprows`: cantidad de filas iniciales a ignorar.\n",
        "*   `n_nrows`: cantidad de filas totales a leer.\n",
        "*   `min` y `max`: indicadores de filas sobre los que se *cortará* el *DataFrame*. Las filas menores a `min` y mayores a `max` serán eliminadas."
      ],
      "metadata": {
        "id": "WwkOUfIRtCXD"
      }
    },
    {
      "cell_type": "code",
      "source": [
        "def transform_df(df, path, sheetname, n_skiprows, n_nrows, min, max):\n",
        "  df = pd.read_excel(path, sheet_name=sheetname, skiprows=n_skiprows, nrows=n_nrows).T.reset_index(drop=True)\n",
        "  df.rename(columns=df.iloc[0], inplace = True)\n",
        "  df = df.drop(0).reset_index(drop=True)\n",
        "  df = df[min:max]\n",
        "  if sheetname == \"DEMANDA\":\n",
        "    if n_nrows == 5:\n",
        "      df.columns = cols\n",
        "    else:\n",
        "      df.columns = cols_nrows_no_5\n",
        "  elif sheetname == \"PRECIOS\":\n",
        "    df = df[[df.columns[0]] + [df.columns[12]]]\n",
        "    df.columns = cols_precio\n",
        "    df = df[1::]\n",
        "  elif sheetname == \"GENERACION\":\n",
        "    df = df[[df.columns[0]] + [df.columns[5]]]\n",
        "  return df"
      ],
      "metadata": {
        "id": "pyM8mOdiYuqC"
      },
      "execution_count": 12,
      "outputs": []
    },
    {
      "cell_type": "markdown",
      "source": [
        "### Demanda eléctrica\n",
        "\n",
        "Como fuera dicho anteriormente, la falta de publicación de una serie histórica completa genera que se deban tratar con múltiples archivos a la vez.\n",
        "\n",
        "El análisis comprende todos los meses desde enero del año 2013 a la fecha. En este sentido, se trabajará con 4 archivos diferentes:\n",
        "\n",
        "\n",
        "1.   Enero 2013 a diciembre 2016: `BASE_INFORME_MENSUAL_2017-12.xlsx`, cuya ruta de acceso es `path_base_2017`.\n",
        "2.   Enero 2017 a diciembre 2017: `BASE_DEMANDA_INFORME_MENSUAL_2020-12.xlsx`, cuya ruta de acceso es `path_base_demanda_2020`.\n",
        "3.   Enero 2018 a diciembre 2019: `BASE_DEMANDA_INFORME_MENSUAL_2021-12.xlsx`, cuya ruta de acceso es `path_base_demanda_2021`.\n",
        "4.   Enero 2020 a la actualidad: último Informe mensual de demanda, cuya ruta de acceso será definida oportunamente como `last_demanda`."
      ],
      "metadata": {
        "id": "I2twr3JH7M8F"
      }
    },
    {
      "cell_type": "markdown",
      "source": [
        "Se crea el *DataFrame* `demanda_2013_2016` y se le aplica la función `transform_df` con los parámetros correspondientes. Se utiliza `path_base_2017` dado que refiere a la base mensual de diciembre del año 2017.\n",
        "\n",
        "`demanda_2013_2016`, como su nombre lo indica, contendrá la evolución de la demanda para el primer período (enero 2013 a diciembre 2016)."
      ],
      "metadata": {
        "id": "HmHShG0_-6zo"
      }
    },
    {
      "cell_type": "code",
      "source": [
        "demanda_2013_2016 = pd.DataFrame()\n",
        "demanda_2013_2016 = transform_df(demanda_2013_2016, path_base_2017, \"DEMANDA\", 3, 5, 0, 48)"
      ],
      "metadata": {
        "id": "TXy6ylayVuqc"
      },
      "execution_count": 13,
      "outputs": []
    },
    {
      "cell_type": "markdown",
      "source": [
        "Al igual que anteriormente, se crea el *DataFrame* `demanda_2017` y se le aplica la función `transform_df` con los parámetros correspondientes. Se utiliza `path_base_demanda_2020` refiriendo a la base mensual de diciembre del año 2020. El *DataFrame* contendrá la evolución de la demanda para el segundo período (enero 2017 a diciembre 2017)."
      ],
      "metadata": {
        "id": "Wha7IOXv_WTx"
      }
    },
    {
      "cell_type": "code",
      "source": [
        "demanda_2017 = pd.DataFrame()\n",
        "demanda_2017 = transform_df(demanda_2017, path_base_demanda_2020, \"DEMANDA\", 3, 5, 0, 12)"
      ],
      "metadata": {
        "id": "t5SbUV_jlVE2"
      },
      "execution_count": 14,
      "outputs": []
    },
    {
      "cell_type": "markdown",
      "source": [
        "El *DataFrame* `demanda_2018_2019` contiene la evolución de la demanda durante el tercer período (enero 2018 a diciembre 2019). Se utiliza `path_base_demanda_2021` dado que refiere a la base mensual de diciembre del año 2021."
      ],
      "metadata": {
        "id": "9NqCCTG1_sOh"
      }
    },
    {
      "cell_type": "code",
      "source": [
        "demanda_2018_2019 = pd.DataFrame()\n",
        "demanda_2018_2019 = transform_df(demanda_2018_2019, path_base_demanda_2021, \"DEMANDA\", 3, 7, 0, 24)"
      ],
      "metadata": {
        "id": "qtWvpyrBlVJv"
      },
      "execution_count": 15,
      "outputs": []
    },
    {
      "cell_type": "markdown",
      "source": [
        "Se eliminan algunas columnas innecesarias en `demanda_2018`."
      ],
      "metadata": {
        "id": "Hn7mzobS_7_e"
      }
    },
    {
      "cell_type": "code",
      "source": [
        "demanda_2018_2019 = demanda_2018_2019.drop([demanda_2018_2019.columns[3], demanda_2018_2019.columns[4]], axis=1)"
      ],
      "metadata": {
        "id": "ve5cRaa4lVMS"
      },
      "execution_count": 16,
      "outputs": []
    },
    {
      "cell_type": "markdown",
      "source": [
        "Para el cuarto y último período, el `path` toma la forma de un link de descarga (`last_demanda`) a la página oficial de CAMMESA, dado que se utiliza la última versión disponible del Informe de Demanda Mensual."
      ],
      "metadata": {
        "id": "vWeMuAeBAE7w"
      }
    },
    {
      "cell_type": "code",
      "source": [
        "last_demanda = \"https://cammesaweb.cammesa.com/download/demanda-mensual/?wpdmdl=41426\""
      ],
      "metadata": {
        "id": "HpyhjafUmIW_"
      },
      "execution_count": 17,
      "outputs": []
    },
    {
      "cell_type": "markdown",
      "source": [
        "Es creado y actualizado el *DataFrame* `demanda_2020_act`."
      ],
      "metadata": {
        "id": "CsvZMVueAfUV"
      }
    },
    {
      "cell_type": "code",
      "source": [
        "demanda_2020_act = pd.DataFrame()\n",
        "demanda_2020_act = transform_df(demanda_2020_act, last_demanda, \"DEMANDA\", 3, 7, None, None)"
      ],
      "metadata": {
        "id": "zViY8EdOlshW"
      },
      "execution_count": 18,
      "outputs": []
    },
    {
      "cell_type": "markdown",
      "source": [
        "Nuevamente, se eliminan algunas columnas innecesarias en `demanda_2020_act`."
      ],
      "metadata": {
        "id": "HdW5zfk8Ak6E"
      }
    },
    {
      "cell_type": "code",
      "source": [
        "demanda_2020_act = demanda_2020_act.drop([demanda_2020_act.columns[3], demanda_2020_act.columns[4]], axis=1)"
      ],
      "metadata": {
        "id": "a15ExXnxmkNj"
      },
      "execution_count": 19,
      "outputs": []
    },
    {
      "cell_type": "markdown",
      "source": [
        "#### *DataFrame* final\n",
        "\n",
        "Todos los *DataFrames* anteriores son unidos (`pd.concat()`) en un solo *DataFrame* llamado `demanda`, que contiene la serie histórica de la composición de demanda desde enero del año 2013."
      ],
      "metadata": {
        "id": "GrMe9M_fBS48"
      }
    },
    {
      "cell_type": "code",
      "source": [
        "demanda = pd.concat([\n",
        "    demanda_2013_2016,\n",
        "    demanda_2017,\n",
        "    demanda_2018_2019,\n",
        "    demanda_2020_act]).reset_index(drop=True)"
      ],
      "metadata": {
        "id": "oEbjw_b1oM4O"
      },
      "execution_count": 20,
      "outputs": []
    },
    {
      "cell_type": "markdown",
      "source": [
        "Un valor de la columna \"Período\" (fila 70) era erróneo. Se lo modifica manualmente."
      ],
      "metadata": {
        "id": "bmbpyEZ_BBEy"
      }
    },
    {
      "cell_type": "code",
      "source": [
        "demanda[\"Período\"][70] = pd.to_datetime((demanda[\"Período\"][70] - 25569) * 86400.0, unit='s')"
      ],
      "metadata": {
        "id": "xyCqrryLrJuL"
      },
      "execution_count": 21,
      "outputs": []
    },
    {
      "cell_type": "markdown",
      "source": [
        "A continuación, se presentan las primeras 5 filas del *DataFrame*."
      ],
      "metadata": {
        "id": "-W_d4td5BarF"
      }
    },
    {
      "cell_type": "code",
      "source": [
        "demanda.head()"
      ],
      "metadata": {
        "colab": {
          "base_uri": "https://localhost:8080/",
          "height": 206
        },
        "id": "KinejIOqBYmz",
        "outputId": "5be40e19-ad44-45e9-829b-8c680fae2b4b"
      },
      "execution_count": 22,
      "outputs": [
        {
          "output_type": "execute_result",
          "data": {
            "text/plain": [
              "               Período Demanda Residencial Demanda Comercial  \\\n",
              "0  2013-01-01 00:00:00         4538446.146       3319300.732   \n",
              "1  2013-02-01 00:00:00         3961686.119       2820263.212   \n",
              "2  2013-03-01 00:00:00         3612835.111       2861328.931   \n",
              "3  2013-04-01 00:00:00         3239380.702        2826797.31   \n",
              "4  2013-05-01 00:00:00         3919668.996       2948663.278   \n",
              "\n",
              "  Gran Demanda Industrial/Comercial Demanda local  \n",
              "0                       3276372.467  11134119.345  \n",
              "1                       3052210.676   9834160.007  \n",
              "2                       3281965.266   9756129.308  \n",
              "3                       3241156.151   9307334.163  \n",
              "4                        3364493.12  10232825.394  "
            ],
            "text/html": [
              "\n",
              "  <div id=\"df-72009317-eff4-4136-812f-247a956ccd01\">\n",
              "    <div class=\"colab-df-container\">\n",
              "      <div>\n",
              "<style scoped>\n",
              "    .dataframe tbody tr th:only-of-type {\n",
              "        vertical-align: middle;\n",
              "    }\n",
              "\n",
              "    .dataframe tbody tr th {\n",
              "        vertical-align: top;\n",
              "    }\n",
              "\n",
              "    .dataframe thead th {\n",
              "        text-align: right;\n",
              "    }\n",
              "</style>\n",
              "<table border=\"1\" class=\"dataframe\">\n",
              "  <thead>\n",
              "    <tr style=\"text-align: right;\">\n",
              "      <th></th>\n",
              "      <th>Período</th>\n",
              "      <th>Demanda Residencial</th>\n",
              "      <th>Demanda Comercial</th>\n",
              "      <th>Gran Demanda Industrial/Comercial</th>\n",
              "      <th>Demanda local</th>\n",
              "    </tr>\n",
              "  </thead>\n",
              "  <tbody>\n",
              "    <tr>\n",
              "      <th>0</th>\n",
              "      <td>2013-01-01 00:00:00</td>\n",
              "      <td>4538446.146</td>\n",
              "      <td>3319300.732</td>\n",
              "      <td>3276372.467</td>\n",
              "      <td>11134119.345</td>\n",
              "    </tr>\n",
              "    <tr>\n",
              "      <th>1</th>\n",
              "      <td>2013-02-01 00:00:00</td>\n",
              "      <td>3961686.119</td>\n",
              "      <td>2820263.212</td>\n",
              "      <td>3052210.676</td>\n",
              "      <td>9834160.007</td>\n",
              "    </tr>\n",
              "    <tr>\n",
              "      <th>2</th>\n",
              "      <td>2013-03-01 00:00:00</td>\n",
              "      <td>3612835.111</td>\n",
              "      <td>2861328.931</td>\n",
              "      <td>3281965.266</td>\n",
              "      <td>9756129.308</td>\n",
              "    </tr>\n",
              "    <tr>\n",
              "      <th>3</th>\n",
              "      <td>2013-04-01 00:00:00</td>\n",
              "      <td>3239380.702</td>\n",
              "      <td>2826797.31</td>\n",
              "      <td>3241156.151</td>\n",
              "      <td>9307334.163</td>\n",
              "    </tr>\n",
              "    <tr>\n",
              "      <th>4</th>\n",
              "      <td>2013-05-01 00:00:00</td>\n",
              "      <td>3919668.996</td>\n",
              "      <td>2948663.278</td>\n",
              "      <td>3364493.12</td>\n",
              "      <td>10232825.394</td>\n",
              "    </tr>\n",
              "  </tbody>\n",
              "</table>\n",
              "</div>\n",
              "      <button class=\"colab-df-convert\" onclick=\"convertToInteractive('df-72009317-eff4-4136-812f-247a956ccd01')\"\n",
              "              title=\"Convert this dataframe to an interactive table.\"\n",
              "              style=\"display:none;\">\n",
              "        \n",
              "  <svg xmlns=\"http://www.w3.org/2000/svg\" height=\"24px\"viewBox=\"0 0 24 24\"\n",
              "       width=\"24px\">\n",
              "    <path d=\"M0 0h24v24H0V0z\" fill=\"none\"/>\n",
              "    <path d=\"M18.56 5.44l.94 2.06.94-2.06 2.06-.94-2.06-.94-.94-2.06-.94 2.06-2.06.94zm-11 1L8.5 8.5l.94-2.06 2.06-.94-2.06-.94L8.5 2.5l-.94 2.06-2.06.94zm10 10l.94 2.06.94-2.06 2.06-.94-2.06-.94-.94-2.06-.94 2.06-2.06.94z\"/><path d=\"M17.41 7.96l-1.37-1.37c-.4-.4-.92-.59-1.43-.59-.52 0-1.04.2-1.43.59L10.3 9.45l-7.72 7.72c-.78.78-.78 2.05 0 2.83L4 21.41c.39.39.9.59 1.41.59.51 0 1.02-.2 1.41-.59l7.78-7.78 2.81-2.81c.8-.78.8-2.07 0-2.86zM5.41 20L4 18.59l7.72-7.72 1.47 1.35L5.41 20z\"/>\n",
              "  </svg>\n",
              "      </button>\n",
              "      \n",
              "  <style>\n",
              "    .colab-df-container {\n",
              "      display:flex;\n",
              "      flex-wrap:wrap;\n",
              "      gap: 12px;\n",
              "    }\n",
              "\n",
              "    .colab-df-convert {\n",
              "      background-color: #E8F0FE;\n",
              "      border: none;\n",
              "      border-radius: 50%;\n",
              "      cursor: pointer;\n",
              "      display: none;\n",
              "      fill: #1967D2;\n",
              "      height: 32px;\n",
              "      padding: 0 0 0 0;\n",
              "      width: 32px;\n",
              "    }\n",
              "\n",
              "    .colab-df-convert:hover {\n",
              "      background-color: #E2EBFA;\n",
              "      box-shadow: 0px 1px 2px rgba(60, 64, 67, 0.3), 0px 1px 3px 1px rgba(60, 64, 67, 0.15);\n",
              "      fill: #174EA6;\n",
              "    }\n",
              "\n",
              "    [theme=dark] .colab-df-convert {\n",
              "      background-color: #3B4455;\n",
              "      fill: #D2E3FC;\n",
              "    }\n",
              "\n",
              "    [theme=dark] .colab-df-convert:hover {\n",
              "      background-color: #434B5C;\n",
              "      box-shadow: 0px 1px 3px 1px rgba(0, 0, 0, 0.15);\n",
              "      filter: drop-shadow(0px 1px 2px rgba(0, 0, 0, 0.3));\n",
              "      fill: #FFFFFF;\n",
              "    }\n",
              "  </style>\n",
              "\n",
              "      <script>\n",
              "        const buttonEl =\n",
              "          document.querySelector('#df-72009317-eff4-4136-812f-247a956ccd01 button.colab-df-convert');\n",
              "        buttonEl.style.display =\n",
              "          google.colab.kernel.accessAllowed ? 'block' : 'none';\n",
              "\n",
              "        async function convertToInteractive(key) {\n",
              "          const element = document.querySelector('#df-72009317-eff4-4136-812f-247a956ccd01');\n",
              "          const dataTable =\n",
              "            await google.colab.kernel.invokeFunction('convertToInteractive',\n",
              "                                                     [key], {});\n",
              "          if (!dataTable) return;\n",
              "\n",
              "          const docLinkHtml = 'Like what you see? Visit the ' +\n",
              "            '<a target=\"_blank\" href=https://colab.research.google.com/notebooks/data_table.ipynb>data table notebook</a>'\n",
              "            + ' to learn more about interactive tables.';\n",
              "          element.innerHTML = '';\n",
              "          dataTable['output_type'] = 'display_data';\n",
              "          await google.colab.output.renderOutput(dataTable, element);\n",
              "          const docLink = document.createElement('div');\n",
              "          docLink.innerHTML = docLinkHtml;\n",
              "          element.appendChild(docLink);\n",
              "        }\n",
              "      </script>\n",
              "    </div>\n",
              "  </div>\n",
              "  "
            ]
          },
          "metadata": {},
          "execution_count": 22
        }
      ]
    },
    {
      "cell_type": "markdown",
      "source": [
        "Por último, se exporta el *DataFrame* en formato `.xlsx`."
      ],
      "metadata": {
        "id": "cVMsfhQgsh66"
      }
    },
    {
      "cell_type": "code",
      "source": [
        "demanda.to_excel(\"Demanda eléctrica por tipo de usuario.xlsx\", index=False)"
      ],
      "metadata": {
        "id": "W8_etMnLsm13"
      },
      "execution_count": 23,
      "outputs": []
    },
    {
      "cell_type": "markdown",
      "source": [
        "### Precio monómico\n",
        "\n",
        "Una situación similar se evidencia en el caso de los precios monómicos: se deben examinar múltiples archivos a la vez. \n",
        "\n",
        "Sin embargo, contrariamente al caso de la demanda eléctrica, para conformar la serie histórica desde enero del año 2013 a la fecha solo se precisarán dos archivos:\n",
        "\n",
        "1.   Enero 2013 a diciembre 2015: `BASE_INFORME_MENSUAL_2017-12.xlsx`, cuya ruta de acceso es `path_base_2017`.\n",
        "2.   Enero 2016 a la actualidad: último informe de Precio Monómico Medio y Precio Estacional disponible, cuya ruta de acceso será definida oportunamente como `last_precios`."
      ],
      "metadata": {
        "id": "SPGimJZvEw3T"
      }
    },
    {
      "cell_type": "markdown",
      "source": [
        "En este sentido, nótese que el archivo `BASE_INFORME_MENSUAL_2017-12.xlsx` es el mismo que aquel utilizado en el caso de la demanda eléctrica (y notado en `path_base_2017`): mientras antes se utilizaba la hoja \"DEMANDA\", ahora se utiliza la hoja \"PRECIOS\".\n",
        "\n",
        "Se crea el *DataFrame* `precios_2013_2015` y se le aplica la función `transform_df` con los parámetros correspondientes."
      ],
      "metadata": {
        "id": "Y_I23qn7Ceme"
      }
    },
    {
      "cell_type": "code",
      "source": [
        "precio_2013_2015 = pd.DataFrame()\n",
        "precio_2013_2015 = transform_df(precio_2013_2015, path_base_2017, \"PRECIOS\", 3, 17, 0, 37)"
      ],
      "metadata": {
        "id": "Jr1zZWQIxIM2"
      },
      "execution_count": 24,
      "outputs": []
    },
    {
      "cell_type": "markdown",
      "source": [
        "Para el segundo (y último) período, al igual que en el caso de la demanda eléctrica, el `path` toma la forma de un link de descarga (`last_precios`),  utilizándose la última versión disponible del Informe de Precio Monómico Medio y Precio Estacional."
      ],
      "metadata": {
        "id": "osUWiufjE6k1"
      }
    },
    {
      "cell_type": "code",
      "source": [
        "last_precios = \"https://cammesaweb.cammesa.com/download/precios-mensuales/?wpdmdl=41446\""
      ],
      "metadata": {
        "id": "c7f6rPeX17Mr"
      },
      "execution_count": 25,
      "outputs": []
    },
    {
      "cell_type": "markdown",
      "source": [
        "Se crea y transforma el *DataFrame* `precios_2016_2023`."
      ],
      "metadata": {
        "id": "gUu-YqBcFYnr"
      }
    },
    {
      "cell_type": "code",
      "source": [
        "precio_2016_act = pd.DataFrame()\n",
        "precio_2016_act = transform_df(precio_2016_act, last_precios, \"PRECIOS\", 3, 17, None, None)"
      ],
      "metadata": {
        "id": "eCtXgbgN17Mr"
      },
      "execution_count": 26,
      "outputs": []
    },
    {
      "cell_type": "markdown",
      "source": [
        "#### *DataFrame* final\n",
        "\n",
        "Todos los *DataFrames* anteriores son unidos (`pd.concat()`) en un solo *DataFrame* llamado `precio`, que contiene la serie histórica del precio monómico desde enero del año 2013."
      ],
      "metadata": {
        "id": "OT7Kc-C0Frvz"
      }
    },
    {
      "cell_type": "code",
      "source": [
        "precio = pd.concat([\n",
        "    precio_2013_2015,\n",
        "    precio_2016_act]).reset_index(drop=True)"
      ],
      "metadata": {
        "id": "U4zvRXyP2tHK"
      },
      "execution_count": 27,
      "outputs": []
    },
    {
      "cell_type": "markdown",
      "source": [
        "A continuación, se presentan las primeras 5 filas del *DataFrame*."
      ],
      "metadata": {
        "id": "QuDbllxbF3wP"
      }
    },
    {
      "cell_type": "code",
      "source": [
        "precio.head()"
      ],
      "metadata": {
        "colab": {
          "base_uri": "https://localhost:8080/",
          "height": 206
        },
        "id": "opZBMjI8FzLY",
        "outputId": "2d680af2-151a-4bb4-da32-1755b5177171"
      },
      "execution_count": 28,
      "outputs": [
        {
          "output_type": "execute_result",
          "data": {
            "text/plain": [
              "               Período Precio monómico\n",
              "0  2013-01-01 00:00:00      245.771936\n",
              "1  2013-02-01 00:00:00      283.430338\n",
              "2  2013-03-01 00:00:00      293.989551\n",
              "3  2013-04-01 00:00:00      313.927175\n",
              "4  2013-05-01 00:00:00      470.561839"
            ],
            "text/html": [
              "\n",
              "  <div id=\"df-615af4ab-6726-466f-a0b3-6499d77a6823\">\n",
              "    <div class=\"colab-df-container\">\n",
              "      <div>\n",
              "<style scoped>\n",
              "    .dataframe tbody tr th:only-of-type {\n",
              "        vertical-align: middle;\n",
              "    }\n",
              "\n",
              "    .dataframe tbody tr th {\n",
              "        vertical-align: top;\n",
              "    }\n",
              "\n",
              "    .dataframe thead th {\n",
              "        text-align: right;\n",
              "    }\n",
              "</style>\n",
              "<table border=\"1\" class=\"dataframe\">\n",
              "  <thead>\n",
              "    <tr style=\"text-align: right;\">\n",
              "      <th></th>\n",
              "      <th>Período</th>\n",
              "      <th>Precio monómico</th>\n",
              "    </tr>\n",
              "  </thead>\n",
              "  <tbody>\n",
              "    <tr>\n",
              "      <th>0</th>\n",
              "      <td>2013-01-01 00:00:00</td>\n",
              "      <td>245.771936</td>\n",
              "    </tr>\n",
              "    <tr>\n",
              "      <th>1</th>\n",
              "      <td>2013-02-01 00:00:00</td>\n",
              "      <td>283.430338</td>\n",
              "    </tr>\n",
              "    <tr>\n",
              "      <th>2</th>\n",
              "      <td>2013-03-01 00:00:00</td>\n",
              "      <td>293.989551</td>\n",
              "    </tr>\n",
              "    <tr>\n",
              "      <th>3</th>\n",
              "      <td>2013-04-01 00:00:00</td>\n",
              "      <td>313.927175</td>\n",
              "    </tr>\n",
              "    <tr>\n",
              "      <th>4</th>\n",
              "      <td>2013-05-01 00:00:00</td>\n",
              "      <td>470.561839</td>\n",
              "    </tr>\n",
              "  </tbody>\n",
              "</table>\n",
              "</div>\n",
              "      <button class=\"colab-df-convert\" onclick=\"convertToInteractive('df-615af4ab-6726-466f-a0b3-6499d77a6823')\"\n",
              "              title=\"Convert this dataframe to an interactive table.\"\n",
              "              style=\"display:none;\">\n",
              "        \n",
              "  <svg xmlns=\"http://www.w3.org/2000/svg\" height=\"24px\"viewBox=\"0 0 24 24\"\n",
              "       width=\"24px\">\n",
              "    <path d=\"M0 0h24v24H0V0z\" fill=\"none\"/>\n",
              "    <path d=\"M18.56 5.44l.94 2.06.94-2.06 2.06-.94-2.06-.94-.94-2.06-.94 2.06-2.06.94zm-11 1L8.5 8.5l.94-2.06 2.06-.94-2.06-.94L8.5 2.5l-.94 2.06-2.06.94zm10 10l.94 2.06.94-2.06 2.06-.94-2.06-.94-.94-2.06-.94 2.06-2.06.94z\"/><path d=\"M17.41 7.96l-1.37-1.37c-.4-.4-.92-.59-1.43-.59-.52 0-1.04.2-1.43.59L10.3 9.45l-7.72 7.72c-.78.78-.78 2.05 0 2.83L4 21.41c.39.39.9.59 1.41.59.51 0 1.02-.2 1.41-.59l7.78-7.78 2.81-2.81c.8-.78.8-2.07 0-2.86zM5.41 20L4 18.59l7.72-7.72 1.47 1.35L5.41 20z\"/>\n",
              "  </svg>\n",
              "      </button>\n",
              "      \n",
              "  <style>\n",
              "    .colab-df-container {\n",
              "      display:flex;\n",
              "      flex-wrap:wrap;\n",
              "      gap: 12px;\n",
              "    }\n",
              "\n",
              "    .colab-df-convert {\n",
              "      background-color: #E8F0FE;\n",
              "      border: none;\n",
              "      border-radius: 50%;\n",
              "      cursor: pointer;\n",
              "      display: none;\n",
              "      fill: #1967D2;\n",
              "      height: 32px;\n",
              "      padding: 0 0 0 0;\n",
              "      width: 32px;\n",
              "    }\n",
              "\n",
              "    .colab-df-convert:hover {\n",
              "      background-color: #E2EBFA;\n",
              "      box-shadow: 0px 1px 2px rgba(60, 64, 67, 0.3), 0px 1px 3px 1px rgba(60, 64, 67, 0.15);\n",
              "      fill: #174EA6;\n",
              "    }\n",
              "\n",
              "    [theme=dark] .colab-df-convert {\n",
              "      background-color: #3B4455;\n",
              "      fill: #D2E3FC;\n",
              "    }\n",
              "\n",
              "    [theme=dark] .colab-df-convert:hover {\n",
              "      background-color: #434B5C;\n",
              "      box-shadow: 0px 1px 3px 1px rgba(0, 0, 0, 0.15);\n",
              "      filter: drop-shadow(0px 1px 2px rgba(0, 0, 0, 0.3));\n",
              "      fill: #FFFFFF;\n",
              "    }\n",
              "  </style>\n",
              "\n",
              "      <script>\n",
              "        const buttonEl =\n",
              "          document.querySelector('#df-615af4ab-6726-466f-a0b3-6499d77a6823 button.colab-df-convert');\n",
              "        buttonEl.style.display =\n",
              "          google.colab.kernel.accessAllowed ? 'block' : 'none';\n",
              "\n",
              "        async function convertToInteractive(key) {\n",
              "          const element = document.querySelector('#df-615af4ab-6726-466f-a0b3-6499d77a6823');\n",
              "          const dataTable =\n",
              "            await google.colab.kernel.invokeFunction('convertToInteractive',\n",
              "                                                     [key], {});\n",
              "          if (!dataTable) return;\n",
              "\n",
              "          const docLinkHtml = 'Like what you see? Visit the ' +\n",
              "            '<a target=\"_blank\" href=https://colab.research.google.com/notebooks/data_table.ipynb>data table notebook</a>'\n",
              "            + ' to learn more about interactive tables.';\n",
              "          element.innerHTML = '';\n",
              "          dataTable['output_type'] = 'display_data';\n",
              "          await google.colab.output.renderOutput(dataTable, element);\n",
              "          const docLink = document.createElement('div');\n",
              "          docLink.innerHTML = docLinkHtml;\n",
              "          element.appendChild(docLink);\n",
              "        }\n",
              "      </script>\n",
              "    </div>\n",
              "  </div>\n",
              "  "
            ]
          },
          "metadata": {},
          "execution_count": 28
        }
      ]
    },
    {
      "cell_type": "markdown",
      "source": [
        "Por último, se exporta el *DataFrame* en formato `.xlsx`."
      ],
      "metadata": {
        "id": "eN8M2UkU4se5"
      }
    },
    {
      "cell_type": "code",
      "source": [
        "precio.to_excel(\"Precio monómico.xlsx\", index=False)"
      ],
      "metadata": {
        "id": "i7-VsFOT4se6"
      },
      "execution_count": 29,
      "outputs": []
    },
    {
      "cell_type": "markdown",
      "source": [
        "### Emisiones de CO<sub>2</sub> por GWh generado\n",
        "\n",
        "El estudio de las emisiones de dióxido de carbono (en toneladas por GWh generado) se desarrolla trimestralmente, tomando como punto de partida el primer trimestre del año 2017."
      ],
      "metadata": {
        "id": "MhRkF-1efeak"
      }
    },
    {
      "cell_type": "markdown",
      "source": [
        "#### Consumo mensual de combustibles\n",
        "\n",
        "Primeramente, es necesario obtener los datos correspondientes al consumo de combustibles total desde 2017. Así, se precisan dos archivos:\n",
        "1.   Enero 2017 a diciembre 2019: `BASE_OFERTA_INFORME_MENSUAL_2020-12.xlsx`, cuya ruta de acceso es `path_base_oferta_2020`.\n",
        "2.   Enero 2020 a la actualidad: último informe de Consumo mensual de Combustibles, cuya ruta de acceso será definida oportunamente como `last_combustibles`."
      ],
      "metadata": {
        "id": "7UC0plVN8MWV"
      }
    },
    {
      "cell_type": "markdown",
      "source": [
        "Se crea el *DataFrame* `combustibles_2017_2019` y se le aplica la función `transform_df` con los parámetros correspondientes."
      ],
      "metadata": {
        "id": "aTy6_10UrZzg"
      }
    },
    {
      "cell_type": "code",
      "source": [
        "combustibles_2017_2019 = pd.DataFrame()\n",
        "combustibles_2017_2019 = transform_df(combustibles_2017_2019, path_base_oferta_2020, \"COMBUSTIBLES\", 3, 5, 0, 36)"
      ],
      "metadata": {
        "id": "qPm6Te3Crg7A"
      },
      "execution_count": 30,
      "outputs": []
    },
    {
      "cell_type": "markdown",
      "source": [
        "Para el segundo (y último) período, el `path` toma la forma de un link de descarga (`last_combustibles`),  utilizándose la última versión disponible del informe de Consumo mensual de Combustibles."
      ],
      "metadata": {
        "id": "tFvnaNhnu5gx"
      }
    },
    {
      "cell_type": "code",
      "source": [
        "last_combustibles = \"https://cammesaweb.cammesa.com/download/combustibles-mensual/?wpdmdl=41416\""
      ],
      "metadata": {
        "id": "TVWcXiNju5gx"
      },
      "execution_count": 31,
      "outputs": []
    },
    {
      "cell_type": "markdown",
      "source": [
        "Se crea y transforma el *DataFrame* `combustibles_2020_act`."
      ],
      "metadata": {
        "id": "sAxBjd6pu5gx"
      }
    },
    {
      "cell_type": "code",
      "source": [
        "combustibles_2020_act = pd.DataFrame()\n",
        "combustibles_2020_act = transform_df(combustibles_2020_act, last_combustibles, \"COMBUSTIBLES\", 3, 5, None, None)"
      ],
      "metadata": {
        "id": "clCNth7Wu5gy"
      },
      "execution_count": 32,
      "outputs": []
    },
    {
      "cell_type": "markdown",
      "source": [
        "##### *DataFrame* final\n",
        "\n",
        "Todos los *DataFrames* anteriores son unidos (`pd.concat()`) en un solo *DataFrame* llamado `combustibles`, que contiene la serie histórica del consumo de combustiblesdesde enero del año 2017."
      ],
      "metadata": {
        "id": "vpmGxRqKAhq_"
      }
    },
    {
      "cell_type": "code",
      "source": [
        "combustibles = pd.concat([\n",
        "    combustibles_2017_2019,\n",
        "    combustibles_2020_act]).reset_index(drop=True)"
      ],
      "metadata": {
        "id": "rbB5WJUAAhrA"
      },
      "execution_count": 33,
      "outputs": []
    },
    {
      "cell_type": "markdown",
      "source": [
        "Se renombra la columna del índice temporal."
      ],
      "metadata": {
        "id": "CxqBYNzVAhrA"
      }
    },
    {
      "cell_type": "code",
      "source": [
        "combustibles = combustibles.rename(columns={\"TIPO\": \"Período\"})"
      ],
      "metadata": {
        "id": "oKazJO3JAhrA"
      },
      "execution_count": 34,
      "outputs": []
    },
    {
      "cell_type": "markdown",
      "source": [
        "El cómputo de las emisiones de dióxido de carbono (CO<sub>2</sub>) por GWh generado se elabora a partir de la definición de factores de emisión, uno por cada tipo de combustible examinado en el *DataFrame* `combustibles`. Los factores de emisión son agrupados en la lista `factores_emision`."
      ],
      "metadata": {
        "id": "kCsHK1GEKc35"
      }
    },
    {
      "cell_type": "code",
      "source": [
        "f_emision_GN = 1.936\n",
        "f_emision_FO = 3.127\n",
        "f_emision_GO = 3.186\n",
        "f_emision_CM = 2.441"
      ],
      "metadata": {
        "id": "3drw0Ca-3aUc"
      },
      "execution_count": 35,
      "outputs": []
    },
    {
      "cell_type": "code",
      "source": [
        "factores_emision = [f_emision_GN, f_emision_FO, f_emision_GO, f_emision_CM]"
      ],
      "metadata": {
        "id": "__ukhT0uDKLG"
      },
      "execution_count": 36,
      "outputs": []
    },
    {
      "cell_type": "markdown",
      "source": [
        "Cada valor del *DataFrame* se multiplica por el factor de emisión correspondiente a cada fuente de combustible."
      ],
      "metadata": {
        "id": "HQ_9hgr4J4e7"
      }
    },
    {
      "cell_type": "code",
      "source": [
        "for column, f_emision in zip(combustibles.columns[1:], factores_emision):\n",
        "  combustibles[column] = combustibles[column] * f_emision"
      ],
      "metadata": {
        "id": "IYi3XjKqA6Ux"
      },
      "execution_count": 37,
      "outputs": []
    },
    {
      "cell_type": "markdown",
      "source": [
        "Se crea la columna \"Emisiones\", que suma el total de emisiones de las diversas fuentes de combustibles."
      ],
      "metadata": {
        "id": "WelCyY0pKC0G"
      }
    },
    {
      "cell_type": "code",
      "source": [
        "combustibles[\"Emisiones\"] = combustibles[combustibles.columns[1:]].sum(axis=1)"
      ],
      "metadata": {
        "id": "TFfXDJUfEB2H"
      },
      "execution_count": 38,
      "outputs": []
    },
    {
      "cell_type": "markdown",
      "source": [
        "Se eliminan columnas innecesarias."
      ],
      "metadata": {
        "id": "KSw1XmbiKLNE"
      }
    },
    {
      "cell_type": "code",
      "source": [
        "combustibles = combustibles.loc[:, [\"Período\", \"Emisiones\"]]"
      ],
      "metadata": {
        "id": "m0OPVbyKEPxb"
      },
      "execution_count": 39,
      "outputs": []
    },
    {
      "cell_type": "markdown",
      "source": [
        "#### Generación local mensual\n",
        "\n",
        "Luego, se precisa obtener los datos de la generación de energía local desde el año 2017. Así, se precisan dos archivos:\n",
        "1.   Enero 2017 a diciembre 2019: `BASE_OFERTA_INFORME_MENSUAL_2020-12.xlsx`, cuya ruta de acceso es `path_base_oferta_2020`.\n",
        "2.   Enero 2020 a la actualidad: último informe de Generación Local Mensual, cuya ruta de acceso será definida oportunamente como `last_generacion`."
      ],
      "metadata": {
        "id": "-R2bHXDS8Zxf"
      }
    },
    {
      "cell_type": "markdown",
      "source": [
        "Se crea el *DataFrame* `generacion_2017_2019` y se le aplica la función `transform_df` con los parámetros correspondientes."
      ],
      "metadata": {
        "id": "TSrxWynz8dMa"
      }
    },
    {
      "cell_type": "code",
      "source": [
        "generacion_2017_2019 = pd.DataFrame()\n",
        "generacion_2017_2019 = transform_df(generacion_2017_2019, path_base_oferta_2020, \"GENERACION\", 3, 6, 0, 36)"
      ],
      "metadata": {
        "id": "E0k3GI0K8dMb"
      },
      "execution_count": 40,
      "outputs": []
    },
    {
      "cell_type": "markdown",
      "source": [
        "El `path` del último período toma la forma de un link de descarga (`last_generacion`), que refiere a la última versión disponible del informe de Generación local mensual."
      ],
      "metadata": {
        "id": "c8svFYGz8dMb"
      }
    },
    {
      "cell_type": "code",
      "source": [
        "last_generacion = \"https://cammesaweb.cammesa.com/download/generacion-local-mensual/?wpdmdl=41434\""
      ],
      "metadata": {
        "id": "mxmX-E-U8dMb"
      },
      "execution_count": 41,
      "outputs": []
    },
    {
      "cell_type": "markdown",
      "source": [
        "Se crea y transforma el *DataFrame* `generacion_2020_act`."
      ],
      "metadata": {
        "id": "V3jSQCDr8dMb"
      }
    },
    {
      "cell_type": "code",
      "source": [
        "generacion_2020_act = pd.DataFrame()\n",
        "generacion_2020_act = transform_df(generacion_2020_act, last_generacion, \"GENERACION\", 3, 6, None, None)"
      ],
      "metadata": {
        "id": "n5rbW18m8dMb"
      },
      "execution_count": 42,
      "outputs": []
    },
    {
      "cell_type": "markdown",
      "source": [
        "##### *DataFrame* final\n",
        "\n",
        "Todos los *DataFrames* anteriores son unidos (`pd.concat()`) en un solo *DataFrame* llamado `generacion`, que contiene la serie histórica de la generación local mensual desde enero del año 2017."
      ],
      "metadata": {
        "id": "Kuc0t3BtxbVY"
      }
    },
    {
      "cell_type": "code",
      "source": [
        "generacion = pd.concat([\n",
        "    generacion_2017_2019,\n",
        "    generacion_2020_act]).reset_index(drop=True)"
      ],
      "metadata": {
        "id": "GrabMfT6xbVt"
      },
      "execution_count": 43,
      "outputs": []
    },
    {
      "cell_type": "markdown",
      "source": [
        "Se renombran las columnas."
      ],
      "metadata": {
        "id": "0hYM2Q2ax13h"
      }
    },
    {
      "cell_type": "code",
      "source": [
        "generacion = generacion.rename(columns={\n",
        "  \"TIPO\": \"Período\",\n",
        "  \"TOTAL [MWh]\": \"Generación\"\n",
        "  }\n",
        ")"
      ],
      "metadata": {
        "id": "LnGZG-AJxjI4"
      },
      "execution_count": 44,
      "outputs": []
    },
    {
      "cell_type": "markdown",
      "source": [
        "Los datos del *DataFrame* se encuentran expresados en MWh. Se divide a la columna correspondiente por 1000 para cambiar la unidad de medida a GWh."
      ],
      "metadata": {
        "id": "6lIhgQbZ_QFb"
      }
    },
    {
      "cell_type": "code",
      "source": [
        "generacion[\"Generación\"] = generacion[\"Generación\"]/1000"
      ],
      "metadata": {
        "id": "YIcEzp4K_nCM"
      },
      "execution_count": 45,
      "outputs": []
    },
    {
      "cell_type": "markdown",
      "source": [
        "#### *DataFrame* final y cómputo\n",
        "\n",
        "Se crea el *DataFrame* `emisiones_por_GWh`, que une los datos del *DataFrame* `combustibles` y de `generacion`, utilizando la columna \"Período\" como guía."
      ],
      "metadata": {
        "id": "s9b1-QAkASXk"
      }
    },
    {
      "cell_type": "code",
      "source": [
        "emisiones_por_GWh = combustibles.merge(generacion, on=\"Período\")"
      ],
      "metadata": {
        "id": "sqcIWR7TE5mb"
      },
      "execution_count": 46,
      "outputs": []
    },
    {
      "cell_type": "markdown",
      "source": [
        "Se crean las columnas \"year\" y \"quarter\" para el *DataFrame*, dado que el análisis de datos se efectúa en forma trimestral."
      ],
      "metadata": {
        "id": "1ekVTBinK_4z"
      }
    },
    {
      "cell_type": "code",
      "source": [
        "emisiones_por_GWh[\"year\"] = pd.to_datetime(emisiones_por_GWh[\"Período\"]).dt.year"
      ],
      "metadata": {
        "id": "SycCFpWuEdCj"
      },
      "execution_count": 47,
      "outputs": []
    },
    {
      "cell_type": "code",
      "source": [
        "emisiones_por_GWh[\"quarter\"] = pd.to_datetime(emisiones_por_GWh[\"Período\"]).dt.quarter"
      ],
      "metadata": {
        "id": "jFdzfT9MEibA"
      },
      "execution_count": 48,
      "outputs": []
    },
    {
      "cell_type": "markdown",
      "source": [
        "Se agrupa el *DataFrame* utilizando las columnas \"year\" y \"quarter\", y ejecutando una suma sobre las columnas \"Emisiones\" y \"Generación\"."
      ],
      "metadata": {
        "id": "1UK3r8Q7LMK9"
      }
    },
    {
      "cell_type": "code",
      "source": [
        "emisiones_por_GWh = emisiones_por_GWh.groupby(by=[\"year\", \"quarter\"], as_index=False).agg({\"Emisiones\": \"sum\", \"Generación\": \"sum\"})"
      ],
      "metadata": {
        "id": "R_Xs4KK68ySc"
      },
      "execution_count": 49,
      "outputs": []
    },
    {
      "cell_type": "markdown",
      "source": [
        "Una vez agrupado, se define la columna \"tCO2 / GWh\", que en el cociente entre la columna \"Emisiones\" y la columna \"Generación\"."
      ],
      "metadata": {
        "id": "Y_dm9-_jLe75"
      }
    },
    {
      "cell_type": "code",
      "source": [
        "emisiones_por_GWh[\"TCO2 / GWh\"] = emisiones_por_GWh[\"Emisiones\"] / emisiones_por_GWh[\"Generación\"]"
      ],
      "metadata": {
        "id": "Z5nMLl3s_O8T"
      },
      "execution_count": 50,
      "outputs": []
    },
    {
      "cell_type": "markdown",
      "source": [
        "Finalmente, se eliminan columnas innecesarias."
      ],
      "metadata": {
        "id": "UxJS999oLwEb"
      }
    },
    {
      "cell_type": "code",
      "source": [
        "emisiones_por_GWh = emisiones_por_GWh.loc[:, [\"year\", \"quarter\", \"TCO2 / GWh\"]]"
      ],
      "metadata": {
        "id": "2dFODWrFLyXl"
      },
      "execution_count": 51,
      "outputs": []
    },
    {
      "cell_type": "markdown",
      "source": [
        "Debido a datos incompletos, se elimina la última fila."
      ],
      "metadata": {
        "id": "AeXpZIRfPYdN"
      }
    },
    {
      "cell_type": "code",
      "source": [
        "emisiones_por_GWh = emisiones_por_GWh[:-1]"
      ],
      "metadata": {
        "id": "URM7xw5mPbON"
      },
      "execution_count": 52,
      "outputs": []
    },
    {
      "cell_type": "markdown",
      "source": [
        "A continuación, se presentan las primeras 5 filas del *DataFrame*."
      ],
      "metadata": {
        "id": "0D-EdSOsM0SO"
      }
    },
    {
      "cell_type": "code",
      "source": [
        "emisiones_por_GWh.head()"
      ],
      "metadata": {
        "colab": {
          "base_uri": "https://localhost:8080/",
          "height": 206
        },
        "outputId": "6b83cae7-0120-4e9f-97c9-8d99cc98c58a",
        "id": "OSsbVzOCM0SO"
      },
      "execution_count": 53,
      "outputs": [
        {
          "output_type": "execute_result",
          "data": {
            "text/plain": [
              "   year  quarter  TCO2 / GWh\n",
              "0  2017        1  335.329134\n",
              "1  2017        2  344.211420\n",
              "2  2017        3  327.722653\n",
              "3  2017        4  258.795330\n",
              "4  2018        1  315.164871"
            ],
            "text/html": [
              "\n",
              "  <div id=\"df-af68b515-dc30-4226-9c69-15efb2254e6b\">\n",
              "    <div class=\"colab-df-container\">\n",
              "      <div>\n",
              "<style scoped>\n",
              "    .dataframe tbody tr th:only-of-type {\n",
              "        vertical-align: middle;\n",
              "    }\n",
              "\n",
              "    .dataframe tbody tr th {\n",
              "        vertical-align: top;\n",
              "    }\n",
              "\n",
              "    .dataframe thead th {\n",
              "        text-align: right;\n",
              "    }\n",
              "</style>\n",
              "<table border=\"1\" class=\"dataframe\">\n",
              "  <thead>\n",
              "    <tr style=\"text-align: right;\">\n",
              "      <th></th>\n",
              "      <th>year</th>\n",
              "      <th>quarter</th>\n",
              "      <th>TCO2 / GWh</th>\n",
              "    </tr>\n",
              "  </thead>\n",
              "  <tbody>\n",
              "    <tr>\n",
              "      <th>0</th>\n",
              "      <td>2017</td>\n",
              "      <td>1</td>\n",
              "      <td>335.329134</td>\n",
              "    </tr>\n",
              "    <tr>\n",
              "      <th>1</th>\n",
              "      <td>2017</td>\n",
              "      <td>2</td>\n",
              "      <td>344.211420</td>\n",
              "    </tr>\n",
              "    <tr>\n",
              "      <th>2</th>\n",
              "      <td>2017</td>\n",
              "      <td>3</td>\n",
              "      <td>327.722653</td>\n",
              "    </tr>\n",
              "    <tr>\n",
              "      <th>3</th>\n",
              "      <td>2017</td>\n",
              "      <td>4</td>\n",
              "      <td>258.795330</td>\n",
              "    </tr>\n",
              "    <tr>\n",
              "      <th>4</th>\n",
              "      <td>2018</td>\n",
              "      <td>1</td>\n",
              "      <td>315.164871</td>\n",
              "    </tr>\n",
              "  </tbody>\n",
              "</table>\n",
              "</div>\n",
              "      <button class=\"colab-df-convert\" onclick=\"convertToInteractive('df-af68b515-dc30-4226-9c69-15efb2254e6b')\"\n",
              "              title=\"Convert this dataframe to an interactive table.\"\n",
              "              style=\"display:none;\">\n",
              "        \n",
              "  <svg xmlns=\"http://www.w3.org/2000/svg\" height=\"24px\"viewBox=\"0 0 24 24\"\n",
              "       width=\"24px\">\n",
              "    <path d=\"M0 0h24v24H0V0z\" fill=\"none\"/>\n",
              "    <path d=\"M18.56 5.44l.94 2.06.94-2.06 2.06-.94-2.06-.94-.94-2.06-.94 2.06-2.06.94zm-11 1L8.5 8.5l.94-2.06 2.06-.94-2.06-.94L8.5 2.5l-.94 2.06-2.06.94zm10 10l.94 2.06.94-2.06 2.06-.94-2.06-.94-.94-2.06-.94 2.06-2.06.94z\"/><path d=\"M17.41 7.96l-1.37-1.37c-.4-.4-.92-.59-1.43-.59-.52 0-1.04.2-1.43.59L10.3 9.45l-7.72 7.72c-.78.78-.78 2.05 0 2.83L4 21.41c.39.39.9.59 1.41.59.51 0 1.02-.2 1.41-.59l7.78-7.78 2.81-2.81c.8-.78.8-2.07 0-2.86zM5.41 20L4 18.59l7.72-7.72 1.47 1.35L5.41 20z\"/>\n",
              "  </svg>\n",
              "      </button>\n",
              "      \n",
              "  <style>\n",
              "    .colab-df-container {\n",
              "      display:flex;\n",
              "      flex-wrap:wrap;\n",
              "      gap: 12px;\n",
              "    }\n",
              "\n",
              "    .colab-df-convert {\n",
              "      background-color: #E8F0FE;\n",
              "      border: none;\n",
              "      border-radius: 50%;\n",
              "      cursor: pointer;\n",
              "      display: none;\n",
              "      fill: #1967D2;\n",
              "      height: 32px;\n",
              "      padding: 0 0 0 0;\n",
              "      width: 32px;\n",
              "    }\n",
              "\n",
              "    .colab-df-convert:hover {\n",
              "      background-color: #E2EBFA;\n",
              "      box-shadow: 0px 1px 2px rgba(60, 64, 67, 0.3), 0px 1px 3px 1px rgba(60, 64, 67, 0.15);\n",
              "      fill: #174EA6;\n",
              "    }\n",
              "\n",
              "    [theme=dark] .colab-df-convert {\n",
              "      background-color: #3B4455;\n",
              "      fill: #D2E3FC;\n",
              "    }\n",
              "\n",
              "    [theme=dark] .colab-df-convert:hover {\n",
              "      background-color: #434B5C;\n",
              "      box-shadow: 0px 1px 3px 1px rgba(0, 0, 0, 0.15);\n",
              "      filter: drop-shadow(0px 1px 2px rgba(0, 0, 0, 0.3));\n",
              "      fill: #FFFFFF;\n",
              "    }\n",
              "  </style>\n",
              "\n",
              "      <script>\n",
              "        const buttonEl =\n",
              "          document.querySelector('#df-af68b515-dc30-4226-9c69-15efb2254e6b button.colab-df-convert');\n",
              "        buttonEl.style.display =\n",
              "          google.colab.kernel.accessAllowed ? 'block' : 'none';\n",
              "\n",
              "        async function convertToInteractive(key) {\n",
              "          const element = document.querySelector('#df-af68b515-dc30-4226-9c69-15efb2254e6b');\n",
              "          const dataTable =\n",
              "            await google.colab.kernel.invokeFunction('convertToInteractive',\n",
              "                                                     [key], {});\n",
              "          if (!dataTable) return;\n",
              "\n",
              "          const docLinkHtml = 'Like what you see? Visit the ' +\n",
              "            '<a target=\"_blank\" href=https://colab.research.google.com/notebooks/data_table.ipynb>data table notebook</a>'\n",
              "            + ' to learn more about interactive tables.';\n",
              "          element.innerHTML = '';\n",
              "          dataTable['output_type'] = 'display_data';\n",
              "          await google.colab.output.renderOutput(dataTable, element);\n",
              "          const docLink = document.createElement('div');\n",
              "          docLink.innerHTML = docLinkHtml;\n",
              "          element.appendChild(docLink);\n",
              "        }\n",
              "      </script>\n",
              "    </div>\n",
              "  </div>\n",
              "  "
            ]
          },
          "metadata": {},
          "execution_count": 53
        }
      ]
    },
    {
      "cell_type": "markdown",
      "source": [
        "Por último, se exporta el *DataFrame* en formato `.xlsx`."
      ],
      "metadata": {
        "id": "ammWHsqcM0SP"
      }
    },
    {
      "cell_type": "code",
      "source": [
        "emisiones_por_GWh.to_excel(\"Emisiones por GWh generado.xlsx\", index=False)"
      ],
      "metadata": {
        "id": "6AbDoAdDM0SP"
      },
      "execution_count": 54,
      "outputs": []
    },
    {
      "cell_type": "markdown",
      "source": [
        "## Figuras\n",
        "\n",
        "El objetivo es crear un gráfico de áreas apiladas para visualizar la composición de la demanda eléctrica y un gráfico de líneas que permita visualizar la evolución del precio monómico."
      ],
      "metadata": {
        "id": "W6-dvSvdHkZ4"
      }
    },
    {
      "cell_type": "markdown",
      "source": [
        "### General"
      ],
      "metadata": {
        "id": "HswnsNVXKpzG"
      }
    },
    {
      "cell_type": "markdown",
      "source": [
        "Las variables `today_year` y `today_month` contienen los valores del año y el mes, respectivamente, en el que se ejecuta el código."
      ],
      "metadata": {
        "id": "nIchb50mo4-0"
      }
    },
    {
      "cell_type": "code",
      "source": [
        "today_year = date.today().year\n",
        "today_month = date.today().month"
      ],
      "metadata": {
        "id": "Fixg9kBsmLol"
      },
      "execution_count": 55,
      "outputs": []
    },
    {
      "cell_type": "markdown",
      "source": [
        "Debido a las grandes diferencias entre ambos tipos de gráficos, se define una sola función (`elec_update_layout`) que modifica el aspecto de la figura en general.\n",
        "\n",
        "Los parámetros de `elec_update_layout` son:\n",
        "\n",
        "*   `fig`: el nombre de la figura a utilizar.\n",
        "*   `traceorder_option`: indica el orden de aparición de las leyendas.\n",
        "*   `df`: el *DataFrame* que contiene la información a graficar.\n",
        "*   `min`: valor mínimo del eje de ordenadas.\n",
        "*   `max`: valor máximo del eje de ordenadas.\n",
        "*   `title_text`: título del eje de ordenadas."
      ],
      "metadata": {
        "id": "_lwPY90GLfHV"
      }
    },
    {
      "cell_type": "code",
      "source": [
        "def elec_update_layout(fig, traceorder_option, df, min, max, title_text, fig_numb):\n",
        "  fig.update_layout(\n",
        "    plot_bgcolor = 'rgba(0,0,0,0)',\n",
        "    margin = dict(\n",
        "        b=15,\n",
        "        t=15,\n",
        "        l=15,\n",
        "        r=60\n",
        "    ),\n",
        "    legend = dict(\n",
        "        title = None,\n",
        "        orientation = 'h',\n",
        "        xanchor = 'center', \n",
        "        x = 0.5, \n",
        "        yanchor = 'bottom', \n",
        "        y = 1,\n",
        "        font = dict(\n",
        "            size = 16\n",
        "        ),\n",
        "        traceorder = traceorder_option\n",
        "        ),\n",
        "    height = 750,\n",
        "    width = 1000,\n",
        "    yaxis = dict(\n",
        "        range = [min, max],\n",
        "        title = dict(\n",
        "            text=title_text\n",
        "            ),\n",
        "        showgrid=True,\n",
        "        gridcolor='lightgray'\n",
        "        ),\n",
        "    font = dict(\n",
        "        size = 14,\n",
        "        family = \"serif\"\n",
        "        )\n",
        "    )\n",
        "  if fig_numb == 1:\n",
        "    fig.update_layout(\n",
        "        xaxis = dict(\n",
        "        range = [df[\"Período\"][0], dt.date(today_year,today_month,15)],\n",
        "        title = None,\n",
        "        tickformat = \"%m\\n<b>%Y\",\n",
        "        dtick = \"M6\",\n",
        "        tickangle = 0\n",
        "        ),\n",
        "    )\n",
        "  else:\n",
        "    fig.update_layout(\n",
        "        xaxis = dict(\n",
        "        tickangle=-90\n",
        "        )\n",
        "    )"
      ],
      "metadata": {
        "id": "ZmOvsy6_7C9n"
      },
      "execution_count": 56,
      "outputs": []
    },
    {
      "cell_type": "markdown",
      "source": [
        "### Figura: Composición mensual de la demanda por tipo de usuario\n",
        "\n",
        "La escala de colores elegida para los distintos tipos de usuario es la siguiente escala ternaria."
      ],
      "metadata": {
        "id": "5QFwAQkYNL03"
      }
    },
    {
      "cell_type": "code",
      "source": [
        "colors_demanda = ['rgb(27,158,119)', 'rgb(217,95,2)', 'rgb(117,112,179)']"
      ],
      "metadata": {
        "id": "6GUEkMkWMMDk"
      },
      "execution_count": 57,
      "outputs": []
    },
    {
      "cell_type": "markdown",
      "source": [
        "En tanto, la variable `aggregate_demanda` es:\n",
        "\n",
        "\n",
        "*   0 si la columna es el tipo de demanda es Residencial\n",
        "*   El valor de la demanda Residencial si el tipo de demanda es Comercial.\n",
        "*   El valor de la demanda Residencial y la demanda Comercial si el tipo de demanda es la Gran Demanda Industrial/Comercial.\n",
        "\n"
      ],
      "metadata": {
        "id": "o70hxqgHryhO"
      }
    },
    {
      "cell_type": "code",
      "source": [
        "aggregate_demanda = [0, demanda[demanda.columns[1]][len(demanda)-1], demanda[demanda.columns[1]][len(demanda)-1] + demanda[demanda.columns[2]][len(demanda)-1]]"
      ],
      "metadata": {
        "id": "8qmOxkQTjTft"
      },
      "execution_count": 58,
      "outputs": []
    },
    {
      "cell_type": "markdown",
      "source": [
        "Dado que las áreas deben estar apiladas, la lista `filling` contiene los valores para asegurar una correcta visualización."
      ],
      "metadata": {
        "id": "en4zW731O5TR"
      }
    },
    {
      "cell_type": "code",
      "source": [
        "filling = [\"tozeroy\", \"tonexty\", \"tonexty\"]"
      ],
      "metadata": {
        "id": "zoMnOfGBO5j3"
      },
      "execution_count": 59,
      "outputs": []
    },
    {
      "cell_type": "markdown",
      "source": [
        "Se crea la figura `demanda_electrica` en el entorno de Plotly (utilizando `graph_objects` como `go`)."
      ],
      "metadata": {
        "id": "d87xbZ40sbJU"
      }
    },
    {
      "cell_type": "code",
      "source": [
        "demanda_electrica = go.Figure()"
      ],
      "metadata": {
        "id": "ApAYbbRosaRX"
      },
      "execution_count": 60,
      "outputs": []
    },
    {
      "cell_type": "markdown",
      "source": [
        "Las especificaciones de la figura se encuentran en su argumento, y se hace uso de la función `elec_update_layout` para modificar el aspecto de la figura en general."
      ],
      "metadata": {
        "id": "DQM8cRJlStxt"
      }
    },
    {
      "cell_type": "code",
      "source": [
        "for tipo_usuario, color, agg, fill in zip(demanda.columns[1:4].tolist(), colors_demanda, aggregate_demanda, filling):\n",
        "  demanda_electrica.add_trace(\n",
        "    go.Scatter(\n",
        "      name = tipo_usuario,\n",
        "      x = demanda[\"Período\"],\n",
        "      y = demanda[tipo_usuario],\n",
        "      mode = 'lines',\n",
        "      line = dict(\n",
        "          color = color\n",
        "      ),\n",
        "      fill = fill,\n",
        "      stackgroup = 'one'\n",
        "    )\n",
        "  )\n",
        "  demanda_electrica.add_trace(\n",
        "    go.Scatter(\n",
        "      showlegend = False,\n",
        "      name = tipo_usuario + \" - EoP\",\n",
        "      mode = \"markers\",\n",
        "      x = demanda[\"Período\"].tail(1),\n",
        "      y = demanda[tipo_usuario].tail(1) + agg,\n",
        "      marker = dict(color = color, size=10),\n",
        "      )\n",
        "    )\n",
        "  demanda_electrica.add_annotation(\n",
        "    x = demanda[\"Período\"][len(demanda)-1],\n",
        "    y = demanda[tipo_usuario][-1:].values[0] + agg,\n",
        "    text = str(round(demanda[tipo_usuario][-1:].values[0]/1000000, 2)) + \"M\",\n",
        "    font = dict(color = color),\n",
        "    xanchor = \"left\",\n",
        "    xshift = 5,\n",
        "    yshift = 0,\n",
        "    showarrow = False\n",
        "    )\n",
        "\n",
        "elec_update_layout(demanda_electrica, \"normal\", demanda, -7000, 14000000, \"<b>MWh\", 1)"
      ],
      "metadata": {
        "id": "JnYEJ-FBOmy1"
      },
      "execution_count": 61,
      "outputs": []
    },
    {
      "cell_type": "markdown",
      "source": [
        "A continuación, se exhibe la figura."
      ],
      "metadata": {
        "id": "B74BAcxwTE2d"
      }
    },
    {
      "cell_type": "code",
      "source": [
        "demanda_electrica.show(\"png\")"
      ],
      "metadata": {
        "colab": {
          "base_uri": "https://localhost:8080/",
          "height": 767
        },
        "id": "bm0J6v3NJlL8",
        "outputId": "1a867217-5c7a-4291-f5e4-336f21890ac9"
      },
      "execution_count": 62,
      "outputs": [
        {
          "output_type": "display_data",
          "data": {
            "image/png": "[encoded data removed]"
          },
          "metadata": {}
        }
      ]
    },
    {
      "cell_type": "markdown",
      "source": [
        "Si se desea exportar la figura a formato `.pdf`, se debe des-comentar y ejecutar la siguiente celda. Recuérdese que el *package* `kaleido` debe estar correctamente instalado."
      ],
      "metadata": {
        "id": "GixdbOkC6pZ6"
      }
    },
    {
      "cell_type": "code",
      "source": [
        "pio.write_image(demanda_electrica, \"Figura Demanda Electrica.pdf\", width=3*300, height=2.25*300)"
      ],
      "metadata": {
        "id": "dZI7rwBtJnJV"
      },
      "execution_count": 63,
      "outputs": []
    },
    {
      "cell_type": "markdown",
      "source": [
        "### Figura: Precio monómico\n",
        "\n",
        "Para el gráfico de la evolución del precio monómico, se selecciona el siguiente color."
      ],
      "metadata": {
        "id": "INugvLm8TSyw"
      }
    },
    {
      "cell_type": "code",
      "source": [
        "color_precio = 'rgb(133, 92, 117)'"
      ],
      "metadata": {
        "id": "Lrxtgg24NCFD"
      },
      "execution_count": 64,
      "outputs": []
    },
    {
      "cell_type": "markdown",
      "source": [
        "Se crea la figura `precio_monomico` en el entorno de Plotly (utilizando `graph_objects` como `go`)."
      ],
      "metadata": {
        "id": "BkrUDKQNTwgT"
      }
    },
    {
      "cell_type": "code",
      "source": [
        "precio_monomico = go.Figure()"
      ],
      "metadata": {
        "id": "qECXsdwxTwgT"
      },
      "execution_count": 65,
      "outputs": []
    },
    {
      "cell_type": "markdown",
      "source": [
        "Las especificaciones de la figura se encuentran en su argumento, y se hace uso de la función `elec_update_layout` para modificar el aspecto de la figura en general."
      ],
      "metadata": {
        "id": "8nXZFQ3LT0PX"
      }
    },
    {
      "cell_type": "code",
      "source": [
        "precio_monomico.add_trace(\n",
        "    go.Scatter(\n",
        "      name = \"Precio monómico\",\n",
        "      x = precio[\"Período\"],\n",
        "      y = precio[\"Precio monómico\"],\n",
        "      mode = 'lines',\n",
        "      line = dict(\n",
        "          color = color_precio,\n",
        "          width = 2\n",
        "      ),\n",
        "    )\n",
        ")\n",
        "\n",
        "precio_monomico.add_trace(\n",
        "    go.Scatter(\n",
        "      showlegend = False,\n",
        "      x = precio[\"Período\"].tail(1),\n",
        "      y = precio['Precio monómico'].tail(1),\n",
        "      mode = 'markers',\n",
        "      marker = dict(\n",
        "          color = color_precio,\n",
        "          size = 10\n",
        "      )\n",
        "    )\n",
        ")\n",
        "\n",
        "precio_monomico.add_annotation(\n",
        "    x = precio[\"Período\"][len(precio)-1],\n",
        "    y = precio[\"Precio monómico\"][-1:].values[0],\n",
        "    text = str(round(precio[\"Precio monómico\"][-1:].values[0], 1)),\n",
        "    font = dict(color = color_precio),\n",
        "    xanchor = \"left\",\n",
        "    xshift = 5,\n",
        "    yshift = 0,\n",
        "    showarrow = False\n",
        "    )\n",
        "\n",
        "elec_update_layout(precio_monomico, None, precio, -60, 17000, \"<b>ARS / MWh\", 1)"
      ],
      "metadata": {
        "id": "tSWv7i0z3FkS"
      },
      "execution_count": 66,
      "outputs": []
    },
    {
      "cell_type": "markdown",
      "source": [
        "A continuación, se exhibe la figura."
      ],
      "metadata": {
        "id": "bMGnbSJvVPg4"
      }
    },
    {
      "cell_type": "code",
      "source": [
        "precio_monomico.show(\"png\")"
      ],
      "metadata": {
        "colab": {
          "base_uri": "https://localhost:8080/",
          "height": 767
        },
        "id": "9VLU8itVJvDn",
        "outputId": "f4167b8e-830a-49cf-8093-16aa1193c7a6"
      },
      "execution_count": 67,
      "outputs": [
        {
          "output_type": "display_data",
          "data": {
            "image/png": "[encoded data removed]"
          },
          "metadata": {}
        }
      ]
    },
    {
      "cell_type": "markdown",
      "source": [
        "Si se desea exportar la figura a formato `.pdf`, se debe des-comentar y ejecutar la siguiente celda. Recuérdese que el *package* `kaleido` debe estar correctamente instalado."
      ],
      "metadata": {
        "id": "eYQQipfAVTHx"
      }
    },
    {
      "cell_type": "code",
      "source": [
        "pio.write_image(precio_monomico, \"Figura Precio Monomico.pdf\", width=3*300, height=2.25*300)"
      ],
      "metadata": {
        "id": "cI3JFAd9Jt9l"
      },
      "execution_count": 68,
      "outputs": []
    },
    {
      "cell_type": "markdown",
      "source": [
        "### Figura: Emisiones de CO<sub>2</sub> por GWh generado\n",
        "\n",
        "Para el gráfico de la evolución del precio monómico, se selecciona el siguiente color."
      ],
      "metadata": {
        "id": "ei1XCDicOKG-"
      }
    },
    {
      "cell_type": "code",
      "source": [
        "color_emisiones = 'rgb(237, 173, 8)'"
      ],
      "metadata": {
        "id": "EoSeJkSEOKG-"
      },
      "execution_count": 69,
      "outputs": []
    },
    {
      "cell_type": "markdown",
      "source": [
        "Se define como eje de abscisas a la conjunción entre las columnas \"year\" y \"quarter\"."
      ],
      "metadata": {
        "id": "pnnFbX0UOsH5"
      }
    },
    {
      "cell_type": "code",
      "source": [
        "x_emisiones = emisiones_por_GWh[\"year\"].astype(str) + \" - \" + emisiones_por_GWh[\"quarter\"].astype(str)"
      ],
      "metadata": {
        "id": "DavtJRl7Oy5v"
      },
      "execution_count": 70,
      "outputs": []
    },
    {
      "cell_type": "markdown",
      "source": [
        "Se crea la figura `emisiones` en el entorno de Plotly (utilizando `graph_objects` como `go`)."
      ],
      "metadata": {
        "id": "z4QMBGpgOKG-"
      }
    },
    {
      "cell_type": "code",
      "source": [
        "emisiones = go.Figure()"
      ],
      "metadata": {
        "id": "e3PH2c1XOKG-"
      },
      "execution_count": 71,
      "outputs": []
    },
    {
      "cell_type": "markdown",
      "source": [
        "Las especificaciones de la figura se encuentran en su argumento, y se hace uso de la función `elec_update_layout` para modificar el aspecto de la figura en general."
      ],
      "metadata": {
        "id": "vo4vY3IxOKG-"
      }
    },
    {
      "cell_type": "code",
      "source": [
        "emisiones.add_trace(\n",
        "    go.Scatter(\n",
        "      name = \"TCO\\u2082 / GWh\",\n",
        "      x = x_emisiones,\n",
        "      y = emisiones_por_GWh[\"TCO2 / GWh\"],\n",
        "      mode = 'lines',\n",
        "      line = dict(\n",
        "          color = color_emisiones,\n",
        "          width = 2\n",
        "      ),\n",
        "    )\n",
        ")\n",
        "\n",
        "emisiones.add_trace(\n",
        "    go.Scatter(\n",
        "      showlegend = False,\n",
        "      x = x_emisiones.tail(1),\n",
        "      y = emisiones_por_GWh[\"TCO2 / GWh\"].tail(1),\n",
        "      mode = 'markers',\n",
        "      marker = dict(\n",
        "          color = color_emisiones,\n",
        "          size = 10\n",
        "      )\n",
        "    )\n",
        ")\n",
        "\n",
        "emisiones.add_annotation(\n",
        "    x = x_emisiones[len(emisiones_por_GWh)-1],\n",
        "    y = emisiones_por_GWh[\"TCO2 / GWh\"][-1:].values[0],\n",
        "    text = str(round(emisiones_por_GWh[\"TCO2 / GWh\"][-1:].values[0], 2)),\n",
        "    font = dict(color = color_emisiones),\n",
        "    xanchor = \"left\",\n",
        "    xshift = 5,\n",
        "    yshift = 0,\n",
        "    showarrow = False\n",
        "    )\n",
        "\n",
        "elec_update_layout(emisiones, None, emisiones_por_GWh, 195, 400, \"<b>TCO\\u2082 / GWh\", 0)"
      ],
      "metadata": {
        "id": "GqyZGWBmOKG_"
      },
      "execution_count": 72,
      "outputs": []
    },
    {
      "cell_type": "markdown",
      "source": [
        "A continuación, se exhibe la figura."
      ],
      "metadata": {
        "id": "sb8V_LxuQfZp"
      }
    },
    {
      "cell_type": "code",
      "source": [
        "emisiones.show(\"png\")"
      ],
      "metadata": {
        "colab": {
          "base_uri": "https://localhost:8080/",
          "height": 767
        },
        "outputId": "f6f70bc3-0883-4ea4-a5b5-cb0ae0810a8c",
        "id": "va_ZAAZMQfZq"
      },
      "execution_count": 73,
      "outputs": [
        {
          "output_type": "display_data",
          "data": {
            "image/png": "[encoded data removed]"
          },
          "metadata": {}
        }
      ]
    },
    {
      "cell_type": "markdown",
      "source": [
        "Si se desea exportar la figura a formato `.pdf`, se debe des-comentar y ejecutar la siguiente celda. Recuérdese que el *package* `kaleido` debe estar correctamente instalado."
      ],
      "metadata": {
        "id": "Gws9_B12QfZq"
      }
    },
    {
      "cell_type": "code",
      "source": [
        "pio.write_image(emisiones, \"Figura Emisiones de CO2 por GWh Generado.pdf\", width=3*300, height=2.25*300)"
      ],
      "metadata": {
        "id": "DuFj-4ycQfZq"
      },
      "execution_count": 74,
      "outputs": []
    }
  ]
}
