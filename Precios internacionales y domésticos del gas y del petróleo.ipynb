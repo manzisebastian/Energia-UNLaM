{
  "nbformat": 4,
  "nbformat_minor": 0,
  "metadata": {
    "colab": {
      "provenance": []
    },
    "kernelspec": {
      "name": "python3",
      "display_name": "Python 3"
    },
    "language_info": {
      "name": "python"
    }
  },
  "cells": [
    {
      "cell_type": "markdown",
      "source": [
        "# **Precios internacionales y domésticos del gas y del petróleo**\n",
        "\n",
        "\n",
        "---\n",
        "\n",
        "\n",
        "El presente archivo contiene el código utilizado para obtener, procesar y analizar los datos del precio del gas natural y del petróleo, tanto nacional como internacional.\n",
        "\n",
        "El análisis de los precios de los hidrocarburos permite identificar brechas entre los precios nacionales e internacionales, al mismo tiempo que es fundamental para entender el destino de las divisas argentinas utilizadas para la importación.\n",
        "\n",
        "Como resultado del análisis de datos, se presentan dos figuras que permiten una visualización de la evolución de los precios nacionales e internacionales de los hidrocarburos."
      ],
      "metadata": {
        "id": "IsvuQJ_3RpYl"
      }
    },
    {
      "cell_type": "markdown",
      "source": [
        "## Preliminar"
      ],
      "metadata": {
        "id": "Q8VY5QjxPQhK"
      }
    },
    {
      "cell_type": "markdown",
      "source": [
        "### Importación de *libraries*\n",
        "\n",
        "Se importan las *libraries* a utilizar en el código."
      ],
      "metadata": {
        "id": "Wb4Bl30G7H9I"
      }
    },
    {
      "cell_type": "code",
      "source": [
        "import pandas as pd\n",
        "import numpy as np\n",
        "import requests\n",
        "import zipfile\n",
        "import io\n",
        "import datetime as dt\n",
        "from datetime import date\n",
        "import plotly.graph_objects as go\n",
        "import plotly.io as pio"
      ],
      "metadata": {
        "id": "rLLWts9fti4E"
      },
      "execution_count": 1,
      "outputs": []
    },
    {
      "cell_type": "markdown",
      "source": [
        "### Exportación a archivo `.pdf`\n",
        "\n",
        "En caso de precisarse exportar las figuras resultantes a formato `.pdf`, se debe instalar el *package* `kaleido`.\n",
        "\n",
        "**IMPORTANTE**: para evitar problemas de desconexión, es recomendable ejecutar el código la siguiente celda y, una vez terminado el proceso de instalación, reiniciar el entorno de ejecución y ejecutar todas las celdas."
      ],
      "metadata": {
        "id": "HJrL1Jgw03te"
      }
    },
    {
      "cell_type": "code",
      "source": [
        "!pip install -U kaleido"
      ],
      "metadata": {
        "id": "YwZ_PfIfbbkT",
        "colab": {
          "base_uri": "https://localhost:8080/"
        },
        "outputId": "777d1a0b-c4e6-4505-c9a9-9d90a9fdf99e"
      },
      "execution_count": 2,
      "outputs": [
        {
          "output_type": "stream",
          "name": "stdout",
          "text": [
            "Looking in indexes: https://pypi.org/simple, https://us-python.pkg.dev/colab-wheels/public/simple/\n",
            "Collecting kaleido\n",
            "  Downloading kaleido-0.2.1-py2.py3-none-manylinux1_x86_64.whl (79.9 MB)\n",
            "\u001b[2K     \u001b[90m━━━━━━━━━━━━━━━━━━━━━━━━━━━━━━━━━━━━━━━━\u001b[0m \u001b[32m79.9/79.9 MB\u001b[0m \u001b[31m8.6 MB/s\u001b[0m eta \u001b[36m0:00:00\u001b[0m\n",
            "\u001b[?25hInstalling collected packages: kaleido\n",
            "Successfully installed kaleido-0.2.1\n"
          ]
        }
      ]
    },
    {
      "cell_type": "markdown",
      "source": [
        "### Creación de función de extracción y limpieza\n",
        "\n",
        "Los archivos necesarios para la obtención de los precios domésticos del gas y del petróleo corresponden a los informes de Regalías del Gas y del Crudo, respectivamente.\n",
        "\n",
        "Dichos informes son publicados en forma de un archivo `.xlsx` (Excel) que se encuentra dentro de un archivo `.zip`. Dado que la *library* `pandas` no lee archivos `.zip` directamente, se crea una función (`domestic_prices`) que permite la lectura de estos archivos.\n",
        "\n",
        "En particular, se utilizan las *libraries* `request` e `io` para extraer los archivos guardados \"dentro\" del archivo `.zip` y guardarlos en la memoria de la interfaz.\n",
        "\n",
        "Una vez extraido el archivo, se procede a su lectura utilizando la *library* `pandas`. En particular, se lee solamente la hoja \"Tabla precios\", y se ignoran las primeras 12 filas.\n",
        "\n",
        "Por otra parte, la función `domestic_prices` también permite la *limpieza* del *DataFrame*. Así, dado que el análisis se efectúa a partir del año 2010 (en el caso del gas natural) y del 2003 (en el caso del petróleo), se eliminan todas los datos anteriores a dichas fechas. Acto seguido, se resetea el índice y se utilizan solo las columnas deseadas, dispuestas en una lista (`list_of_columns`) para cada *DataFrame* en particular.\n",
        "\n",
        "Además, los archivos de Regalías (tanto del Gas como del Crudo) contienen, en la columna \"AÑO\", valores `NaN`. Estos valores deben ser eliminados con `.fillna()` utilizando el método \"ffill\" (o *forward-fill*), que rellena los `NaN` con la última observación válida.\n",
        "\n",
        "La columna \"Período\" puede servir como un índice temporal, de la siguiente manera:\n",
        "1.   La columna \"AÑO\" debe ser interpretada como un número entero: `.astype(int)`\n",
        "2.   Las columnas \"AÑO\" y \"MES\" deben ser interpretadas como cadenas de texto: `.astype(str)`.\n",
        "3.   La columna \"Período\" surge de la transformación en `datetime` (`pd.to_datetime`) de una cadena de texto conformada por: \"AÑO\" + \"MES\" + \"1\", donde \"1\" es el día. Se aplica el formato correspondiente.\n",
        "\n",
        "La función `domestic_prices` recopila todo lo anterior y lo generaliza para cualquier *DataFrame*."
      ],
      "metadata": {
        "id": "XQCTbNl47LPI"
      }
    },
    {
      "cell_type": "code",
      "source": [
        "def domestic_prices(url, df, max_row, list_of_columns):\n",
        "  request = requests.get(url)\n",
        "  zip_file = zipfile.ZipFile(io.BytesIO(request.content))\n",
        "  zip_file.extractall()\n",
        "  df = pd.read_excel(f\"/content/{zip_file.namelist()[0]}\", sheet_name=\"Tabla precios\", skiprows=12)\n",
        "  df = df.drop(df.index[0:max_row]).reset_index(drop=True)[list_of_columns]\n",
        "  df = df.fillna(method=\"ffill\")\n",
        "  df['AÑO'] = df['AÑO'].astype(int)\n",
        "  df['AÑO'] = df['AÑO'].astype(str)\n",
        "  df['MES'] = df['MES'].astype(str)\n",
        "  df['Período'] = pd.to_datetime(df[\"AÑO\"]+df[\"MES\"]+\"1\", format=\"%Y%m%d\")\n",
        "  return df"
      ],
      "metadata": {
        "id": "T7JD9zZv75ub"
      },
      "execution_count": 3,
      "outputs": []
    },
    {
      "cell_type": "markdown",
      "source": [
        "## Gas natural\n",
        "\n",
        "El gas natural es extraido en Argentina de diversas cuencas (tanto *on-shore* como *off-shore*. Al mismo tiempo, el país es importador de Gas Natural en estado gaseoso proveniente de Bolivia, así como de Cargueros de Gas Natural Licuado."
      ],
      "metadata": {
        "id": "0R-Y65LKrO2z"
      }
    },
    {
      "cell_type": "markdown",
      "source": [
        "### Precios domésticos"
      ],
      "metadata": {
        "id": "BAwYx7psu6YC"
      }
    },
    {
      "cell_type": "markdown",
      "source": [
        "#### Obtención y limpieza de los datos\n",
        "\n",
        "Los precios nacionales del gas natural surgen del Informe de Regalías del Gas, publicado mensualmente por la Secretaría de Energía.\n",
        "\n",
        "El link `url_gas` remite a dicho archivo."
      ],
      "metadata": {
        "id": "rK879SoQTQ4k"
      }
    },
    {
      "cell_type": "code",
      "source": [
        "url_gas = \"http://www.energia.gob.ar/contenidos/archivos/Reorganizacion/informacion_del_mercado/mercado_hidrocarburos/informacion_estadistica/regalias/Regalias_GAS.zip\""
      ],
      "metadata": {
        "id": "s82SRrwQWdbU"
      },
      "execution_count": 4,
      "outputs": []
    },
    {
      "cell_type": "markdown",
      "source": [
        "La ejecución de la función `domestic_prices()` permite la obtención del archivo a partir de `url_gas` y su limpieza.\n",
        "\n",
        "Es necesario identificar un `pandas.DataFrame` (en este caso, `domesticos_gas`) y una lista `list_of_columns` a utilizar (`columnas_gas`)."
      ],
      "metadata": {
        "id": "etQzIJtY80sU"
      }
    },
    {
      "cell_type": "code",
      "source": [
        "domesticos_gas = pd.DataFrame()"
      ],
      "metadata": {
        "id": "yv6m1YCP9EWy"
      },
      "execution_count": 5,
      "outputs": []
    },
    {
      "cell_type": "code",
      "source": [
        "columnas_gas = [\"AÑO\", \"MES\", \"TOTAL CUENCA\"]"
      ],
      "metadata": {
        "id": "uK1KRwC6BvkN"
      },
      "execution_count": 6,
      "outputs": []
    },
    {
      "cell_type": "code",
      "source": [
        "domesticos_gas = domestic_prices(url_gas, domesticos_gas, 204, columnas_gas)"
      ],
      "metadata": {
        "id": "e18GJF3M80E6",
        "colab": {
          "base_uri": "https://localhost:8080/"
        },
        "outputId": "c9085186-7e0b-42fa-ec95-fd146d4f02ee"
      },
      "execution_count": 7,
      "outputs": [
        {
          "output_type": "stream",
          "name": "stderr",
          "text": [
            "/usr/local/lib/python3.8/dist-packages/openpyxl/worksheet/_reader.py:312: UserWarning: Slicer List extension is not supported and will be removed\n",
            "  warn(msg)\n"
          ]
        }
      ]
    },
    {
      "cell_type": "markdown",
      "source": [
        "La columna \"TOTAL CUENCA\" es renombrada como \"Ponderado Argentina\"."
      ],
      "metadata": {
        "id": "pfs8I-DbX4ib"
      }
    },
    {
      "cell_type": "code",
      "source": [
        "domesticos_gas = domesticos_gas.rename(columns={\"TOTAL CUENCA\": \"Ponderado Argentina\"})"
      ],
      "metadata": {
        "id": "iWIHlQeoX3hg"
      },
      "execution_count": 8,
      "outputs": []
    },
    {
      "cell_type": "markdown",
      "source": [
        "Se eliminan las columnas innecesarias y se reordena el *DataFrame*."
      ],
      "metadata": {
        "id": "vX8J3hhlZsCB"
      }
    },
    {
      "cell_type": "code",
      "source": [
        "domesticos_gas = domesticos_gas[[\"Período\", \"Ponderado Argentina\"]]"
      ],
      "metadata": {
        "id": "nqOlX7LKJZau"
      },
      "execution_count": 9,
      "outputs": []
    },
    {
      "cell_type": "markdown",
      "source": [
        "Los montos de la columna \"Ponderado Argentina\" se encuentran en $/Mm3 (pesos argentinos por metro cúbico).\n",
        "\n",
        "Es preciso convertirlos a US$ / MMBTU (dólares estadounidenses por millón de BTU)."
      ],
      "metadata": {
        "id": "UbMbgGvsaaaS"
      }
    },
    {
      "cell_type": "markdown",
      "source": [
        "El valor del tipo de cambio se extrae directamente de la serie del Tipo de Cambio Nominal Promedio Mensual (TCNPM), publicada por el Banco Central de la República Argentina."
      ],
      "metadata": {
        "id": "xm7BwT8scNgE"
      }
    },
    {
      "cell_type": "code",
      "source": [
        "url_tc = \"https://www.bcra.gob.ar/Pdfs/PublicacionesEstadisticas/com3500.xls\""
      ],
      "metadata": {
        "id": "J6TeD51_JfM2"
      },
      "execution_count": 10,
      "outputs": []
    },
    {
      "cell_type": "markdown",
      "source": [
        "Se utiliza `pandas` para leer el archivo `.xls`. Se lee solo la página \"Serie de TCNPM\", con las columnas \"Mes\" y \"Tipo de cambio nominal promedio mensual\". Esta última columna es renombrada para facilitar el manejo del *DataFrame*.\n",
        "\n",
        "Por último, se utilizan solo las filas deseadas `[94:]` y se reseta el índice (`.reset_index()`). "
      ],
      "metadata": {
        "id": "Qdf4DGvRcQ-q"
      }
    },
    {
      "cell_type": "code",
      "source": [
        "tc = pd.read_excel(url_tc, sheet_name=\"Serie de TCNPM\", skiprows=1, usecols=[\"Mes\", \"Tipo de cambio nominal promedio mensual\"]).drop([0]).rename(columns = {\"Tipo de cambio nominal promedio mensual\": \"TCN\"})[94:].reset_index(drop=True)"
      ],
      "metadata": {
        "id": "DcHLVq-ScPuF"
      },
      "execution_count": 11,
      "outputs": []
    },
    {
      "cell_type": "markdown",
      "source": [
        "Se utiliza el siguiente conversor de Mm3 a MMBTU para el gas natural."
      ],
      "metadata": {
        "id": "YOhBidetcxDN"
      }
    },
    {
      "cell_type": "code",
      "source": [
        "conversor_MM3_MMBTU = 38.0096775807296"
      ],
      "metadata": {
        "id": "Cnp2x1cKB3tY"
      },
      "execution_count": 12,
      "outputs": []
    },
    {
      "cell_type": "markdown",
      "source": [
        "Para obtener el valor de la columna \"Ponderado Argentina\" en US$ / MMBTU, se divide por el valor del tipo de cambio y por el conversor de Mm3 a MMBTU."
      ],
      "metadata": {
        "id": "UxBpYhZAdkmC"
      }
    },
    {
      "cell_type": "code",
      "source": [
        "domesticos_gas['Ponderado Argentina'] = domesticos_gas['Ponderado Argentina']/tc['TCN']/conversor_MM3_MMBTU"
      ],
      "metadata": {
        "id": "SydPpXSyC9SW"
      },
      "execution_count": 13,
      "outputs": []
    },
    {
      "cell_type": "markdown",
      "source": [
        "### Precios internacionales"
      ],
      "metadata": {
        "id": "JZVT3ruMd6x0"
      }
    },
    {
      "cell_type": "markdown",
      "source": [
        "Los precios internacionales del gas natural (tanto el gas importado de Bolivia como aquel de los Cargueros de Gas Natural Licuado) se encuentran en fuentes dispersas y cambiantes, haciendo imposible una sistematización del proceso de obtención de datos.\n",
        "\n",
        "En su lugar, se propone un enfoque \"manual\", en el que el cálculo del precio internacional se efectúa manualmente y, luego, se agrega a las listas `precios_bolivia` y `precios_GNL` presentadas a continuación.\n",
        "\n",
        "Visualmente, cada fila de cada una de las listas representa los 12 datos mensuales de un año, desde el 2010 hasta el presente.\n",
        "\n",
        "Los precios del gas natural en estado gaseoso (proveniente de Bolivia) y los de los cargueros de Gas Natural Licuado son calculados a partir de la información provista por el informe mensual del Intercambio Comercial Argentino (ICA) publicado por el Instituto Nacional de Estadísticas y Censos (INDEC) y por los Partes Diarios de Importación de Gas Natural, publicados por el Ente Nacional Regulador del Gas (ENARGAS)."
      ],
      "metadata": {
        "id": "iQ5IQEPqg_gP"
      }
    },
    {
      "cell_type": "code",
      "source": [
        "precios_bolivia = [\n",
        "  6.99, 6.99, 6.99, 7.371, 7.371, 7.371, 7.4086, 7.4086, 7.4086, 7.33, 7.33, 7.33,\n",
        "  7.6034, 7.6034, 7.6034, 8.77, 8.77, 8.77, 10.2, 10.2, 10.2, 10.6765, 10.6765, 10.6765,\n",
        "  10.6258, 10.6258, 10.6258, 11.0794, 11.0794, 11.0794, 11.17, 11.17, 11.17, 10.78, 10.78, 10.78,\n",
        "  10.59, 10.59, 10.59, 10.51, 10.51, 10.51, 10.32, 10.32, 10.32, 10.11, 10.11, 10.11,\n",
        "  10.16, 10.16, 10.16, 10.1442, 10.1442, 10.1442, 10.2044, 10.2044, 10.2044, 9.9075, 9.9075, 9.9075,\n",
        "  8.3495, 8.3495, 8.3495, 6.0776, 6.0776, 6.0776, 5.4, 5.4, 5.4, 4.9863, 4.9863, 4.9863,\n",
        "  3.8871, 3.8871, 3.8871, 3.0686, 3.0686, 3.0686, 3.1934, 3.1934, 3.1934, 3.9031, 3.9381, 3.9381,\n",
        "  4.451, 4.451, 4.451, 4.9432, 4.9432, 4.9432, 4.9858, 4.9858, 4.9858, 5.0, 5.0, 5.0,\n",
        "  5.46, 5.46, 5.46, 5.96, 5.96, 5.96, 6.49, 6.49, 6.49, 7.04, 7.04, 7.04,\n",
        "  7.1, 7.1, 7.1, 6.57, 6.57, 6.57, 6.43, 6.43, 6.43, 6.62, 6.62, 6.62,\n",
        "  6.44, 6.44, 6.44, 5.7, 5.7, 5.7, 4.11, 4.11, 4.11, 3.68, 3.68, 3.68,\n",
        "  4.5, 4.5, 4.5, 5.3, 5.2, 5.3, 6.0, 5.3, 6.3, 7.1, 7.0, 6.9,\n",
        "  7.6, 7.7, 15.4, 8.9, 13.6, 12.9, 12.9, 13.1, 11.2329792576729, 10.380283488698762, 10.40319309993011, 12.1850062732353,\n",
        "  9.12777857984474]"
      ],
      "metadata": {
        "id": "amM3ezJh5K7U"
      },
      "execution_count": 14,
      "outputs": []
    },
    {
      "cell_type": "code",
      "source": [
        "precios_GNL = [\n",
        "  np.nan, 8.214394569424366, 7.546011671990557, 6.103403700025681, 6.880356483078922, 6.553995755490796, 7.317784745696346, 7.368165266245698, 7.189658943592039, 9.125039034263779, 8.851466377034088, 9.974788065499908,\n",
        "  9.399307680226599, 9.472937560630506, 9.374120801628498, 9.992439669922652, 12.094665860612833, 13.20379693540693, 12.191081072400614, 14.599341694333997, 12.582582206806864, 12.499641730453366, 14.02726303542479, 14.224070135624538, \n",
        "  16.224847931383863, 15.464663828991299, 15.434509832107908, 14.792273297164929, 15.58502122473244, 15.81216446686998, 16.379369263078672, 15.987615781029922, 15.136219844346199, 15.519176707967208, 15.544893236476637, 15.863410447877483,\n",
        "  16.048378807186314, 15.707424820951829, 16.6376927715413, 16.657782750138022, 20.114252389332233, 16.473504426983823, 16.088608837011286, 15.910392209626005, 17.980851895634864, 15.926467199932588, 15.92033498267989, 15.718162627353832,\n",
        "  9.958779173082553, 10.696819935563532, 14.843359806883306, 17.98105199966093, 16.117813395932245, 15.892912247103707, 15.905693938496892, 14.237155950094841, 14.10413794758606, 13.561187472623692, 13.79402967341647, 13.97663582153286,\n",
        "  12.22010064763165, 11.399174432506117, 13.133244015355636, 11.992480628739424, 10.917510200404317, 11.988923633529165, 11.544895985472929, 11.332444955549205, 8.627708506764515, 9.093363718954574, 6.855071000545253, 6.800121572163438,\n",
        "  8.662668893449553, 5.598058038933889, 5.615094994802315, 4.94066099988434, 4.648199653751435, 4.671829755419534, 5.200638854336538, 5.411888199919174, 6.441902588198022, 6.877504130774605, np.nan, np.nan,\n",
        "  np.nan, np.nan, 6.950071931189841, 6.217838572370968, 6.068508087424926, 5.680978810493507, 5.530985828020734, 5.2981562050034645, 5.630327876813947, 6.2971024794617865, np.nan, np.nan, \n",
        "  np.nan, np.nan, np.nan, 7.512936320428825, 7.096697744896704, 6.8, 7.0, 8.1, 10.0, np.nan, np.nan, np.nan, \n",
        "  np.nan, np.nan, np.nan, np.nan, 6.2, 6.4, 6.3, 5.5, 4.3, np.nan, np.nan, np.nan, \n",
        "  np.nan, np.nan, np.nan, 2.7, 2.7, 2.7, 2.3, 2.7, 3.0, np.nan, np.nan, np.nan, \n",
        "  np.nan, np.nan, np.nan, 6.4, 6.7, 7.5, 8.1, 10.4, 12.8, np.nan, np.nan, np.nan,\n",
        "  np.nan, np.nan, np.nan, 33.0, 40.2, 39.6, 25.1, 24.3, np.nan, np.nan, np.nan, np.nan,\n",
        "  0]"
      ],
      "metadata": {
        "id": "e6ISSvEz5LBH"
      },
      "execution_count": 15,
      "outputs": []
    },
    {
      "cell_type": "markdown",
      "source": [
        "Ambas listas son transformadas en *dictionaries*."
      ],
      "metadata": {
        "id": "VRBXIhmOiI3y"
      }
    },
    {
      "cell_type": "code",
      "source": [
        "GNL = dict(zip(domesticos_gas[\"Período\"].tolist(), precios_GNL))"
      ],
      "metadata": {
        "id": "6C6VMLgxEl6Z"
      },
      "execution_count": 16,
      "outputs": []
    },
    {
      "cell_type": "code",
      "source": [
        "bolivia = dict(zip(domesticos_gas[\"Período\"].tolist(), precios_bolivia))"
      ],
      "metadata": {
        "id": "CqyDiBTx9I_s"
      },
      "execution_count": 17,
      "outputs": []
    },
    {
      "cell_type": "markdown",
      "source": [
        "### *DataFrame* final"
      ],
      "metadata": {
        "id": "KQgBcTL3jUVS"
      }
    },
    {
      "cell_type": "markdown",
      "source": [
        "\n",
        "Luego, cada *dictionary* es *mapeado* (`.map()`) al *DataFrame* final (`precios_gas`).\n",
        "\n",
        "Debido a que la importación de Gas Natural Licuado es intermitente (con picos de importación durante el invierno), la columna \"Carguero Gas Natural Licuado\" presenta múltiples valores `NaN`, que representan aquellos meses en los que las cantidades importadas fueron nulas."
      ],
      "metadata": {
        "id": "-z1V259uilzJ"
      }
    },
    {
      "cell_type": "code",
      "source": [
        "precios_gas = domesticos_gas.copy()"
      ],
      "metadata": {
        "id": "krUtn9lPjNBU"
      },
      "execution_count": 18,
      "outputs": []
    },
    {
      "cell_type": "code",
      "source": [
        "precios_gas[\"Carguero Gas Natural Licuado\"] = precios_gas[\"Período\"].map(GNL)"
      ],
      "metadata": {
        "id": "lg26isyLLsX_"
      },
      "execution_count": 19,
      "outputs": []
    },
    {
      "cell_type": "code",
      "source": [
        "precios_gas[\"Gas de Bolivia\"] = precios_gas[\"Período\"].map(bolivia)"
      ],
      "metadata": {
        "id": "PzbmPMG4MM61"
      },
      "execution_count": 20,
      "outputs": []
    },
    {
      "cell_type": "markdown",
      "source": [
        "A continuación, se presentan las primeras 5 filas del *DataFrame*."
      ],
      "metadata": {
        "id": "mzXmlz3_UyVt"
      }
    },
    {
      "cell_type": "code",
      "source": [
        "precios_gas.tail()"
      ],
      "metadata": {
        "id": "fMJ7tPTvMR0E",
        "colab": {
          "base_uri": "https://localhost:8080/",
          "height": 206
        },
        "outputId": "3a8717fb-e113-46bf-a8a4-e77beb7facde"
      },
      "execution_count": 21,
      "outputs": [
        {
          "output_type": "execute_result",
          "data": {
            "text/plain": [
              "       Período  Ponderado Argentina  Carguero Gas Natural Licuado  \\\n",
              "152 2022-09-01             4.016446                           NaN   \n",
              "153 2022-10-01             3.231890                           NaN   \n",
              "154 2022-11-01             3.291148                           NaN   \n",
              "155 2022-12-01             3.198456                           NaN   \n",
              "156 2023-01-01             3.310217                           0.0   \n",
              "\n",
              "     Gas de Bolivia  \n",
              "152       11.232979  \n",
              "153       10.380283  \n",
              "154       10.403193  \n",
              "155       12.185006  \n",
              "156        9.127779  "
            ],
            "text/html": [
              "\n",
              "  <div id=\"df-e97ce5e1-46de-4a01-8f23-2a2612f76a32\">\n",
              "    <div class=\"colab-df-container\">\n",
              "      <div>\n",
              "<style scoped>\n",
              "    .dataframe tbody tr th:only-of-type {\n",
              "        vertical-align: middle;\n",
              "    }\n",
              "\n",
              "    .dataframe tbody tr th {\n",
              "        vertical-align: top;\n",
              "    }\n",
              "\n",
              "    .dataframe thead th {\n",
              "        text-align: right;\n",
              "    }\n",
              "</style>\n",
              "<table border=\"1\" class=\"dataframe\">\n",
              "  <thead>\n",
              "    <tr style=\"text-align: right;\">\n",
              "      <th></th>\n",
              "      <th>Período</th>\n",
              "      <th>Ponderado Argentina</th>\n",
              "      <th>Carguero Gas Natural Licuado</th>\n",
              "      <th>Gas de Bolivia</th>\n",
              "    </tr>\n",
              "  </thead>\n",
              "  <tbody>\n",
              "    <tr>\n",
              "      <th>152</th>\n",
              "      <td>2022-09-01</td>\n",
              "      <td>4.016446</td>\n",
              "      <td>NaN</td>\n",
              "      <td>11.232979</td>\n",
              "    </tr>\n",
              "    <tr>\n",
              "      <th>153</th>\n",
              "      <td>2022-10-01</td>\n",
              "      <td>3.231890</td>\n",
              "      <td>NaN</td>\n",
              "      <td>10.380283</td>\n",
              "    </tr>\n",
              "    <tr>\n",
              "      <th>154</th>\n",
              "      <td>2022-11-01</td>\n",
              "      <td>3.291148</td>\n",
              "      <td>NaN</td>\n",
              "      <td>10.403193</td>\n",
              "    </tr>\n",
              "    <tr>\n",
              "      <th>155</th>\n",
              "      <td>2022-12-01</td>\n",
              "      <td>3.198456</td>\n",
              "      <td>NaN</td>\n",
              "      <td>12.185006</td>\n",
              "    </tr>\n",
              "    <tr>\n",
              "      <th>156</th>\n",
              "      <td>2023-01-01</td>\n",
              "      <td>3.310217</td>\n",
              "      <td>0.0</td>\n",
              "      <td>9.127779</td>\n",
              "    </tr>\n",
              "  </tbody>\n",
              "</table>\n",
              "</div>\n",
              "      <button class=\"colab-df-convert\" onclick=\"convertToInteractive('df-e97ce5e1-46de-4a01-8f23-2a2612f76a32')\"\n",
              "              title=\"Convert this dataframe to an interactive table.\"\n",
              "              style=\"display:none;\">\n",
              "        \n",
              "  <svg xmlns=\"http://www.w3.org/2000/svg\" height=\"24px\"viewBox=\"0 0 24 24\"\n",
              "       width=\"24px\">\n",
              "    <path d=\"M0 0h24v24H0V0z\" fill=\"none\"/>\n",
              "    <path d=\"M18.56 5.44l.94 2.06.94-2.06 2.06-.94-2.06-.94-.94-2.06-.94 2.06-2.06.94zm-11 1L8.5 8.5l.94-2.06 2.06-.94-2.06-.94L8.5 2.5l-.94 2.06-2.06.94zm10 10l.94 2.06.94-2.06 2.06-.94-2.06-.94-.94-2.06-.94 2.06-2.06.94z\"/><path d=\"M17.41 7.96l-1.37-1.37c-.4-.4-.92-.59-1.43-.59-.52 0-1.04.2-1.43.59L10.3 9.45l-7.72 7.72c-.78.78-.78 2.05 0 2.83L4 21.41c.39.39.9.59 1.41.59.51 0 1.02-.2 1.41-.59l7.78-7.78 2.81-2.81c.8-.78.8-2.07 0-2.86zM5.41 20L4 18.59l7.72-7.72 1.47 1.35L5.41 20z\"/>\n",
              "  </svg>\n",
              "      </button>\n",
              "      \n",
              "  <style>\n",
              "    .colab-df-container {\n",
              "      display:flex;\n",
              "      flex-wrap:wrap;\n",
              "      gap: 12px;\n",
              "    }\n",
              "\n",
              "    .colab-df-convert {\n",
              "      background-color: #E8F0FE;\n",
              "      border: none;\n",
              "      border-radius: 50%;\n",
              "      cursor: pointer;\n",
              "      display: none;\n",
              "      fill: #1967D2;\n",
              "      height: 32px;\n",
              "      padding: 0 0 0 0;\n",
              "      width: 32px;\n",
              "    }\n",
              "\n",
              "    .colab-df-convert:hover {\n",
              "      background-color: #E2EBFA;\n",
              "      box-shadow: 0px 1px 2px rgba(60, 64, 67, 0.3), 0px 1px 3px 1px rgba(60, 64, 67, 0.15);\n",
              "      fill: #174EA6;\n",
              "    }\n",
              "\n",
              "    [theme=dark] .colab-df-convert {\n",
              "      background-color: #3B4455;\n",
              "      fill: #D2E3FC;\n",
              "    }\n",
              "\n",
              "    [theme=dark] .colab-df-convert:hover {\n",
              "      background-color: #434B5C;\n",
              "      box-shadow: 0px 1px 3px 1px rgba(0, 0, 0, 0.15);\n",
              "      filter: drop-shadow(0px 1px 2px rgba(0, 0, 0, 0.3));\n",
              "      fill: #FFFFFF;\n",
              "    }\n",
              "  </style>\n",
              "\n",
              "      <script>\n",
              "        const buttonEl =\n",
              "          document.querySelector('#df-e97ce5e1-46de-4a01-8f23-2a2612f76a32 button.colab-df-convert');\n",
              "        buttonEl.style.display =\n",
              "          google.colab.kernel.accessAllowed ? 'block' : 'none';\n",
              "\n",
              "        async function convertToInteractive(key) {\n",
              "          const element = document.querySelector('#df-e97ce5e1-46de-4a01-8f23-2a2612f76a32');\n",
              "          const dataTable =\n",
              "            await google.colab.kernel.invokeFunction('convertToInteractive',\n",
              "                                                     [key], {});\n",
              "          if (!dataTable) return;\n",
              "\n",
              "          const docLinkHtml = 'Like what you see? Visit the ' +\n",
              "            '<a target=\"_blank\" href=https://colab.research.google.com/notebooks/data_table.ipynb>data table notebook</a>'\n",
              "            + ' to learn more about interactive tables.';\n",
              "          element.innerHTML = '';\n",
              "          dataTable['output_type'] = 'display_data';\n",
              "          await google.colab.output.renderOutput(dataTable, element);\n",
              "          const docLink = document.createElement('div');\n",
              "          docLink.innerHTML = docLinkHtml;\n",
              "          element.appendChild(docLink);\n",
              "        }\n",
              "      </script>\n",
              "    </div>\n",
              "  </div>\n",
              "  "
            ]
          },
          "metadata": {},
          "execution_count": 21
        }
      ]
    },
    {
      "cell_type": "markdown",
      "source": [
        "Por último, se exporta el *DataFrame* en formato `.xlsx`."
      ],
      "metadata": {
        "id": "cVMsfhQgsh66"
      }
    },
    {
      "cell_type": "code",
      "source": [
        "precios_gas.to_excel(\"Precios internacionales y domésticos del gas.xlsx\", index=False)"
      ],
      "metadata": {
        "id": "W8_etMnLsm13"
      },
      "execution_count": 22,
      "outputs": []
    },
    {
      "cell_type": "markdown",
      "source": [
        "## Petróleo\n",
        "\n",
        "Al igual que el gas natural, el crudo es extraido en Argentina de diversas cuencas (tanto *on-shore* como *off-shore*). Se toma como precio internacional de referencia al crudo Brent, del Mar del Norte, y al precio de exportación argentino (regulado por el Decreto 488/2020)."
      ],
      "metadata": {
        "id": "fX37oOlUrLlQ"
      }
    },
    {
      "cell_type": "markdown",
      "source": [
        "### Precios domésticos"
      ],
      "metadata": {
        "id": "zJ4ucWXQCf_e"
      }
    },
    {
      "cell_type": "markdown",
      "source": [
        "#### Obtención y limpieza de los datos\n",
        "\n",
        "Los precios nacionales del crudo del Informe de Regalías del Crudo, publicado mensualmente por la Secretaría de Energía.\n",
        "\n",
        "El link (`url_crudo`) remite a dicho archivo."
      ],
      "metadata": {
        "id": "qhaiLavSCf_e"
      }
    },
    {
      "cell_type": "code",
      "source": [
        "url_crudo = \"http://www.energia.gob.ar/contenidos/archivos/Reorganizacion/informacion_del_mercado/mercado_hidrocarburos/informacion_estadistica/regalias/Regalias_CRUDO.zip\""
      ],
      "metadata": {
        "id": "0kZ0jpdSCf_e"
      },
      "execution_count": 23,
      "outputs": []
    },
    {
      "cell_type": "markdown",
      "source": [
        "La ejecución de la función `domestic_prices()` permite la obtención del archivo a partir de `url_crudo` y su limpieza.\n",
        "\n",
        "Es necesario identificar un `pandas.DataFrame` (en este caso, `domesticos_crudo`) y una lista `list_of_columns` a utilizar (`columnas_crudo`)."
      ],
      "metadata": {
        "id": "9DZzZgNoCf_e"
      }
    },
    {
      "cell_type": "code",
      "source": [
        "domesticos_crudo = pd.DataFrame()"
      ],
      "metadata": {
        "id": "a6b5ARdmCf_e"
      },
      "execution_count": 24,
      "outputs": []
    },
    {
      "cell_type": "code",
      "source": [
        "columnas_crudo = [\"AÑO\", \"MES\", \"CUENCA GOLFO SAN JORGE\", \"CUENCA NEUQUINA\"]"
      ],
      "metadata": {
        "id": "Ven7sMEnCf_e"
      },
      "execution_count": 25,
      "outputs": []
    },
    {
      "cell_type": "code",
      "source": [
        "domesticos_crudo = domestic_prices(url_crudo, domesticos_crudo, 144, columnas_crudo)"
      ],
      "metadata": {
        "id": "rtlQpg3XCf_e",
        "colab": {
          "base_uri": "https://localhost:8080/"
        },
        "outputId": "34754726-c188-47af-c4c2-d7a7cc782bf7"
      },
      "execution_count": 26,
      "outputs": [
        {
          "output_type": "stream",
          "name": "stderr",
          "text": [
            "/usr/local/lib/python3.8/dist-packages/openpyxl/worksheet/_reader.py:312: UserWarning: Slicer List extension is not supported and will be removed\n",
            "  warn(msg)\n"
          ]
        }
      ]
    },
    {
      "cell_type": "markdown",
      "source": [
        "Las columnas \"CUENCA GOLFO SAN JORGE\" y \"CUENCA NEUQUINA\" se renombran a partir de los crudos producidos en dichas cuencas: Escalante y Medanito, respectivamente."
      ],
      "metadata": {
        "id": "R3FSN1NvCf_f"
      }
    },
    {
      "cell_type": "code",
      "source": [
        "domesticos_crudo = domesticos_crudo.rename(\n",
        "  columns={\n",
        "    \"CUENCA GOLFO SAN JORGE\": \"Crudo Escalante\",\n",
        "    \"CUENCA NEUQUINA\": \"Crudo Medanito\"\n",
        "  })"
      ],
      "metadata": {
        "id": "uL8TBY_ZCf_f"
      },
      "execution_count": 27,
      "outputs": []
    },
    {
      "cell_type": "markdown",
      "source": [
        "Se eliminan las columnas innecesarias y se reordena el *DataFrame*."
      ],
      "metadata": {
        "id": "_SLNc9vXCf_f"
      }
    },
    {
      "cell_type": "code",
      "source": [
        "domesticos_crudo = domesticos_crudo[[\"Período\", \"Crudo Medanito\", \"Crudo Escalante\"]]"
      ],
      "metadata": {
        "id": "_ikJ5Ms9Cf_f"
      },
      "execution_count": 28,
      "outputs": []
    },
    {
      "cell_type": "markdown",
      "source": [
        "Los montos de las columnas \"Medanito\" y \"Escalante\" US$ / m3 (dólares estadounidenses por metro cúbico).\n",
        "\n",
        "Es preciso convertirlos a US$ / bbl (dólares estadounidenses por barril).\n",
        "\n",
        "Se utiliza el siguiente conversor de m3 a bbl para el crudo."
      ],
      "metadata": {
        "id": "T_lwGW8lDnjL"
      }
    },
    {
      "cell_type": "code",
      "source": [
        "conversor_m3_bbl = 6.289814"
      ],
      "metadata": {
        "id": "_-w04uspEMfG"
      },
      "execution_count": 29,
      "outputs": []
    },
    {
      "cell_type": "markdown",
      "source": [
        "Para obtener el valor de las columnas en US$ / bbl, se divide el valor de cada columna por el conversor de m3 a bbl."
      ],
      "metadata": {
        "id": "3UEFlBNTEMfG"
      }
    },
    {
      "cell_type": "code",
      "source": [
        "for column in domesticos_crudo.columns[1:]:\n",
        "  domesticos_crudo[column] = domesticos_crudo[column]/conversor_m3_bbl"
      ],
      "metadata": {
        "id": "xYMRduFwEMfH"
      },
      "execution_count": 30,
      "outputs": []
    },
    {
      "cell_type": "markdown",
      "source": [
        "### Precios internacionales"
      ],
      "metadata": {
        "id": "LUnV0k4yEroS"
      }
    },
    {
      "cell_type": "markdown",
      "source": [
        "#### Crudo Brent\n",
        "\n",
        "Extraido del Mar del Norte, el crudo Brent es referencia del precio en el mercado petrolero europeo.\n",
        "\n",
        "Los datos del precio del Brent son obtenidos a partir del relevamiento mensual por parte de la Energy Information Administration (EIA) de Estados Unidos. El link `url_brent` refiere a dicho archivo."
      ],
      "metadata": {
        "id": "-IKYmqv8G3Lm"
      }
    },
    {
      "cell_type": "code",
      "source": [
        "url_brent = \"https://www.eia.gov/dnav/pet/hist_xls/RBRTEm.xls\""
      ],
      "metadata": {
        "id": "iIaMTDkl4Xfh"
      },
      "execution_count": 31,
      "outputs": []
    },
    {
      "cell_type": "markdown",
      "source": [
        "Se utiliza la *library* `pandas` para leer la hoja \"Data 1\" del archivo, ignorando sus dos primeras filas."
      ],
      "metadata": {
        "id": "N1Xxi4erHbNB"
      }
    },
    {
      "cell_type": "code",
      "source": [
        "brent = pd.read_excel(url_brent, sheet_name=\"Data 1\", skiprows=2)"
      ],
      "metadata": {
        "id": "cOSsIPuV4Rg9"
      },
      "execution_count": 32,
      "outputs": []
    },
    {
      "cell_type": "markdown",
      "source": [
        "Dado que el análisis se efectúa a partir del año 2003, se eliminan todas los datos anteriores a enero de dicho año (filas `[0:188]`) y se resetea el índice."
      ],
      "metadata": {
        "id": "U4mwqHlUHjtW"
      }
    },
    {
      "cell_type": "code",
      "source": [
        "brent = brent.drop(brent.index[0:188]).reset_index(drop=True)"
      ],
      "metadata": {
        "id": "3S57gc1n4Rjg"
      },
      "execution_count": 33,
      "outputs": []
    },
    {
      "cell_type": "markdown",
      "source": [
        "Acto seguido, se renombran las columnas."
      ],
      "metadata": {
        "id": "MXDlfNclH3tX"
      }
    },
    {
      "cell_type": "code",
      "source": [
        "brent = brent.rename(\n",
        "  columns={\n",
        "    \"Date\": \"Período\",\n",
        "    brent.columns[1]: \"Brent\"\n",
        "  })"
      ],
      "metadata": {
        "id": "-67vWJtkH8I9"
      },
      "execution_count": 34,
      "outputs": []
    },
    {
      "cell_type": "markdown",
      "source": [
        "Por último, se convierte en formato `datetime` la columna \"Período\", y se reemplazan todos los días por el primer día de cada mes."
      ],
      "metadata": {
        "id": "W3WUV5DeIBbc"
      }
    },
    {
      "cell_type": "code",
      "source": [
        "brent['Período'] = pd.to_datetime(brent['Período']).apply(lambda x: x.replace(day=1))"
      ],
      "metadata": {
        "id": "gVc_cIKGBuRh"
      },
      "execution_count": 35,
      "outputs": []
    },
    {
      "cell_type": "markdown",
      "source": [
        "#### Precio de exportación\n",
        "\n",
        "El precio de exportación argentino se encuentra regulado por el Decreto 488/2020.\n",
        "\n",
        "Debido a que no existe una serie histórica de este tipo de crudo, la lista `precio_exportacion_historic` contiene todos los valores de una serie de tiempo armada manualmente, hasta el mes de mayo del año 2020 (a partir del cual se publica el Precio Internacional del Decreto 488/2020)."
      ],
      "metadata": {
        "id": "g_up6A85IJ6i"
      }
    },
    {
      "cell_type": "code",
      "source": [
        "precios_exportacion_historic = [\n",
        "  32.75454545454545, 35.786500000000004, 33.156190476190474, 28.24545454545455, 28.12, 30.519523809523808, 30.69, 31.59714285714286, 28.45954545454545, 30.345217391304345, 30.991500000000002, 32.175,\n",
        "  34.18380952380952, 34.503, 36.71826086956522, 36.616666666666674, 40.28, 38.06772727272727, 40.69772727272727, 44.88363636363636, 45.84909090909091, 53.09380952380951, 48.56318181818183, 43.304782608695646,\n",
        "  46.924285714285716, 48.068, 54.62954545454546, 53.21761904761905, 49.960909090909084, 56.419545454545464, 59.01285714285714, 64.99347826086957, 65.64454545454545, 62.268571428571434, 58.376363636363635, 59.401363636363634,\n",
        "  65.25954545454545, 61.82350000000001, 62.96608695652175, 70.16105263157894, 70.979, 70.97, 74.412, 73.08347826086957, 63.909000000000006, 59.13681818181818, 59.38818181818181, 62.08649999999999,\n",
        "  54.595909090909096, 59.388, 60.74045454545455, 64.04100000000001, 63.53, 67.52952380952381, 74.02590909090908, 72.3586956521739, 79.35, 85.66, 94.75, 91.37,\n",
        "  92.82, 95.36, 105.42, 112.46, 125.76, 134.02, 134.0, 116.69, 104.3, 76.72, 57.29, 42.04,\n",
        "  41.67, 39.17, 48.06, 49.94952380952381, 59.33, 69.69545454545457, 64.4, 71.14, 69.40227272727272, 75.82363636363635, 78.13619047619048, 74.6,\n",
        "  78.38250000000001, 76.3365, 81.29, 84.57523809523812, 74.11749999999999, 75.43363636363634, 76.19, 76.66681818181819, 75.50545454545454, 81.9747619047619, 84.29409090909088, 89.33217391304345,\n",
        "  89.67190476190474, 89.566, 102.98130434782607, 110.0385, 101.32181818181816, 96.28863636363639, 97.32894575297962, 86.3408695652174, 85.64818181818183, 86.42809523809524, 97.11772727272728, 98.5757142857143,\n",
        "  100.24, 102.42, 100.51018092785145, 97.69849152596267, 89.124818913161, 76.88802982606761, 82.4322061114821, 88.60010222900569, 88.97631419123026, 84.00635616394798, 81.0758629845146, 82.39260485230056,\n",
        "  89.22382206111483, 89.7683393748609, 87.42196476835512, 86.51113580717988, 88.97631419123026, 90.22375385544849, 99.03503402333939, 100.91609383446215, 100.63888502019144, 94.9462040128462, 88.33279372953037, 97.63,\n",
        "  94.62, 100.82, 100.8, 102.07, 102.18, 105.79, 103.59, 96.54, 93.21, 84.4, 75.79, 59.29,\n",
        "  47.22, 50.58, 47.82, 54.45, 59.27, 59.82, 50.9, 42.87, 45.48, 46.22, 42.44, 37.21,\n",
        "  30.7, 32.18, 38.21, 41.58, 46.74, 48.25, 44.95, 45.84, 46.57, 49.52, 44.73, 53.29,\n",
        "  54.58, 54.87, 51.59, 52.31, 50.33, 46.37, 48.48, 51.7, 56.15, 57.51, 62.71, 64.37,\n",
        "  69.08, 65.32, 66.02, 72.11, 76.98, 74.41, 74.25, 72.53, 78.89, 81.03, 64.75, 57.36,\n",
        "  59.41, 63.96, 66.14, 71.23, 71.32, 64.22, 63.92, 59.04, 62.83, 59.71, 63.21, 67.31,\n",
        "  63.65, 55.66, 32.01, 18.38, 29.38]"
      ],
      "metadata": {
        "id": "vcXEhkHS_c8O"
      },
      "execution_count": 36,
      "outputs": []
    },
    {
      "cell_type": "markdown",
      "source": [
        "Se transforma la lista en *dictionary*."
      ],
      "metadata": {
        "id": "KWzDGDsuQzr1"
      }
    },
    {
      "cell_type": "code",
      "source": [
        "exportacion_historic = dict(zip(domesticos_crudo[\"Período\"].tolist(), precios_exportacion_historic))"
      ],
      "metadata": {
        "id": "AiOmaD9vQZVB"
      },
      "execution_count": 37,
      "outputs": []
    },
    {
      "cell_type": "markdown",
      "source": [
        "Los valores a partir de mayo del año 2020 son publicados por la Secretaría de Energía de la Nación, bajo el título del \"Precio Internacional del Petróleo\" según el artículo 7, inciso C, del Decreto 488/2020.\n",
        "\n",
        "El link `url_exportacion` refiere a dicho archivo."
      ],
      "metadata": {
        "id": "P_eHVhJ3N7v2"
      }
    },
    {
      "cell_type": "code",
      "source": [
        "url_exportacion = \"http://www.energia.gob.ar/contenidos/archivos/Reorganizacion/informacion_del_mercado/mercado_hidrocarburos/pi/precio_internacional.xlsx\""
      ],
      "metadata": {
        "id": "uKULCiFd_c_A"
      },
      "execution_count": 38,
      "outputs": []
    },
    {
      "cell_type": "markdown",
      "source": [
        "Se utiliza la *library* `pandas` para leer el archivo."
      ],
      "metadata": {
        "id": "yLUzWy8bT_E-"
      }
    },
    {
      "cell_type": "code",
      "source": [
        "exportacion = pd.read_excel(url_exportacion, skiprows=2, skipfooter=2)"
      ],
      "metadata": {
        "id": "esJVoKSFN7HQ"
      },
      "execution_count": 39,
      "outputs": []
    },
    {
      "cell_type": "markdown",
      "source": [
        "Se recorta el *DataFrame* con las columnas deseadas y se invierte su orden. Luego, se resetea el índice."
      ],
      "metadata": {
        "id": "gTRgOz6lUDd4"
      }
    },
    {
      "cell_type": "code",
      "source": [
        "exportacion = exportacion[[\"Vigencia desde\", \"U$S/barril\"]][::-1].reset_index(drop=True)"
      ],
      "metadata": {
        "id": "Kp2msBqNN7KB"
      },
      "execution_count": 40,
      "outputs": []
    },
    {
      "cell_type": "markdown",
      "source": [
        "### *DataFrame final*\n",
        "\n"
      ],
      "metadata": {
        "id": "szZg8_aiUQhe"
      }
    },
    {
      "cell_type": "markdown",
      "source": [
        "El armado del *DataFrame* final (`precios_crudo`) conjuga tanto los precios domésticos como los precios internacionales. En este sentido, se *mapea* (`.map()`) el precio del exportación al *DataFrame* y, luego, se agrega el precio del crudo Brent."
      ],
      "metadata": {
        "id": "ovYGOxbrUcg7"
      }
    },
    {
      "cell_type": "code",
      "source": [
        "precios_crudo = domesticos_crudo.copy()"
      ],
      "metadata": {
        "id": "ki8VKX1WUcg7"
      },
      "execution_count": 41,
      "outputs": []
    },
    {
      "cell_type": "markdown",
      "source": [
        "Para *mapear* los precios de exportación, se requiere que ambos se encuentren en un solo *dictionary*."
      ],
      "metadata": {
        "id": "zROGMKdvU8az"
      }
    },
    {
      "cell_type": "code",
      "source": [
        "exportacion = {**exportacion_historic, **dict(exportacion.values)}"
      ],
      "metadata": {
        "id": "8JIP6oUfVFGk"
      },
      "execution_count": 42,
      "outputs": []
    },
    {
      "cell_type": "code",
      "source": [
        "precios_crudo[\"Exportación\"] = precios_crudo[\"Período\"].map(exportacion)"
      ],
      "metadata": {
        "id": "gWPMUONEUcg7"
      },
      "execution_count": 43,
      "outputs": []
    },
    {
      "cell_type": "markdown",
      "source": [
        "En el caso del crudo Brent, dado que `brent` es, en esencia, un *DataFrame*, se unen ambos *DataFrames* (`.merge()`)."
      ],
      "metadata": {
        "id": "cGYMz5vCVZ2v"
      }
    },
    {
      "cell_type": "code",
      "source": [
        "precios_crudo = precios_crudo.merge(brent, on=\"Período\")"
      ],
      "metadata": {
        "id": "IWa8GhpSUcg8"
      },
      "execution_count": 44,
      "outputs": []
    },
    {
      "cell_type": "markdown",
      "source": [
        "Así, se crea el *DataFrame* que contiene tanto los precios domésticos como los internacionales.\n",
        "\n",
        "A continuación, se presentan las primeras 5 filas de dicho *DataFrame*."
      ],
      "metadata": {
        "id": "rzphHTvFUcg8"
      }
    },
    {
      "cell_type": "code",
      "source": [
        "precios_crudo.head()"
      ],
      "metadata": {
        "id": "hUUW6qENUcg8",
        "colab": {
          "base_uri": "https://localhost:8080/",
          "height": 206
        },
        "outputId": "e451c4b5-34f5-4ca2-9714-bb10bae2474a"
      },
      "execution_count": 45,
      "outputs": [
        {
          "output_type": "execute_result",
          "data": {
            "text/plain": [
              "     Período  Crudo Medanito  Crudo Escalante  Exportación  Brent\n",
              "0 2003-01-01       26.276741        25.115804    32.754545  31.18\n",
              "1 2003-02-01       26.937442        26.724067    35.786500  32.77\n",
              "2 2003-03-01       27.906095        24.238090    33.156190  30.61\n",
              "3 2003-04-01       26.598358        23.459694    28.245455  25.00\n",
              "4 2003-05-01       25.346064        24.148734    28.120000  25.86"
            ],
            "text/html": [
              "\n",
              "  <div id=\"df-b911069b-3ef7-4649-892d-2192bcf6017d\">\n",
              "    <div class=\"colab-df-container\">\n",
              "      <div>\n",
              "<style scoped>\n",
              "    .dataframe tbody tr th:only-of-type {\n",
              "        vertical-align: middle;\n",
              "    }\n",
              "\n",
              "    .dataframe tbody tr th {\n",
              "        vertical-align: top;\n",
              "    }\n",
              "\n",
              "    .dataframe thead th {\n",
              "        text-align: right;\n",
              "    }\n",
              "</style>\n",
              "<table border=\"1\" class=\"dataframe\">\n",
              "  <thead>\n",
              "    <tr style=\"text-align: right;\">\n",
              "      <th></th>\n",
              "      <th>Período</th>\n",
              "      <th>Crudo Medanito</th>\n",
              "      <th>Crudo Escalante</th>\n",
              "      <th>Exportación</th>\n",
              "      <th>Brent</th>\n",
              "    </tr>\n",
              "  </thead>\n",
              "  <tbody>\n",
              "    <tr>\n",
              "      <th>0</th>\n",
              "      <td>2003-01-01</td>\n",
              "      <td>26.276741</td>\n",
              "      <td>25.115804</td>\n",
              "      <td>32.754545</td>\n",
              "      <td>31.18</td>\n",
              "    </tr>\n",
              "    <tr>\n",
              "      <th>1</th>\n",
              "      <td>2003-02-01</td>\n",
              "      <td>26.937442</td>\n",
              "      <td>26.724067</td>\n",
              "      <td>35.786500</td>\n",
              "      <td>32.77</td>\n",
              "    </tr>\n",
              "    <tr>\n",
              "      <th>2</th>\n",
              "      <td>2003-03-01</td>\n",
              "      <td>27.906095</td>\n",
              "      <td>24.238090</td>\n",
              "      <td>33.156190</td>\n",
              "      <td>30.61</td>\n",
              "    </tr>\n",
              "    <tr>\n",
              "      <th>3</th>\n",
              "      <td>2003-04-01</td>\n",
              "      <td>26.598358</td>\n",
              "      <td>23.459694</td>\n",
              "      <td>28.245455</td>\n",
              "      <td>25.00</td>\n",
              "    </tr>\n",
              "    <tr>\n",
              "      <th>4</th>\n",
              "      <td>2003-05-01</td>\n",
              "      <td>25.346064</td>\n",
              "      <td>24.148734</td>\n",
              "      <td>28.120000</td>\n",
              "      <td>25.86</td>\n",
              "    </tr>\n",
              "  </tbody>\n",
              "</table>\n",
              "</div>\n",
              "      <button class=\"colab-df-convert\" onclick=\"convertToInteractive('df-b911069b-3ef7-4649-892d-2192bcf6017d')\"\n",
              "              title=\"Convert this dataframe to an interactive table.\"\n",
              "              style=\"display:none;\">\n",
              "        \n",
              "  <svg xmlns=\"http://www.w3.org/2000/svg\" height=\"24px\"viewBox=\"0 0 24 24\"\n",
              "       width=\"24px\">\n",
              "    <path d=\"M0 0h24v24H0V0z\" fill=\"none\"/>\n",
              "    <path d=\"M18.56 5.44l.94 2.06.94-2.06 2.06-.94-2.06-.94-.94-2.06-.94 2.06-2.06.94zm-11 1L8.5 8.5l.94-2.06 2.06-.94-2.06-.94L8.5 2.5l-.94 2.06-2.06.94zm10 10l.94 2.06.94-2.06 2.06-.94-2.06-.94-.94-2.06-.94 2.06-2.06.94z\"/><path d=\"M17.41 7.96l-1.37-1.37c-.4-.4-.92-.59-1.43-.59-.52 0-1.04.2-1.43.59L10.3 9.45l-7.72 7.72c-.78.78-.78 2.05 0 2.83L4 21.41c.39.39.9.59 1.41.59.51 0 1.02-.2 1.41-.59l7.78-7.78 2.81-2.81c.8-.78.8-2.07 0-2.86zM5.41 20L4 18.59l7.72-7.72 1.47 1.35L5.41 20z\"/>\n",
              "  </svg>\n",
              "      </button>\n",
              "      \n",
              "  <style>\n",
              "    .colab-df-container {\n",
              "      display:flex;\n",
              "      flex-wrap:wrap;\n",
              "      gap: 12px;\n",
              "    }\n",
              "\n",
              "    .colab-df-convert {\n",
              "      background-color: #E8F0FE;\n",
              "      border: none;\n",
              "      border-radius: 50%;\n",
              "      cursor: pointer;\n",
              "      display: none;\n",
              "      fill: #1967D2;\n",
              "      height: 32px;\n",
              "      padding: 0 0 0 0;\n",
              "      width: 32px;\n",
              "    }\n",
              "\n",
              "    .colab-df-convert:hover {\n",
              "      background-color: #E2EBFA;\n",
              "      box-shadow: 0px 1px 2px rgba(60, 64, 67, 0.3), 0px 1px 3px 1px rgba(60, 64, 67, 0.15);\n",
              "      fill: #174EA6;\n",
              "    }\n",
              "\n",
              "    [theme=dark] .colab-df-convert {\n",
              "      background-color: #3B4455;\n",
              "      fill: #D2E3FC;\n",
              "    }\n",
              "\n",
              "    [theme=dark] .colab-df-convert:hover {\n",
              "      background-color: #434B5C;\n",
              "      box-shadow: 0px 1px 3px 1px rgba(0, 0, 0, 0.15);\n",
              "      filter: drop-shadow(0px 1px 2px rgba(0, 0, 0, 0.3));\n",
              "      fill: #FFFFFF;\n",
              "    }\n",
              "  </style>\n",
              "\n",
              "      <script>\n",
              "        const buttonEl =\n",
              "          document.querySelector('#df-b911069b-3ef7-4649-892d-2192bcf6017d button.colab-df-convert');\n",
              "        buttonEl.style.display =\n",
              "          google.colab.kernel.accessAllowed ? 'block' : 'none';\n",
              "\n",
              "        async function convertToInteractive(key) {\n",
              "          const element = document.querySelector('#df-b911069b-3ef7-4649-892d-2192bcf6017d');\n",
              "          const dataTable =\n",
              "            await google.colab.kernel.invokeFunction('convertToInteractive',\n",
              "                                                     [key], {});\n",
              "          if (!dataTable) return;\n",
              "\n",
              "          const docLinkHtml = 'Like what you see? Visit the ' +\n",
              "            '<a target=\"_blank\" href=https://colab.research.google.com/notebooks/data_table.ipynb>data table notebook</a>'\n",
              "            + ' to learn more about interactive tables.';\n",
              "          element.innerHTML = '';\n",
              "          dataTable['output_type'] = 'display_data';\n",
              "          await google.colab.output.renderOutput(dataTable, element);\n",
              "          const docLink = document.createElement('div');\n",
              "          docLink.innerHTML = docLinkHtml;\n",
              "          element.appendChild(docLink);\n",
              "        }\n",
              "      </script>\n",
              "    </div>\n",
              "  </div>\n",
              "  "
            ]
          },
          "metadata": {},
          "execution_count": 45
        }
      ]
    },
    {
      "cell_type": "markdown",
      "source": [
        "Por último, se exporta el *DataFrame* en formato `.xlsx`."
      ],
      "metadata": {
        "id": "5I5FUqW2stdn"
      }
    },
    {
      "cell_type": "code",
      "source": [
        "precios_crudo.to_excel(\"Precios internacionales y domésticos del petróleo.xlsx\", index=False)"
      ],
      "metadata": {
        "id": "jd80TPDLstdo"
      },
      "execution_count": 46,
      "outputs": []
    },
    {
      "cell_type": "markdown",
      "source": [
        "## Figuras\n",
        "\n",
        "Se pretende crear una figura para cada *DataFrame* que refleje la evolución de los precios nacionales e internacionales de cada uno de los hidrocarburos. La representación será en forma de un gráfico de líneas."
      ],
      "metadata": {
        "id": "BK_PtWUj5VpY"
      }
    },
    {
      "cell_type": "markdown",
      "source": [
        "### General"
      ],
      "metadata": {
        "id": "PC6QoIJJkoAt"
      }
    },
    {
      "cell_type": "markdown",
      "source": [
        "La lista `internationals` contiene aquellos precios que corresponden al mercado internacional."
      ],
      "metadata": {
        "id": "B36K7pYglVBo"
      }
    },
    {
      "cell_type": "code",
      "source": [
        "internationals = precios_gas.columns[2:].tolist() + precios_crudo.columns[3:].tolist()"
      ],
      "metadata": {
        "id": "QRIa0wOReXwH"
      },
      "execution_count": 47,
      "outputs": []
    },
    {
      "cell_type": "markdown",
      "source": [
        "Para hacer más eficiente el código, se crean dos funciones que servirán para crear las figuras y modificar sus atributos esenciales.\n",
        "\n",
        "La primera función (`precios_graph`) genera, a partir de un *DataFrame* determinado (`df`), el gráfico de líneas deseado.\n",
        "\n",
        "Los parámetros de esta función son:\n",
        "\n",
        "\n",
        "*   `df`: el *DataFrame* que contiene la información a graficar.\n",
        "*   `color_list`: la lista de colores para cada una de las líneas.\n",
        "*   `fig`: el nombre de la figura a utilizar.\n",
        "\n"
      ],
      "metadata": {
        "id": "D8zez-WMh1ig"
      }
    },
    {
      "cell_type": "code",
      "source": [
        "def precios_graph(df, color_list, fig):\n",
        "  for precio, color in zip(list(reversed(df.columns[1:].tolist())), color_list):\n",
        "    if precio in internationals:\n",
        "      fig.add_trace(\n",
        "        go.Scatter(\n",
        "          x=df[\"Período\"],\n",
        "          y=df[precio],\n",
        "          mode='lines',\n",
        "          line=dict(color=color, width=2),\n",
        "          name=precio,\n",
        "          legendgroup=\"Internacionales\",\n",
        "          legendgrouptitle_text=\"Internacionales\"\n",
        "        )\n",
        "      )\n",
        "    else:\n",
        "      fig.add_trace(\n",
        "        go.Scatter(\n",
        "          x=df[\"Período\"],\n",
        "          y=df[precio],\n",
        "          mode='lines',\n",
        "          line=dict(color=color, width=2),\n",
        "          name=precio,\n",
        "          legendgroup=\"Nacionales\",\n",
        "          legendgrouptitle_text=\"Nacionales\"\n",
        "        )\n",
        "      )\n",
        "    fig.add_trace(go.Scatter(\n",
        "      showlegend=False,\n",
        "      x=df[\"Período\"].tail(1),\n",
        "      y=df[precio].tail(1),\n",
        "      mode='markers+text',\n",
        "      name=precio+\"EoP\",\n",
        "      marker = dict(\n",
        "          color = color,\n",
        "          size = 10)\n",
        "      )\n",
        "    )\n",
        "    fig.add_annotation(\n",
        "      name = precio + \" - Eop\",\n",
        "      x=dt.date(df[\"Período\"][len(df)-1].year, df[\"Período\"][len(df)-1].month, 1),\n",
        "      y=df[precio][-1:].values[0],\n",
        "      text=round(df[precio][-1:].values[0], 1).astype(str),\n",
        "      font=dict(color=color),\n",
        "      xanchor=\"left\",\n",
        "      xshift=5,\n",
        "      yshift=0,\n",
        "      showarrow=False\n",
        "      )"
      ],
      "metadata": {
        "id": "yYzLKkaGcBuq"
      },
      "execution_count": 48,
      "outputs": []
    },
    {
      "cell_type": "markdown",
      "source": [
        "La segunda función, `update_layout_fig` contiene el código para modificar el aspecto de la figura en general.\n",
        "\n",
        "Sus parámetros son:\n",
        "\n",
        "\n",
        "*   `fig`: el nombre de la figura a utilizar.\n",
        "*   `date_start`: fecha en la que comienza el eje de abscisas.\n",
        "*   `min`: valor mínimo del eje de ordenadas.\n",
        "*   `max`: valor máximo del eje de ordenadas.\n",
        "*   `title_text`: título del eje de ordenadas.\n",
        "\n"
      ],
      "metadata": {
        "id": "1jDimDGqj746"
      }
    },
    {
      "cell_type": "code",
      "source": [
        "def update_layout_fig(fig, date_start, min, max, title_text):\n",
        "  fig.update_layout(\n",
        "    margin=dict(b=15, t=15, l=15, r=50),\n",
        "    height=750, \n",
        "    width=1000,\n",
        "    plot_bgcolor='rgba(0,0,0,0)',\n",
        "    legend=dict(\n",
        "        orientation='h',\n",
        "        xanchor='center', \n",
        "        x=0.5, \n",
        "        yanchor='bottom', \n",
        "        y=1,\n",
        "        font=dict(size=16)\n",
        "        ),\n",
        "    xaxis=dict(\n",
        "        range=[date_start, dt.date(date.today().year, date.today().month, 1)], tickformat=\"%m\\n<b>%Y\", dtick=\"M12\"\n",
        "        ),\n",
        "    yaxis=dict(\n",
        "        range=[min, max], title=dict(text=title_text), showgrid=True, gridcolor='lightgray'\n",
        "        ),\n",
        "    font=dict(\n",
        "        size=14,\n",
        "        family=\"Serif\"\n",
        "        )\n",
        "    )"
      ],
      "metadata": {
        "id": "lK7I4ofafqyu"
      },
      "execution_count": 49,
      "outputs": []
    },
    {
      "cell_type": "markdown",
      "source": [
        "### Figura: Precios internacionales y domésticos del gas\n",
        "\n",
        "La escala de colores elegida para el gas es una escala ternaria."
      ],
      "metadata": {
        "id": "dJRTyo-Uk5dg"
      }
    },
    {
      "cell_type": "code",
      "source": [
        "colors_gas = ['rgb(118, 78, 159)', 'rgb(204, 97, 176)', 'rgb(47, 138, 196)']"
      ],
      "metadata": {
        "id": "_Oiakm5eHkQq"
      },
      "execution_count": 50,
      "outputs": []
    },
    {
      "cell_type": "markdown",
      "source": [
        "Como comentado anteriormente, la intermitencia de la importación del Gas Natural Licuado se refleja en los múltiples valores `NaN` en la columna \"Carguero Gas Natural Licuado\" del *DataFrame* `precios_gas`. Asimismo, la presencia de estos valores `NaN` implica que, al graficar los datos, existan períodos de corte en la serie (esto es, segmentos continuos no unidos).\n",
        "\n",
        "Por motivos de visualización, se crea la serie `interpolation_GNL`, que contiene una interpolación lineal de los datos de la columna \"Carguero Gas Natural Licuado\"."
      ],
      "metadata": {
        "id": "Lld3KsJ6TWeZ"
      }
    },
    {
      "cell_type": "code",
      "source": [
        "interpolation_GNL = precios_gas[precios_gas.columns[2]].interpolate()"
      ],
      "metadata": {
        "id": "xILAsTs5UGXx"
      },
      "execution_count": 51,
      "outputs": []
    },
    {
      "cell_type": "markdown",
      "source": [
        "Se crea la figura `gas_fig` en el entorno de Plotly (utilizando `graph_objects` como `go`)."
      ],
      "metadata": {
        "id": "d87xbZ40sbJU"
      }
    },
    {
      "cell_type": "code",
      "source": [
        "gas_fig = go.Figure()"
      ],
      "metadata": {
        "id": "ApAYbbRosaRX"
      },
      "execution_count": 52,
      "outputs": []
    },
    {
      "cell_type": "markdown",
      "source": [
        "Dicha figura es actualizada a partir de las funciones `precios_graph` y `update_layout_fig`, con los parámetros antes especificados.\n",
        "\n",
        "Además, se agrega una `trace`, que grafica los valores de la serie `interpolation_GNL` como una línea discontinua (`dash = \"dash\"`). Visualmente, esta línea une los segmentos continuos de la serie de valores correspondientes al Carguero de Gas Natural Licuado."
      ],
      "metadata": {
        "id": "G11YRqepsumF"
      }
    },
    {
      "cell_type": "code",
      "source": [
        "precios_graph(precios_gas, colors_gas, gas_fig)\n",
        "\n",
        "gas_fig.add_trace(\n",
        "  go.Scatter(\n",
        "    showlegend=False,\n",
        "    x=precios_gas[\"Período\"],\n",
        "    y=interpolation_GNL,\n",
        "    mode='lines',\n",
        "    line=dict(color=colors_gas[1], width=2, dash=\"dash\"),\n",
        "    name=\"Interpolation GNL\"\n",
        "  )\n",
        ")\n",
        "\n",
        "update_layout_fig(gas_fig, dt.date(2010, 1, 1), -2, 45, \"<b>USD / MMBTU\")"
      ],
      "metadata": {
        "id": "u3bD36-jmr3e"
      },
      "execution_count": 53,
      "outputs": []
    },
    {
      "cell_type": "markdown",
      "source": [
        "A continuación, se exhibe la figura."
      ],
      "metadata": {
        "id": "GAWEM1Hb2H43"
      }
    },
    {
      "cell_type": "code",
      "source": [
        "gas_fig.show(\"png\")"
      ],
      "metadata": {
        "id": "JUysf1FrhaNO",
        "colab": {
          "base_uri": "https://localhost:8080/",
          "height": 767
        },
        "outputId": "aadf29da-60d6-4025-ec3c-37c02d68a641"
      },
      "execution_count": 54,
      "outputs": [
        {
          "output_type": "display_data",
          "data": {
            "image/png": "[encoded data removed]"
          },
          "metadata": {}
        }
      ]
    },
    {
      "cell_type": "markdown",
      "source": [
        "Si se desea exportar la figura a formato `.pdf`, se debe des-comentar y ejecutar la siguiente celda. Recuérdese que el *package* `kaleido` debe estar correctamente instalado."
      ],
      "metadata": {
        "id": "d1_-judj2M7B"
      }
    },
    {
      "cell_type": "code",
      "source": [
        "pio.write_image(gas_fig, \"Figura Precios Int. y Dom. del Gas.pdf\", width=3*300, height=2.25*300)"
      ],
      "metadata": {
        "id": "xihgJA2z2dtC"
      },
      "execution_count": 55,
      "outputs": []
    },
    {
      "cell_type": "markdown",
      "source": [
        "### Figura: Precios internacionales y domésticos del petróleo\n",
        "\n",
        "La escala de colores elegida para esta figura es una escala cuaternaria."
      ],
      "metadata": {
        "id": "gOV6y7hWtiQU"
      }
    },
    {
      "cell_type": "code",
      "source": [
        "colors_crudo = ['rgb(204, 97, 176)', 'rgb(153, 201, 69)', 'rgb(118, 78, 159)', 'rgb(47, 138, 196)']"
      ],
      "metadata": {
        "id": "7ZCmxauui8vI"
      },
      "execution_count": 56,
      "outputs": []
    },
    {
      "cell_type": "markdown",
      "source": [
        "Se crea la figura `crudo_fig` en el entorno de Plotly."
      ],
      "metadata": {
        "id": "egH1B_OhtiQU"
      }
    },
    {
      "cell_type": "code",
      "source": [
        "crudo_fig = go.Figure()"
      ],
      "metadata": {
        "id": "FUZGpdfXtiQU"
      },
      "execution_count": 57,
      "outputs": []
    },
    {
      "cell_type": "markdown",
      "source": [
        "Dicha figura es actualizada a partir de las funciones `precios_graph` y `update_layout_fig`, con los parámetros antes especificados."
      ],
      "metadata": {
        "id": "i-DB5ZjZtiQU"
      }
    },
    {
      "cell_type": "code",
      "source": [
        "precios_graph(precios_crudo, colors_crudo, crudo_fig)\n",
        "\n",
        "\n",
        "crudo_fig.update_annotations(\n",
        "    selector = { \"name\": \"Brent - Eop\"},\n",
        "    yshift=-5)\n",
        "\n",
        "crudo_fig.update_annotations(\n",
        "    selector = { \"name\": \"Exportación - Eop\"},\n",
        "    yshift=5)\n",
        "\n",
        "update_layout_fig(crudo_fig, dt.date(2003, 1, 1), -10, 150, \"<b>USD / Bbl\")"
      ],
      "metadata": {
        "id": "uo8UCLWqtiQV"
      },
      "execution_count": 58,
      "outputs": []
    },
    {
      "cell_type": "markdown",
      "source": [
        "A continuación, se exhibe la figura."
      ],
      "metadata": {
        "id": "HlmPVD9yS-go"
      }
    },
    {
      "cell_type": "code",
      "source": [
        "crudo_fig.show(\"png\")"
      ],
      "metadata": {
        "id": "eTLzVu_vtiQV",
        "colab": {
          "base_uri": "https://localhost:8080/",
          "height": 767
        },
        "outputId": "66454bea-3273-4d15-fe82-49f755d07ad2"
      },
      "execution_count": 59,
      "outputs": [
        {
          "output_type": "display_data",
          "data": {
            "image/png": "[encoded data removed]"
          },
          "metadata": {}
        }
      ]
    },
    {
      "cell_type": "markdown",
      "source": [
        "Si se desea exportar la figura a formato `.pdf`, se debe des-comentar y ejecutar la siguiente celda. Recuérdese que el *package* `kaleido` debe estar correctamente instalado."
      ],
      "metadata": {
        "id": "Ks8a1fmJ2lki"
      }
    },
    {
      "cell_type": "code",
      "source": [
        "pio.write_image(crudo_fig, \"Figura Precios Int. y Dom. del Petroleo.pdf\", width=3*300, height=2.25*300)"
      ],
      "metadata": {
        "id": "FMwtEQFi2lkj"
      },
      "execution_count": 60,
      "outputs": []
    }
  ]
}