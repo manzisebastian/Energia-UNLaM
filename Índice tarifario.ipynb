{
  "nbformat": 4,
  "nbformat_minor": 0,
  "metadata": {
    "colab": {
      "provenance": []
    },
    "kernelspec": {
      "name": "python3",
      "display_name": "Python 3"
    },
    "language_info": {
      "name": "python"
    }
  },
  "cells": [
    {
      "cell_type": "markdown",
      "source": [
        "# **Evolución del índice tarifario**\n",
        "\n",
        "\n",
        "---\n",
        "\n",
        "\n",
        "El valor de las tarifas de servicios públicos (electricidad y gas) es un tópico permanentemente en agenda, debido a su impacto en las cuentas públicas. En este sentido, el estudio de la evolución mensual del índice tarifario en valor real permite identificar puntos de quiebre en las políticas públicas, así como períodos de atraso tarifario y de recomposición del valor real de las tarifas.\n",
        "\n",
        "El presente archivo contiene el código utilizado para obtener, procesar, analizar y actualizar los datos relevados en el Boletín de Precios y Tarifas Públicas, publicado por el Centro de Estudio de Finanzas Públicas y el Instituto de Investigaciones Económicas de la Facultad de Ciencias Económicas de la Universidad de La Plata. Este boletín se enmarca dentro del proyecto \"Precios de empresas públicas y privatizadas reguladas. Teoría, medición para la Argentina y política económica\", PICT 2016-0338 del FONCYT. Sus autores son Cont, W.; Navajas, F. H. y Porto, A., entre otros.\n",
        "\n",
        "Como resultado del análisis de datos, se presenta una figura en forma de gráfico de líneas, que permite visualizar la evolución del índice tarifario para la electricidad y el gas."
      ],
      "metadata": {
        "id": "fxu4F2j_2cfX"
      }
    },
    {
      "cell_type": "markdown",
      "source": [
        "## Preliminar"
      ],
      "metadata": {
        "id": "Q8VY5QjxPQhK"
      }
    },
    {
      "cell_type": "markdown",
      "source": [
        "### Lectura de archivos `.pdf`\n",
        "\n",
        "Para la ejecución del siguiente código, se debe instalar el *package* `tabula-py`, necesario para la lectura de tablas en formato `.pdf`."
      ],
      "metadata": {
        "id": "Kra3HEZ-bHDs"
      }
    },
    {
      "cell_type": "code",
      "source": [
        "!pip install tabula-py"
      ],
      "metadata": {
        "colab": {
          "base_uri": "https://localhost:8080/"
        },
        "id": "l0u20AMvbd3I",
        "outputId": "f5f4487c-1e74-4f7d-ab8c-43bbe5a03142"
      },
      "execution_count": 1,
      "outputs": [
        {
          "output_type": "stream",
          "name": "stdout",
          "text": [
            "Looking in indexes: https://pypi.org/simple, https://us-python.pkg.dev/colab-wheels/public/simple/\n",
            "Collecting tabula-py\n",
            "  Downloading tabula_py-2.7.0-py3-none-any.whl (12.0 MB)\n",
            "\u001b[2K     \u001b[90m━━━━━━━━━━━━━━━━━━━━━━━━━━━━━━━━━━━━━━━━\u001b[0m \u001b[32m12.0/12.0 MB\u001b[0m \u001b[31m53.5 MB/s\u001b[0m eta \u001b[36m0:00:00\u001b[0m\n",
            "\u001b[?25hRequirement already satisfied: numpy in /usr/local/lib/python3.9/dist-packages (from tabula-py) (1.22.4)\n",
            "Collecting distro\n",
            "  Downloading distro-1.8.0-py3-none-any.whl (20 kB)\n",
            "Requirement already satisfied: pandas>=0.25.3 in /usr/local/lib/python3.9/dist-packages (from tabula-py) (1.4.4)\n",
            "Requirement already satisfied: pytz>=2020.1 in /usr/local/lib/python3.9/dist-packages (from pandas>=0.25.3->tabula-py) (2022.7.1)\n",
            "Requirement already satisfied: python-dateutil>=2.8.1 in /usr/local/lib/python3.9/dist-packages (from pandas>=0.25.3->tabula-py) (2.8.2)\n",
            "Requirement already satisfied: six>=1.5 in /usr/local/lib/python3.9/dist-packages (from python-dateutil>=2.8.1->pandas>=0.25.3->tabula-py) (1.16.0)\n",
            "Installing collected packages: distro, tabula-py\n",
            "Successfully installed distro-1.8.0 tabula-py-2.7.0\n"
          ]
        }
      ]
    },
    {
      "cell_type": "markdown",
      "source": [
        "### Importación de *libraries*\n",
        "\n",
        "Se importan las *libraries* a utilizar en el código."
      ],
      "metadata": {
        "id": "Wb4Bl30G7H9I"
      }
    },
    {
      "cell_type": "code",
      "source": [
        "import pandas as pd\n",
        "import tabula\n",
        "from urllib.request import Request, urlopen\n",
        "import datetime as dt\n",
        "import plotly.graph_objects as go\n",
        "import numpy as np\n",
        "import plotly.io as pio"
      ],
      "metadata": {
        "id": "rLLWts9fti4E"
      },
      "execution_count": 2,
      "outputs": []
    },
    {
      "cell_type": "markdown",
      "source": [
        "### Exportación a archivo `.pdf`\n",
        "\n",
        "En caso de precisarse exportar las figuras resultantes a formato `.pdf`, se debe instalar el *package* `kaleido`.\n",
        "\n",
        "**IMPORTANTE**: para evitar problemas de desconexión, es recomendable ejecutar el código la siguiente celda y, una vez terminado el proceso de instalación, reiniciar el entorno de ejecución y ejecutar todas las celdas."
      ],
      "metadata": {
        "id": "HJrL1Jgw03te"
      }
    },
    {
      "cell_type": "code",
      "source": [
        "!pip install -U kaleido"
      ],
      "metadata": {
        "id": "YwZ_PfIfbbkT",
        "colab": {
          "base_uri": "https://localhost:8080/"
        },
        "outputId": "70f23167-51ee-4432-d069-b968a3726528"
      },
      "execution_count": 3,
      "outputs": [
        {
          "output_type": "stream",
          "name": "stdout",
          "text": [
            "Looking in indexes: https://pypi.org/simple, https://us-python.pkg.dev/colab-wheels/public/simple/\n",
            "Collecting kaleido\n",
            "  Downloading kaleido-0.2.1-py2.py3-none-manylinux1_x86_64.whl (79.9 MB)\n",
            "\u001b[2K     \u001b[90m━━━━━━━━━━━━━━━━━━━━━━━━━━━━━━━━━━━━━━━━\u001b[0m \u001b[32m79.9/79.9 MB\u001b[0m \u001b[31m11.5 MB/s\u001b[0m eta \u001b[36m0:00:00\u001b[0m\n",
            "\u001b[?25hInstalling collected packages: kaleido\n",
            "Successfully installed kaleido-0.2.1\n"
          ]
        }
      ]
    },
    {
      "cell_type": "markdown",
      "source": [
        "## Obtención de datos\n",
        "\n",
        "Como fuera especificado anteriormente, el presente documento actualiza los datos publicados en el Boletín de Precios y Tarifas Públicas.\n",
        "\n",
        "La última publicación del Boletín (#13, de febrero del año 2023) actualiza los datos hasta diciembre del año 2022.\n",
        "\n",
        "Sin embargo, la publicación #13 discontinúa la Tabla 5: \"Precios y tarifas por bienes en valores constantes. Enero 2015 a septiembre 2022. Índices diciembre 2015 = 100\", de la cual se extraen los datos de los valores reales de las tarifas de servicios públicos.\n",
        "\n",
        "En este sentido, se utilizarán 2 archivos:\n",
        "*   la edición #12 del Boletín, publicada en octubre del año 2022 y actualizada hasta septiembre del mismo año: `url_boletin` refiere a este archivo.\n",
        "*   la edición #13 del Boletín, publicada en febrero del año 2023 y actualizada hasta diciembre del año 2022: `url_boletin_2022` refiere a este archivo."
      ],
      "metadata": {
        "id": "NHiSCjOEb_Mc"
      }
    },
    {
      "cell_type": "code",
      "source": [
        "url_boletin = \"https://www.mfp.econo.unlp.edu.ar/wp-content/uploads/2022/11/Boletin-no12-hasta-septiembre2022.pdf\""
      ],
      "metadata": {
        "id": "-mh8tX0-Cfzp"
      },
      "execution_count": 4,
      "outputs": []
    },
    {
      "cell_type": "code",
      "source": [
        "url_boletin_2022 = \"https://www.econo.unlp.edu.ar/frontend/media/20/27120/6d0b1a2497b9a322285ef588927f67e4.pdf\""
      ],
      "metadata": {
        "id": "WcH1ou1EC90S"
      },
      "execution_count": 5,
      "outputs": []
    },
    {
      "cell_type": "markdown",
      "source": [
        "Así, utilizando la *library* `tabula`, es posible crear dos archivos de lectura:\n",
        "*  `tarifas_historic`: se leen las páginas 18 a 20 del archivo referido en `url_boletin`.\n",
        "*  `tarifas_2022`: se lee la página 20 del archivo referido en `url_boletin_2022`."
      ],
      "metadata": {
        "id": "rozZXQKrfAFF"
      }
    },
    {
      "cell_type": "code",
      "source": [
        "tarifas_historic = tabula.read_pdf(url_boletin, pages=[18, 19, 20], pandas_options={'header': None})"
      ],
      "metadata": {
        "id": "0Btl9L9o-dF_"
      },
      "execution_count": 6,
      "outputs": []
    },
    {
      "cell_type": "code",
      "source": [
        "tarifas_2022 = tabula.read_pdf(url_boletin_2022, pages=[20], pandas_options={'header': None})"
      ],
      "metadata": {
        "id": "CTvwMS3SL9nx"
      },
      "execution_count": 7,
      "outputs": []
    },
    {
      "cell_type": "markdown",
      "source": [
        "## *Data cleaning*\n",
        "\n",
        "Tanto `tarifas_historic` como `tarifas_2022` son archivos en forma de lista, tal que sus *n* elementos interiores son *DataFrames*."
      ],
      "metadata": {
        "id": "T58zEXfDforV"
      }
    },
    {
      "cell_type": "markdown",
      "source": [
        "Para extraer eficientemente los datos deseados de dichos *DataFrames*, se comienza el proceso de *data cleaning* por `tarifas_historic`.\n",
        "\n",
        "En este sentido, se definen -para cada una de las páginas leídas (18, 19 y 20) las columnas que refieren a la electricidad (`columns_elec`) y al gas (`columns_gas`)."
      ],
      "metadata": {
        "id": "2riwDyZgi4yD"
      }
    },
    {
      "cell_type": "code",
      "source": [
        "columns_elec = [15, 11, 11]"
      ],
      "metadata": {
        "id": "gn5IBpUEkuXY"
      },
      "execution_count": 8,
      "outputs": []
    },
    {
      "cell_type": "code",
      "source": [
        "columns_gas = [17, 12, 12]"
      ],
      "metadata": {
        "id": "CNEJFIvBj4AB"
      },
      "execution_count": 9,
      "outputs": []
    },
    {
      "cell_type": "markdown",
      "source": [
        "Se crea un nuevo *DataFrame* vacío, `tarifas`, que servirá para adjuntar los datos finales."
      ],
      "metadata": {
        "id": "N7hSGY7PjZlV"
      }
    },
    {
      "cell_type": "code",
      "source": [
        "tarifas = pd.DataFrame()"
      ],
      "metadata": {
        "id": "oMyGcl5Bjnix"
      },
      "execution_count": 10,
      "outputs": []
    },
    {
      "cell_type": "markdown",
      "source": [
        "Iterando sobre los elementos interiores de `tarifas_historic`, y recordando que cada elemento interior es un *DataFrame* en particular, se extraen los valores del índice tarifario para la Electricidad y el Gas, se renombran las columnas y se adjuntan al *DataFrame* vacío (`tarifas`).\n",
        "\n",
        "La información adjunta a `tarifas` comprende los valores hasta julio del año 2022, que corresponde con el último dato de la hoja 20 (última hoja leída)."
      ],
      "metadata": {
        "id": "7kPY1foEjoMr"
      }
    },
    {
      "cell_type": "code",
      "source": [
        "for i, column_elec, column_gas in zip(range(3), columns_elec, columns_gas):\n",
        "  series = tarifas_historic[i].loc[0:, [column_elec, column_gas]]\n",
        "  series.columns = [\"Electricidad\", \"Gas\"]\n",
        "  tarifas = tarifas.append(series, ignore_index=True)"
      ],
      "metadata": {
        "id": "9SF42QT87WSI",
        "colab": {
          "base_uri": "https://localhost:8080/"
        },
        "outputId": "90b91ed6-b7e1-461c-8611-5c6bf80ca7e7"
      },
      "execution_count": 11,
      "outputs": [
        {
          "output_type": "stream",
          "name": "stderr",
          "text": [
            "<ipython-input-11-dd21523b59f8>:4: FutureWarning: The frame.append method is deprecated and will be removed from pandas in a future version. Use pandas.concat instead.\n",
            "  tarifas = tarifas.append(series, ignore_index=True)\n",
            "<ipython-input-11-dd21523b59f8>:4: FutureWarning: The frame.append method is deprecated and will be removed from pandas in a future version. Use pandas.concat instead.\n",
            "  tarifas = tarifas.append(series, ignore_index=True)\n",
            "<ipython-input-11-dd21523b59f8>:4: FutureWarning: The frame.append method is deprecated and will be removed from pandas in a future version. Use pandas.concat instead.\n",
            "  tarifas = tarifas.append(series, ignore_index=True)\n"
          ]
        }
      ]
    },
    {
      "cell_type": "markdown",
      "source": [
        "Se eliminan las primeras dos filas del *DataFrame* `tarifas` y se resetea el índice."
      ],
      "metadata": {
        "id": "Ez1WyOlPkIaF"
      }
    },
    {
      "cell_type": "code",
      "source": [
        "tarifas = tarifas[2:].reset_index(drop=True)"
      ],
      "metadata": {
        "id": "s0B2ZvDW7094"
      },
      "execution_count": 12,
      "outputs": []
    },
    {
      "cell_type": "markdown",
      "source": [
        "Ahora bien, el archivo `tarifas_2022` contiene un solo elemento interior, por lo que no se precisa iterar sobre él. En particular, se seleccionan las filas y columnas deseadas mediante el comando `.loc[row_indexer,col_indexer]` y se resetea el índice."
      ],
      "metadata": {
        "id": "oLV4eqRDkj9N"
      }
    },
    {
      "cell_type": "code",
      "source": [
        "tarifas_2022 = tarifas_2022[0].loc[20:,[9, 10]].reset_index(drop=True)"
      ],
      "metadata": {
        "id": "0kgLDofWlziu"
      },
      "execution_count": 13,
      "outputs": []
    },
    {
      "cell_type": "markdown",
      "source": [
        "Por error de lectura, la columna \"9\" conjuga 2 valores separados por un espacio, se utiliza `.str.split()` para separarlos y utilizar solamente el segundo valor."
      ],
      "metadata": {
        "id": "NvRGxLMWlWXW"
      }
    },
    {
      "cell_type": "code",
      "source": [
        "tarifas_2022[9] = tarifas_2022[9].str.split(' ', 2, expand=True)[1]"
      ],
      "metadata": {
        "id": "mdp5kB9DmdPr"
      },
      "execution_count": 14,
      "outputs": []
    },
    {
      "cell_type": "markdown",
      "source": [
        "Se actualizan los nombres de las columnas de `tarifas_2022`."
      ],
      "metadata": {
        "id": "nY99646Qltho"
      }
    },
    {
      "cell_type": "code",
      "source": [
        "tarifas_2022.columns = [\"Electricidad\", \"Gas\"]"
      ],
      "metadata": {
        "id": "VhaJVPInoI2c"
      },
      "execution_count": 15,
      "outputs": []
    },
    {
      "cell_type": "markdown",
      "source": [
        "La serie completa del índice tarifario (desde enero del año 2015 hasta el último dato publicado) surge de la concatenación vertical de los *DataFrames* `tarifas` y `tarifas_2022`."
      ],
      "metadata": {
        "id": "A58ZrfZEqHsw"
      }
    },
    {
      "cell_type": "code",
      "source": [
        "tarifas = pd.concat([tarifas, tarifas_2022])"
      ],
      "metadata": {
        "id": "1ZIUTJfCnus9"
      },
      "execution_count": 16,
      "outputs": []
    },
    {
      "cell_type": "markdown",
      "source": [
        "Los valores en `tarifas` son interpretados como cadenas de texto (`string`). Se actualiza su *type* mediante el comand `astype()`, siendo éste actualizado a `float`."
      ],
      "metadata": {
        "id": "-axCtlfimTc8"
      }
    },
    {
      "cell_type": "code",
      "source": [
        "for column in tarifas.columns:\n",
        "  tarifas[column] = tarifas[column].astype(float)"
      ],
      "metadata": {
        "id": "Mz-flLQcMwSg"
      },
      "execution_count": 17,
      "outputs": []
    },
    {
      "cell_type": "markdown",
      "source": [
        "Finalmente, se resetea el índice."
      ],
      "metadata": {
        "id": "oZnriC-wmz_1"
      }
    },
    {
      "cell_type": "code",
      "source": [
        "tarifas = tarifas.reset_index(drop=True)"
      ],
      "metadata": {
        "id": "fQHfWfV_fg8G"
      },
      "execution_count": 18,
      "outputs": []
    },
    {
      "cell_type": "markdown",
      "source": [
        "## Actualizaciones manuales\n",
        "\n",
        "Dado que el Boletín de Precios y Tarifas Públicas no es publicado mensualmente, la actualización mensual entre publicaciones debe efectuarse de forma manual.\n",
        "\n",
        "En este sentido, la presente sección actualiza el informe al mes de enero del año 2023."
      ],
      "metadata": {
        "id": "id7Uy3FZnJyf"
      }
    },
    {
      "cell_type": "markdown",
      "source": [
        "### Valor nominal: electricidad\n",
        "\n",
        "En este caso, el cálculo del valor nominal con impuestos para diciembre del año 2022 y para enero del año 2023 es igual."
      ],
      "metadata": {
        "id": "29ZegiVvoVET"
      }
    },
    {
      "cell_type": "code",
      "source": [
        "elec_dic_2022 = elec_ene_2023 = ((227.61+218.51)/2+(9.205+9.19)/2*450)*1.27"
      ],
      "metadata": {
        "id": "qwx4o9GPbmgh"
      },
      "execution_count": 19,
      "outputs": []
    },
    {
      "cell_type": "code",
      "source": [
        "elec_feb_2023 = ((227.61+218.51)/2+(12.05+12.035)/2*450)*1.27"
      ],
      "metadata": {
        "id": "7fEDuEENfUlF"
      },
      "execution_count": 20,
      "outputs": []
    },
    {
      "cell_type": "markdown",
      "source": [
        "Se definen los incrementos de electricidad."
      ],
      "metadata": {
        "id": "v9q9-25cfmSQ"
      }
    },
    {
      "cell_type": "code",
      "source": [
        "elec_incrementos = [elec_dic_2022, elec_ene_2023, elec_feb_2023]"
      ],
      "metadata": {
        "id": "lhyE1Pm9fekK"
      },
      "execution_count": 21,
      "outputs": []
    },
    {
      "cell_type": "markdown",
      "source": [
        "### Valor nominal: gas\n",
        "\n",
        "Se comienza calcular los Cargos Fijos (CF) para diciembre del año 2022 y enero del año 2023."
      ],
      "metadata": {
        "id": "0kpzQlpfojq2"
      }
    },
    {
      "cell_type": "code",
      "source": [
        "gas_CF_dic_2022 = gas_CF_ene_2023 = gas_CF_feb_2023 = np.mean([326.771, 345.795, 395.818, 448.19, 586.17, 681.289, 914.501, 1485.218])"
      ],
      "metadata": {
        "id": "jQIPs89Yb3Xn"
      },
      "execution_count": 22,
      "outputs": []
    },
    {
      "cell_type": "markdown",
      "source": [
        "Luego, se calcula el Costo Variable para cada uno de los meses"
      ],
      "metadata": {
        "id": "Xqp2BfpgpCcI"
      }
    },
    {
      "cell_type": "code",
      "source": [
        "gas_CV_dic_2022 = np.mean([23.791482, 24.96345, 24.099033, 24.450892, 25.026364])"
      ],
      "metadata": {
        "id": "HuLGtBHUcZfu"
      },
      "execution_count": 23,
      "outputs": []
    },
    {
      "cell_type": "code",
      "source": [
        "gas_CV_ene_2023 = np.mean([31.599572, 31.904435, 31.907123, 32.258982, 32.834454])"
      ],
      "metadata": {
        "id": "wLwyzDOaczGp"
      },
      "execution_count": 24,
      "outputs": []
    },
    {
      "cell_type": "code",
      "source": [
        "gas_CV_feb_2023 = np.mean([39.510395, 39.815258, 39.817946, 40.169805, 40.745277])"
      ],
      "metadata": {
        "id": "sWYtjsVwNi4K"
      },
      "execution_count": 25,
      "outputs": []
    },
    {
      "cell_type": "markdown",
      "source": [
        "El cálculo del valor nominal con impuestos se efectúa como una suma entre el Costo Fijo y 157 unidades del Costo Variable. Al resultado de la suma, se lo multiplica por 1.34, en concepto de impuestos."
      ],
      "metadata": {
        "id": "pnIi1dDMpJek"
      }
    },
    {
      "cell_type": "code",
      "source": [
        "gas_CF_CV_dic_2022 = (gas_CF_dic_2022 + gas_CV_dic_2022*157)*1.34"
      ],
      "metadata": {
        "id": "CbG5ZV5icZgv"
      },
      "execution_count": 26,
      "outputs": []
    },
    {
      "cell_type": "code",
      "source": [
        "gas_CF_CV_ene_2023 = (gas_CF_ene_2023 + gas_CV_ene_2023*157)*1.34"
      ],
      "metadata": {
        "id": "ZEUky0kIdJrt"
      },
      "execution_count": 27,
      "outputs": []
    },
    {
      "cell_type": "code",
      "source": [
        "gas_CF_CV_feb_2023 = (gas_CF_feb_2023 + gas_CV_feb_2023*157)*1.34"
      ],
      "metadata": {
        "id": "j_qEOQ16OA8Z"
      },
      "execution_count": 28,
      "outputs": []
    },
    {
      "cell_type": "markdown",
      "source": [
        "Se definen los incrementos de gas."
      ],
      "metadata": {
        "id": "-gcWkCzbfpc0"
      }
    },
    {
      "cell_type": "code",
      "source": [
        "gas_incrementos = [gas_CF_CV_dic_2022, gas_CF_CV_ene_2023, gas_CF_CV_feb_2023]"
      ],
      "metadata": {
        "id": "bqw0rOY9fqJ6"
      },
      "execution_count": 29,
      "outputs": []
    },
    {
      "cell_type": "markdown",
      "source": [
        "### Valor real\n",
        "\n",
        "Se comienza por explicitar los valores del nivel general del Índice de Precios al Consumidor (IPC) para la Región GBA para el mes de estudio (enero del año 2023) y el mes pasado (diciembre del año 2022)."
      ],
      "metadata": {
        "id": "2bDupoBLpgsi"
      }
    },
    {
      "cell_type": "code",
      "source": [
        "ipc_dic_2022, ipc_ene_2023, ipc_feb_2023 = 1114.5359, 1180.967, 1259.9952"
      ],
      "metadata": {
        "id": "emHwyuLka_zZ"
      },
      "execution_count": 30,
      "outputs": []
    },
    {
      "cell_type": "code",
      "source": [
        "ipc = [ipc_dic_2022, ipc_ene_2023, ipc_feb_2023]"
      ],
      "metadata": {
        "id": "O6pJYs5-g02o"
      },
      "execution_count": 31,
      "outputs": []
    },
    {
      "cell_type": "markdown",
      "source": [
        "Se crean cocientes de incrementos reales (nominales deflactados por el IPC), y se almacenan en la *nested list* `incremento_real`."
      ],
      "metadata": {
        "id": "ICiIWtlWpDKp"
      }
    },
    {
      "cell_type": "code",
      "source": [
        "incremento_real = [[], []]\n",
        "for i  in range(1, len(ipc)):\n",
        "  incremento_real[0].append((elec_incrementos[i]/elec_incrementos[i-1])/(ipc[i]/ipc[i-1]))\n",
        "  incremento_real[1].append((gas_incrementos[i]/gas_incrementos[i-1])/(ipc[i]/ipc[i-1]))"
      ],
      "metadata": {
        "id": "zHONXRwtg5Lc"
      },
      "execution_count": 32,
      "outputs": []
    },
    {
      "cell_type": "markdown",
      "source": [
        "## *DataFrame* final\n",
        "\n",
        "Los valores reales de las actualizaciones del índice tarifario son unidos al *DataFrame* final, `tarifas`."
      ],
      "metadata": {
        "id": "CkRhuWq0qRdR"
      }
    },
    {
      "cell_type": "code",
      "source": [
        "for i in range(0, len(incremento_real[0])):\n",
        "  tarifas.loc[len(tarifas)] = [tarifas[\"Electricidad\"].loc[len(tarifas)-1]*incremento_real[0][i], tarifas[\"Gas\"].loc[len(tarifas)-1]*incremento_real[1][i]]"
      ],
      "metadata": {
        "id": "HJl5dCMjjzg0"
      },
      "execution_count": 33,
      "outputs": []
    },
    {
      "cell_type": "markdown",
      "source": [
        "Se crea un índice temporal en la columna \"Período\"."
      ],
      "metadata": {
        "id": "AeL1wt9lqQWw"
      }
    },
    {
      "cell_type": "code",
      "source": [
        "tarifas[\"Período\"] = pd.date_range('01/01/2015', periods=len(tarifas), freq='MS')"
      ],
      "metadata": {
        "id": "SLXYEsMs3qb4"
      },
      "execution_count": 34,
      "outputs": []
    },
    {
      "cell_type": "markdown",
      "source": [
        "Se reordenan las columnas."
      ],
      "metadata": {
        "id": "8SRKSwEH91N-"
      }
    },
    {
      "cell_type": "code",
      "source": [
        "tarifas = tarifas[[\"Período\"]+tarifas.columns[0:2].tolist()]"
      ],
      "metadata": {
        "id": "gtjvx5zZ93ge"
      },
      "execution_count": 35,
      "outputs": []
    },
    {
      "cell_type": "markdown",
      "source": [
        "A continuación, se presentan las primeras 5 filas del *DataFrame*."
      ],
      "metadata": {
        "id": "SQq_EMXIqkPe"
      }
    },
    {
      "cell_type": "code",
      "source": [
        "tarifas.head()"
      ],
      "metadata": {
        "colab": {
          "base_uri": "https://localhost:8080/",
          "height": 206
        },
        "id": "RwKC59Iaqnpz",
        "outputId": "9dd3e689-921b-4767-971e-d86484d33c49"
      },
      "execution_count": 36,
      "outputs": [
        {
          "output_type": "execute_result",
          "data": {
            "text/plain": [
              "     Período  Electricidad    Gas\n",
              "0 2015-01-01         126.0  126.0\n",
              "1 2015-02-01         124.0  124.0\n",
              "2 2015-03-01         121.0  121.0\n",
              "3 2015-04-01         119.0  119.0\n",
              "4 2015-05-01         117.0  117.0"
            ],
            "text/html": [
              "\n",
              "  <div id=\"df-37a39279-7204-4933-a309-4b96eb3efd61\">\n",
              "    <div class=\"colab-df-container\">\n",
              "      <div>\n",
              "<style scoped>\n",
              "    .dataframe tbody tr th:only-of-type {\n",
              "        vertical-align: middle;\n",
              "    }\n",
              "\n",
              "    .dataframe tbody tr th {\n",
              "        vertical-align: top;\n",
              "    }\n",
              "\n",
              "    .dataframe thead th {\n",
              "        text-align: right;\n",
              "    }\n",
              "</style>\n",
              "<table border=\"1\" class=\"dataframe\">\n",
              "  <thead>\n",
              "    <tr style=\"text-align: right;\">\n",
              "      <th></th>\n",
              "      <th>Período</th>\n",
              "      <th>Electricidad</th>\n",
              "      <th>Gas</th>\n",
              "    </tr>\n",
              "  </thead>\n",
              "  <tbody>\n",
              "    <tr>\n",
              "      <th>0</th>\n",
              "      <td>2015-01-01</td>\n",
              "      <td>126.0</td>\n",
              "      <td>126.0</td>\n",
              "    </tr>\n",
              "    <tr>\n",
              "      <th>1</th>\n",
              "      <td>2015-02-01</td>\n",
              "      <td>124.0</td>\n",
              "      <td>124.0</td>\n",
              "    </tr>\n",
              "    <tr>\n",
              "      <th>2</th>\n",
              "      <td>2015-03-01</td>\n",
              "      <td>121.0</td>\n",
              "      <td>121.0</td>\n",
              "    </tr>\n",
              "    <tr>\n",
              "      <th>3</th>\n",
              "      <td>2015-04-01</td>\n",
              "      <td>119.0</td>\n",
              "      <td>119.0</td>\n",
              "    </tr>\n",
              "    <tr>\n",
              "      <th>4</th>\n",
              "      <td>2015-05-01</td>\n",
              "      <td>117.0</td>\n",
              "      <td>117.0</td>\n",
              "    </tr>\n",
              "  </tbody>\n",
              "</table>\n",
              "</div>\n",
              "      <button class=\"colab-df-convert\" onclick=\"convertToInteractive('df-37a39279-7204-4933-a309-4b96eb3efd61')\"\n",
              "              title=\"Convert this dataframe to an interactive table.\"\n",
              "              style=\"display:none;\">\n",
              "        \n",
              "  <svg xmlns=\"http://www.w3.org/2000/svg\" height=\"24px\"viewBox=\"0 0 24 24\"\n",
              "       width=\"24px\">\n",
              "    <path d=\"M0 0h24v24H0V0z\" fill=\"none\"/>\n",
              "    <path d=\"M18.56 5.44l.94 2.06.94-2.06 2.06-.94-2.06-.94-.94-2.06-.94 2.06-2.06.94zm-11 1L8.5 8.5l.94-2.06 2.06-.94-2.06-.94L8.5 2.5l-.94 2.06-2.06.94zm10 10l.94 2.06.94-2.06 2.06-.94-2.06-.94-.94-2.06-.94 2.06-2.06.94z\"/><path d=\"M17.41 7.96l-1.37-1.37c-.4-.4-.92-.59-1.43-.59-.52 0-1.04.2-1.43.59L10.3 9.45l-7.72 7.72c-.78.78-.78 2.05 0 2.83L4 21.41c.39.39.9.59 1.41.59.51 0 1.02-.2 1.41-.59l7.78-7.78 2.81-2.81c.8-.78.8-2.07 0-2.86zM5.41 20L4 18.59l7.72-7.72 1.47 1.35L5.41 20z\"/>\n",
              "  </svg>\n",
              "      </button>\n",
              "      \n",
              "  <style>\n",
              "    .colab-df-container {\n",
              "      display:flex;\n",
              "      flex-wrap:wrap;\n",
              "      gap: 12px;\n",
              "    }\n",
              "\n",
              "    .colab-df-convert {\n",
              "      background-color: #E8F0FE;\n",
              "      border: none;\n",
              "      border-radius: 50%;\n",
              "      cursor: pointer;\n",
              "      display: none;\n",
              "      fill: #1967D2;\n",
              "      height: 32px;\n",
              "      padding: 0 0 0 0;\n",
              "      width: 32px;\n",
              "    }\n",
              "\n",
              "    .colab-df-convert:hover {\n",
              "      background-color: #E2EBFA;\n",
              "      box-shadow: 0px 1px 2px rgba(60, 64, 67, 0.3), 0px 1px 3px 1px rgba(60, 64, 67, 0.15);\n",
              "      fill: #174EA6;\n",
              "    }\n",
              "\n",
              "    [theme=dark] .colab-df-convert {\n",
              "      background-color: #3B4455;\n",
              "      fill: #D2E3FC;\n",
              "    }\n",
              "\n",
              "    [theme=dark] .colab-df-convert:hover {\n",
              "      background-color: #434B5C;\n",
              "      box-shadow: 0px 1px 3px 1px rgba(0, 0, 0, 0.15);\n",
              "      filter: drop-shadow(0px 1px 2px rgba(0, 0, 0, 0.3));\n",
              "      fill: #FFFFFF;\n",
              "    }\n",
              "  </style>\n",
              "\n",
              "      <script>\n",
              "        const buttonEl =\n",
              "          document.querySelector('#df-37a39279-7204-4933-a309-4b96eb3efd61 button.colab-df-convert');\n",
              "        buttonEl.style.display =\n",
              "          google.colab.kernel.accessAllowed ? 'block' : 'none';\n",
              "\n",
              "        async function convertToInteractive(key) {\n",
              "          const element = document.querySelector('#df-37a39279-7204-4933-a309-4b96eb3efd61');\n",
              "          const dataTable =\n",
              "            await google.colab.kernel.invokeFunction('convertToInteractive',\n",
              "                                                     [key], {});\n",
              "          if (!dataTable) return;\n",
              "\n",
              "          const docLinkHtml = 'Like what you see? Visit the ' +\n",
              "            '<a target=\"_blank\" href=https://colab.research.google.com/notebooks/data_table.ipynb>data table notebook</a>'\n",
              "            + ' to learn more about interactive tables.';\n",
              "          element.innerHTML = '';\n",
              "          dataTable['output_type'] = 'display_data';\n",
              "          await google.colab.output.renderOutput(dataTable, element);\n",
              "          const docLink = document.createElement('div');\n",
              "          docLink.innerHTML = docLinkHtml;\n",
              "          element.appendChild(docLink);\n",
              "        }\n",
              "      </script>\n",
              "    </div>\n",
              "  </div>\n",
              "  "
            ]
          },
          "metadata": {},
          "execution_count": 36
        }
      ]
    },
    {
      "cell_type": "markdown",
      "source": [
        "Por último, se exporta el *DataFrame* en formato `.xlsx`."
      ],
      "metadata": {
        "id": "cVMsfhQgsh66"
      }
    },
    {
      "cell_type": "code",
      "source": [
        "tarifas.to_excel(\"Evolución del índice tarifario.xlsx\", index=False)"
      ],
      "metadata": {
        "id": "W8_etMnLsm13"
      },
      "execution_count": 37,
      "outputs": []
    },
    {
      "cell_type": "markdown",
      "source": [
        "## Figura: Evolución del índice tarifario\n",
        "\n",
        "Al tratarse de una sola figura, en este caso, no es necesario definir una función, sino que las especificaciones de la figura se encuentran en el argumento de ésta.\n",
        "\n",
        "Sin embargo, resulta eficiente crear una función para modificar el aspecto de la figura en general. Así, la función `tarifas_update_layout` contiene el código necesario para esta visualización.\n",
        "\n",
        "Sus parámetros son:\n",
        "*   `fig`: el nombre de la figura a utilizar.\n",
        "*   `df`: el *DataFrame* que contiene la información a graficar.\n",
        "*   `min`: valor mínimo del eje de ordenadas.\n",
        "*   `max`: valor máximo del eje de ordenadas.\n",
        "*   `title_text`: título del eje de ordenadas."
      ],
      "metadata": {
        "id": "9J0LHclftuz2"
      }
    },
    {
      "cell_type": "code",
      "source": [
        "def tarifas_update_layout(fig, df, min, max, title_text):\n",
        "  fig.update_layout(\n",
        "    plot_bgcolor = 'rgba(0,0,0,0)',\n",
        "    margin = dict(\n",
        "        b=15,\n",
        "        t=15,\n",
        "        l=15,\n",
        "        r=50\n",
        "    ),\n",
        "    legend = dict(\n",
        "        title = None,\n",
        "        orientation = 'h',\n",
        "        xanchor = 'center', \n",
        "        x = 0.5, \n",
        "        yanchor = 'bottom', \n",
        "        y = 1,\n",
        "        font = dict(\n",
        "            size = 16\n",
        "        )),\n",
        "    height = 750,\n",
        "    width = 1000,\n",
        "    xaxis = dict(\n",
        "        range = [df[\"Período\"][0], dt.date(df[\"Período\"][len(df)-1].year, df[\"Período\"][len(df)-1].month, 28)],\n",
        "        title = None,\n",
        "        tickformat = \"%m\\n<b>%Y\",\n",
        "        dtick = \"M3\",\n",
        "        tickangle = 0\n",
        "        ),\n",
        "    yaxis = dict(\n",
        "        range = [min, max],\n",
        "        dtick=100,\n",
        "        title = dict(\n",
        "            text=title_text\n",
        "            ),\n",
        "        showgrid=True,\n",
        "        gridcolor='lightgray'\n",
        "        ),\n",
        "    font = dict(\n",
        "        size = 14,\n",
        "        family = \"serif\"\n",
        "        )\n",
        "    )"
      ],
      "metadata": {
        "id": "RfOgTH3WuZtO"
      },
      "execution_count": 38,
      "outputs": []
    },
    {
      "cell_type": "markdown",
      "source": [
        "Se establece un color para cada servicio público."
      ],
      "metadata": {
        "id": "7MM-ykTy08ZR"
      }
    },
    {
      "cell_type": "code",
      "source": [
        "colors_servicio = ['rgb(127,60,141)', 'rgb(17,165,121)']"
      ],
      "metadata": {
        "id": "bjUbViMIPvhp"
      },
      "execution_count": 39,
      "outputs": []
    },
    {
      "cell_type": "markdown",
      "source": [
        "Se crea la figura `tarifas_fig` en el entorno de Plotly (utilizando `graph_objects` como `go`)."
      ],
      "metadata": {
        "id": "d87xbZ40sbJU"
      }
    },
    {
      "cell_type": "code",
      "source": [
        "tarifas_fig = go.Figure()"
      ],
      "metadata": {
        "id": "ApAYbbRosaRX"
      },
      "execution_count": 40,
      "outputs": []
    },
    {
      "cell_type": "markdown",
      "source": [
        "Las especificaciones de la figura se encuentran en su argumento, y se hace uso de la función `tarifas_update_layout` para modificar el aspecto de la figura en general."
      ],
      "metadata": {
        "id": "DQM8cRJlStxt"
      }
    },
    {
      "cell_type": "code",
      "source": [
        "for servicio, color in zip(tarifas.columns[1:], colors_servicio):\n",
        "  tarifas_fig.add_trace(\n",
        "        go.Scatter(\n",
        "            x=tarifas[\"Período\"],\n",
        "            y=tarifas[servicio],\n",
        "            mode='lines',\n",
        "            line=dict(color=color, width=2),\n",
        "            name=servicio\n",
        "        ))\n",
        "  tarifas_fig.add_trace(\n",
        "        go.Scatter(\n",
        "            showlegend=False,\n",
        "            x=tarifas[\"Período\"].tail(1),\n",
        "            y=tarifas[servicio].tail(1),\n",
        "            mode='markers',\n",
        "            marker=dict(color=color, size=10),\n",
        "            name=servicio+\" - EoP\"\n",
        "        )\n",
        "    )\n",
        "  tarifas_fig.add_annotation(\n",
        "        x=pd.to_datetime(tarifas[\"Período\"][-1:].values[0]),\n",
        "        y=tarifas[servicio][-1:].values[0],\n",
        "        text=round(tarifas[servicio][-1:].values[0], 1).astype(str),\n",
        "        font=dict(color=color),\n",
        "        xanchor=\"left\",\n",
        "        xshift=10,\n",
        "        yshift=0,\n",
        "        showarrow=False\n",
        "    )\n",
        "  \n",
        "tarifas_fig.add_trace(go.Scatter(\n",
        "    x=[tarifas['Período'][25], tarifas['Período'][25]],\n",
        "    y=[0, 1350],\n",
        "    mode='lines+text',\n",
        "    line=dict(color='lightgray', width=2, dash='dash'),\n",
        "    text=\"cambio de tarificación - electricidad\",\n",
        "    textposition='top center',\n",
        "    textfont=dict(color='gray'),\n",
        "    showlegend=False\n",
        "))\n",
        "\n",
        "tarifas_update_layout(tarifas_fig, tarifas, 50, 1410, \"<b>Índice (base dic. 2015 = 100)\")"
      ],
      "metadata": {
        "id": "yrbeKyzOvm5Z"
      },
      "execution_count": 41,
      "outputs": []
    },
    {
      "cell_type": "markdown",
      "source": [
        "A continuación, se exhibe la figura."
      ],
      "metadata": {
        "id": "B74BAcxwTE2d"
      }
    },
    {
      "cell_type": "code",
      "source": [
        "tarifas_fig.show(\"png\")"
      ],
      "metadata": {
        "colab": {
          "base_uri": "https://localhost:8080/",
          "height": 767
        },
        "id": "PI4beg5fOVN4",
        "outputId": "dc5059c4-6227-4283-cc40-02180bebff24"
      },
      "execution_count": 42,
      "outputs": [
        {
          "output_type": "display_data",
          "data": {
            "image/png": "[encoded data removed]"
          },
          "metadata": {}
        }
      ]
    },
    {
      "cell_type": "markdown",
      "source": [
        "Si se desea exportar la figura a formato `.pdf`, se debe des-comentar y ejecutar la siguiente celda. Recuérdese que el *package* `kaleido` debe estar correctamente instalado."
      ],
      "metadata": {
        "id": "d1_-judj2M7B"
      }
    },
    {
      "cell_type": "code",
      "source": [
        "pio.write_image(tarifas_fig, \"Figura Tarifas.pdf\", width=3*300, height=2.25*300)"
      ],
      "metadata": {
        "id": "vq7xkvsnvm8E"
      },
      "execution_count": 43,
      "outputs": []
    }
  ]
}
